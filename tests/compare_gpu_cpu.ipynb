{
 "cells": [
  {
   "cell_type": "code",
   "execution_count": 1,
   "id": "looking-embassy",
   "metadata": {},
   "outputs": [],
   "source": [
    "import torch\n",
    "from flytracker.io.dataset import DataLoader\n",
    "\n",
    "from flytracker.tracker import _initialize, _localize\n",
    "from flytracker.preprocessing.preprocessing import (\n",
    "    preprocessing_kmeans,\n",
    "    preprocessing_blob,\n",
    ")\n",
    "from flytracker.localization.blob import localize_blob, default_blob_detector_params\n",
    "from flytracker.localization.kmeans import (\n",
    "    localize_kmeans_torch,\n",
    "    localize_kmeans_sklearn,\n",
    ")\n",
    "from time import time\n",
    "import numpy as np\n",
    "%load_ext autoreload\n",
    "%autoreload 2"
   ]
  },
  {
   "cell_type": "code",
   "execution_count": 2,
   "id": "difficult-despite",
   "metadata": {},
   "outputs": [
    {
     "data": {
      "text/plain": [
       "'/home/gert-jan/Documents/flyTracker/tests'"
      ]
     },
     "execution_count": 2,
     "metadata": {},
     "output_type": "execute_result"
    }
   ],
   "source": [
    "%pwd"
   ]
  },
  {
   "cell_type": "code",
   "execution_count": 3,
   "id": "affiliated-contamination",
   "metadata": {},
   "outputs": [
    {
     "name": "stdout",
     "output_type": "stream",
     "text": [
      "/home/gert-jan/Documents/flyTracker\n"
     ]
    }
   ],
   "source": [
    "%cd \"/home/gert-jan/Documents/flyTracker/\""
   ]
  },
  {
   "cell_type": "code",
   "execution_count": 4,
   "id": "charitable-syndrome",
   "metadata": {},
   "outputs": [
    {
     "data": {
      "text/plain": [
       "'/home/gert-jan/Documents/flyTracker'"
      ]
     },
     "execution_count": 4,
     "metadata": {},
     "output_type": "execute_result"
    }
   ],
   "source": [
    "%pwd"
   ]
  },
  {
   "cell_type": "code",
   "execution_count": 5,
   "id": "french-maine",
   "metadata": {},
   "outputs": [],
   "source": [
    "movie_path = \"data/experiments/bruno/videos/seq_1.mp4\"\n",
    "n_frames = 5000\n",
    "\n",
    "mask = torch.ones((1080, 1280), dtype=bool)\n",
    "mask[:130, :] = 0\n",
    "mask[-160:, :] = 0\n",
    "mask[:, :270] = 0\n",
    "mask[:, -205:] = 0\n",
    "\n",
    "mask[:190, :350] = 0\n",
    "mask[:195, -270:] = 0\n",
    "mask[-220:, :340] = 0\n",
    "mask[870:, 1010:] = 0"
   ]
  },
  {
   "cell_type": "code",
   "execution_count": 9,
   "id": "critical-capture",
   "metadata": {},
   "outputs": [
    {
     "name": "stdout",
     "output_type": "stream",
     "text": [
      "Done with frame 0\n",
      "Done with frame 1000\n",
      "Done with frame 2000\n",
      "Done with frame 3000\n",
      "Done with frame 4000\n",
      "Done with frame 5000\n",
      "Time for GPU run: 15.269138813018799s\n"
     ]
    }
   ],
   "source": [
    "# Running parallel gpu\n",
    "start = time()\n",
    "loader = DataLoader(movie_path, parallel=True)\n",
    "\n",
    "preprocessor_ini = preprocessing_blob(mask)\n",
    "localize_ini = localize_blob(default_blob_detector_params())\n",
    "initial_position, initial_frame = _initialize(\n",
    "    loader, preprocessor_ini, localize_ini, 100\n",
    ")\n",
    "\n",
    "preprocessor_main = preprocessing_kmeans(mask, device=\"cuda\")\n",
    "localize_main = localize_kmeans_torch(120, 1e-4, \"cuda\")\n",
    "locs_gpu = _localize(\n",
    "    loader, preprocessor_main, localize_main, initial_position, n_frames, \"cuda\"\n",
    ")\n",
    "loader.dataset.reader.stop()\n",
    "stop = time()\n",
    "print(f\"Time for GPU run: {stop - start}s\")"
   ]
  },
  {
   "cell_type": "code",
   "execution_count": 8,
   "id": "respected-athletics",
   "metadata": {},
   "outputs": [],
   "source": [
    "loader.dataset.reader.stop()"
   ]
  },
  {
   "cell_type": "markdown",
   "id": "indirect-screw",
   "metadata": {},
   "source": [
    "Now for the cpu:"
   ]
  },
  {
   "cell_type": "code",
   "execution_count": 7,
   "id": "numerical-bridge",
   "metadata": {},
   "outputs": [
    {
     "name": "stdout",
     "output_type": "stream",
     "text": [
      "Done with frame 0\n",
      "Done with frame 1000\n",
      "Done with frame 2000\n",
      "Done with frame 3000\n",
      "Done with frame 4000\n",
      "Done with frame 5000\n",
      "Time for CPU run: 43.508383989334106s\n"
     ]
    }
   ],
   "source": [
    "# Running parallel sklearn\n",
    "# cpu version doesn't work with parallel laoding for some reason\n",
    "start = time()\n",
    "dataset = VideoDataset(movie_path, parallel=False)\n",
    "loader = DataLoader(dataset, batch_size=None, pin_memory=True)\n",
    "\n",
    "preprocessor_ini = preprocessing_blob(mask)\n",
    "localize_ini = localize_blob(default_blob_detector_params())\n",
    "initial_position, initial_frame = _initialize(\n",
    "    loader, preprocessor_ini, localize_ini, 100\n",
    ")\n",
    "\n",
    "preprocessor_main = preprocessing_kmeans(mask, device=\"cpu\")\n",
    "localize_main = localize_kmeans_sklearn(120, 1e-4)\n",
    "locs_cpu = _localize(\n",
    "    loader, preprocessor_main, localize_main, initial_position, n_frames, \"cpu\"\n",
    ")\n",
    "stop = time()\n",
    "print(f\"Time for CPU run: {stop - start}s\")\n"
   ]
  },
  {
   "cell_type": "code",
   "execution_count": 9,
   "id": "arctic-religion",
   "metadata": {},
   "outputs": [
    {
     "data": {
      "text/plain": [
       "1.607823689778911"
      ]
     },
     "execution_count": 9,
     "metadata": {},
     "output_type": "execute_result"
    }
   ],
   "source": [
    "np.max(np.stack(locs_cpu) - torch.stack(locs_gpu).cpu().numpy())"
   ]
  },
  {
   "cell_type": "code",
   "execution_count": null,
   "id": "unlimited-consensus",
   "metadata": {},
   "outputs": [],
   "source": []
  }
 ],
 "metadata": {
  "kernelspec": {
   "display_name": "Python 3",
   "language": "python",
   "name": "python3"
  },
  "language_info": {
   "codemirror_mode": {
    "name": "ipython",
    "version": 3
   },
   "file_extension": ".py",
   "mimetype": "text/x-python",
   "name": "python",
   "nbconvert_exporter": "python",
   "pygments_lexer": "ipython3",
   "version": "3.8.3"
  }
 },
 "nbformat": 4,
 "nbformat_minor": 5
}
