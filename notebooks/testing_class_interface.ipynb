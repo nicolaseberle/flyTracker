{
 "cells": [
  {
   "cell_type": "code",
   "execution_count": 1,
   "metadata": {},
   "outputs": [],
   "source": [
    "from flytracker.flytracker import FlyTracker\n",
    "from flytracker.preprocessing import OriginalPreprocessing\n",
    "from flytracker.localizing import OriginalLocalising\n",
    "\n",
    "%load_ext autoreload\n",
    "%autoreload 2"
   ]
  },
  {
   "cell_type": "code",
   "execution_count": 9,
   "metadata": {},
   "outputs": [],
   "source": [
    "tracker = FlyTracker(OriginalPreprocessing(), OriginalLocalising())"
   ]
  },
  {
   "cell_type": "code",
   "execution_count": 19,
   "metadata": {},
   "outputs": [
    {
     "name": "stdout",
     "output_type": "stream",
     "text": [
      "Done with frame 0.0\n",
      "Done with frame 10.0\n",
      "Done with frame 20.0\n",
      "Done with frame 30.0\n",
      "Done with frame 40.0\n",
      "Done with frame 50.0\n",
      "Done with frame 60.0\n",
      "Done with frame 70.0\n",
      "Done with frame 80.0\n",
      "Done with frame 90.0\n",
      "CPU times: user 1.69 s, sys: 76.7 ms, total: 1.77 s\n",
      "Wall time: 1.25 s\n"
     ]
    }
   ],
   "source": [
    "%%time\n",
    "video_path = '/Users/gert-janboth/Documents/flyTracker/data/movies/short_test.mp4'\n",
    "output_folder = '/Users/gert-janboth/Documents/flyTracker/data/movies/'\n",
    "locations = tracker.run_pipeline(video_path, output_folder)"
   ]
  },
  {
   "cell_type": "code",
   "execution_count": 17,
   "metadata": {},
   "outputs": [
    {
     "data": {
      "text/plain": [
       "(100, 1, 1, 24)"
      ]
     },
     "execution_count": 17,
     "metadata": {},
     "output_type": "execute_result"
    }
   ],
   "source": [
    "locations.shape"
   ]
  },
  {
   "cell_type": "code",
   "execution_count": 18,
   "metadata": {},
   "outputs": [
    {
     "data": {
      "text/plain": [
       "(1, 1, 24)"
      ]
     },
     "execution_count": 18,
     "metadata": {},
     "output_type": "execute_result"
    }
   ],
   "source": [
    "locations[0].shape"
   ]
  },
  {
   "cell_type": "code",
   "execution_count": null,
   "metadata": {},
   "outputs": [],
   "source": []
  }
 ],
 "metadata": {
  "kernelspec": {
   "display_name": "Python 3",
   "language": "python",
   "name": "python3"
  },
  "language_info": {
   "codemirror_mode": {
    "name": "ipython",
    "version": 3
   },
   "file_extension": ".py",
   "mimetype": "text/x-python",
   "name": "python",
   "nbconvert_exporter": "python",
   "pygments_lexer": "ipython3",
   "version": "3.7.6"
  }
 },
 "nbformat": 4,
 "nbformat_minor": 4
}
