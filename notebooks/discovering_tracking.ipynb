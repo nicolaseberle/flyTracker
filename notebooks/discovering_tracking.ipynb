{
 "cells": [
  {
   "cell_type": "code",
   "execution_count": 1,
   "metadata": {},
   "outputs": [],
   "source": [
    "import numpy as np"
   ]
  },
  {
   "cell_type": "code",
   "execution_count": 5,
   "metadata": {},
   "outputs": [],
   "source": [
    "# Loading data\n",
    "path = '/Users/gert-janboth/Documents/flyTracker/data/movies/locations.npy'\n",
    "locations = np.load(path)"
   ]
  },
  {
   "cell_type": "code",
   "execution_count": 4,
   "metadata": {},
   "outputs": [
    {
     "data": {
      "text/plain": [
       "(100, 1, 1, 24)"
      ]
     },
     "execution_count": 4,
     "metadata": {},
     "output_type": "execute_result"
    }
   ],
   "source": [
    "locations.shape"
   ]
  },
  {
   "cell_type": "code",
   "execution_count": 12,
   "metadata": {},
   "outputs": [],
   "source": [
    "frame_0 = locations[0, :, :, :]\n",
    "frame_1 = locations[1, :, :, :]"
   ]
  },
  {
   "cell_type": "code",
   "execution_count": 13,
   "metadata": {},
   "outputs": [],
   "source": [
    "current_plot = frame_0\n",
    "current_date = 0"
   ]
  },
  {
   "cell_type": "code",
   "execution_count": 16,
   "metadata": {},
   "outputs": [],
   "source": [
    "class Plot(object):\n",
    "    def __init__(self):\n",
    "        self.has_match = False\n",
    "        self.plot = np.empty((0,1,51), dtype='float32')#pos_x,pos_y,orientation_rad,surface_pixel\n",
    "        self.date = None\n",
    "\n",
    "    def add_to_plot(self, _plot, _date):\n",
    "        self.plot = _plot\n",
    "        self.date = _date"
   ]
  },
  {
   "cell_type": "code",
   "execution_count": 17,
   "metadata": {},
   "outputs": [
    {
     "name": "stdout",
     "output_type": "stream",
     "text": [
      "(1, 1, 24)\n"
     ]
    }
   ],
   "source": [
    "plots = []\n",
    "print(current_plot.shape)\n",
    "for _plot in current_plot:\n",
    "    p = Plot()\n",
    "    p.add_to_plot(_plot,current_date)\n",
    "    plots.append(p)"
   ]
  },
  {
   "cell_type": "code",
   "execution_count": null,
   "metadata": {},
   "outputs": [],
   "source": [
    "tracks = []"
   ]
  },
  {
   "cell_type": "code",
   "execution_count": 18,
   "metadata": {},
   "outputs": [
    {
     "ename": "NameError",
     "evalue": "name 'self' is not defined",
     "output_type": "error",
     "traceback": [
      "\u001b[0;31m---------------------------------------------------------------------------\u001b[0m",
      "\u001b[0;31mNameError\u001b[0m                                 Traceback (most recent call last)",
      "\u001b[0;32m<ipython-input-18-1e287b41c072>\u001b[0m in \u001b[0;36m<module>\u001b[0;34m\u001b[0m\n\u001b[0;32m----> 1\u001b[0;31m \u001b[0;32mif\u001b[0m \u001b[0mlen\u001b[0m\u001b[0;34m(\u001b[0m\u001b[0mself\u001b[0m\u001b[0;34m.\u001b[0m\u001b[0mtracks\u001b[0m\u001b[0;34m)\u001b[0m \u001b[0;34m==\u001b[0m \u001b[0;36m0\u001b[0m\u001b[0;34m:\u001b[0m\u001b[0;34m\u001b[0m\u001b[0;34m\u001b[0m\u001b[0m\n\u001b[0m\u001b[1;32m      2\u001b[0m     \u001b[0;32mfor\u001b[0m \u001b[0m_plot\u001b[0m \u001b[0;32min\u001b[0m \u001b[0mcurrent_plot\u001b[0m\u001b[0;34m:\u001b[0m\u001b[0;34m\u001b[0m\u001b[0;34m\u001b[0m\u001b[0m\n\u001b[1;32m      3\u001b[0m         \u001b[0mt\u001b[0m \u001b[0;34m=\u001b[0m \u001b[0mTrack\u001b[0m\u001b[0;34m(\u001b[0m\u001b[0mself\u001b[0m\u001b[0;34m.\u001b[0m\u001b[0mindiceTrack\u001b[0m\u001b[0;34m)\u001b[0m\u001b[0;34m\u001b[0m\u001b[0;34m\u001b[0m\u001b[0m\n\u001b[1;32m      4\u001b[0m         \u001b[0mp_\u001b[0m \u001b[0;34m=\u001b[0m \u001b[0mPlot\u001b[0m\u001b[0;34m(\u001b[0m\u001b[0;34m)\u001b[0m\u001b[0;34m\u001b[0m\u001b[0;34m\u001b[0m\u001b[0m\n\u001b[1;32m      5\u001b[0m         \u001b[0mp_\u001b[0m\u001b[0;34m.\u001b[0m\u001b[0madd_to_plot\u001b[0m\u001b[0;34m(\u001b[0m\u001b[0m_plot\u001b[0m\u001b[0;34m,\u001b[0m\u001b[0mcurrent_date\u001b[0m\u001b[0;34m)\u001b[0m\u001b[0;34m\u001b[0m\u001b[0;34m\u001b[0m\u001b[0m\n",
      "\u001b[0;31mNameError\u001b[0m: name 'self' is not defined"
     ]
    }
   ],
   "source": [
    "if len(self.tracks) == 0:\n",
    "    for _plot in current_plot:\n",
    "        t = Track(self.indiceTrack)\n",
    "        p_ = Plot()\n",
    "        p_.add_to_plot(_plot,current_date)\n",
    "        t.add_to_track(p_)\n",
    "        self.tracks.append(t)\n",
    "        self.indiceTrack += 1\n",
    "#return True"
   ]
  },
  {
   "cell_type": "code",
   "execution_count": null,
   "metadata": {},
   "outputs": [],
   "source": []
  },
  {
   "cell_type": "code",
   "execution_count": null,
   "metadata": {},
   "outputs": [],
   "source": []
  },
  {
   "cell_type": "code",
   "execution_count": null,
   "metadata": {},
   "outputs": [],
   "source": []
  },
  {
   "cell_type": "code",
   "execution_count": null,
   "metadata": {},
   "outputs": [],
   "source": []
  },
  {
   "cell_type": "code",
   "execution_count": null,
   "metadata": {},
   "outputs": [],
   "source": [
    " def update_tracks(self, current_plot, current_date):\n",
    "        plots = []\n",
    "        print(current_plot.shape)\n",
    "        for _plot in current_plot:\n",
    "                p = Plot()\n",
    "                p.add_to_plot(_plot,current_date)\n",
    "                plots.append(p)\n",
    "                \n",
    "        # if there are no tracks yet, all detections are new tracks\n",
    "        if len(self.tracks) == 0:\n",
    "            for _plot in current_plot:\n",
    "                t = Track(self.indiceTrack)\n",
    "                p_ = Plot()\n",
    "                p_.add_to_plot(_plot,current_date)\n",
    "                t.add_to_track(p_)\n",
    "                self.tracks.append(t)\n",
    "                self.indiceTrack += 1\n",
    "            return True\n",
    "        #init of dist : the distance matrix between current_plot and the plots of tracks\n",
    "        dists = np.zeros(shape=(len(self.tracks), len(plots)))\n",
    "        distsArea = np.zeros(shape=(len(self.tracks), len(plots)))\n",
    "        if const.VERBOSE_LIGHT is True:\n",
    "            print('nb tracks  ' + str(len(self.tracks)))\n",
    "            print('nb plots ' + str(len(plots)))\n",
    "\n",
    "        #compute the distance matrix between current_plot and the plots of tracks\n",
    "        for i, track in enumerate(self.tracks):\n",
    "            for j, _plot in enumerate(plots):\n",
    "\n",
    "                dist = np.linalg.norm(_plot.plot[0][:2]-track.plot[0][:2])#ONLY X,Y NO AREA, NO ANGLE\n",
    "\n",
    "                distArea = np.linalg.norm(_plot.plot[0][3]-track.plot[0][3])#ONLY AREA\n",
    "                if track.is_singular():\n",
    "                    max_dist = track.roi_of_search#const.MAX_PIXELS_DIST_TRACK_START\n",
    "                else:\n",
    "                    max_dist = track.roi_of_search#const.MAX_PIXELS_DIST_TRACK\n",
    "\n",
    "                if dist > max_dist:\n",
    "                    dist = 1e6  # set to arbitrarily high number\n",
    "\n",
    "                dists[i, j] = dist\n",
    "                distsArea[i, j] = distArea\n",
    "\n",
    "        if const.VERBOSE_FULL is True:\n",
    "            print(dists)\n",
    "            print(distsArea )\n",
    "\n",
    "        for t in self.tracks:\n",
    "            t.has_match = False\n",
    "\n",
    "        # assign all detections to tracks with munkres algorithm\n",
    "        assigned_rows, assigned_cols = linear_sum_assignment(dists)\n",
    "        for idx, row in enumerate(assigned_rows):\n",
    "            col = assigned_cols[idx]\n",
    "            # if track is assigned a detection with dist=1e6, discard that assignment\n",
    "            if dists[row, col] != 1e6:\n",
    "                self.tracks[row].has_match = True\n",
    "                plots[col].has_match = True\n",
    "                self.tracks[row].add_to_track(plots[col])\n",
    "                self.tracks[row].num_misses = 0\n",
    "                self.tracks[row].area = plots[col].plot[0][3]\n",
    "                self.tracks[row].flag_cluster = False\n",
    "                self.tracks[row].updateStatus()\n",
    "\n",
    "\n",
    "        # create new tracks from unassigned detections:\n",
    "        for _plot in plots:\n",
    "\n",
    "            if _plot.has_match is False and _plot.plot[0][3]>20 and self.indiceFrame < 100 :\n",
    "                if const.VERBOSE_LIGHT is True:\n",
    "                    print(\"create new tracks from unassigned plot \")\n",
    "\n",
    "                new_track = Track(self.indiceTrack)\n",
    "                new_track.add_to_track(_plot)\n",
    "                self.tracks.append(new_track)\n",
    "                self.indiceTrack += 1\n",
    "\n",
    "        #manage the cluster with unassigned tracks inside it\n",
    "        for t in self.tracks:\n",
    "            if t.has_match is True:\n",
    "                liste_track_no_assigned = []\n",
    "                liste_track_no_assigned.append(t)\n",
    "                #we look for unassigned tracks around a matched track\n",
    "                for _t in self.tracks:\n",
    "                    ellipse = t.plot[0][4:9]\n",
    "                    if  t.label!=_t.label and _t.has_match is False \\\n",
    "                                    and self.indiceFrame>1 and t.is_singular() == False \\\n",
    "                                        and (t.plot[0][3] > 1.3*t.old_plot[0][3] or t.flag_cluster == True or _t.flag_cluster==True):\n",
    "                        if util.testPtsInEllipse(ellipse,_t.plot,_t.speed,const.FPS) is True:\n",
    "                            liste_track_no_assigned.append(_t)\n",
    "                            if const.VERBOSE_FULL is True:\n",
    "                                print('autour de ' + str(t.label) +  'track ' + str(_t.label) + ' non assigné')\n",
    "\n",
    "                #some tracks have been found\n",
    "                n = len(liste_track_no_assigned)\n",
    "                if n > 1:#>1 because we add at the beginning the matched track\n",
    "                    t.flag_cluster = True\n",
    "# a relire\n",
    "                    for i__ in range(n):\n",
    "                        if liste_track_no_assigned[i__].nbplot>2 :\n",
    "                            liste_track_no_assigned[0].plot[0][:2] = liste_track_no_assigned[0].old_plot[0][:2]\n",
    "                            print(\"INIT Cluster Track\",liste_track_no_assigned[i__].old_plot[0][:2],liste_track_no_assigned[i__].plot[0][:2])\n",
    "#\n",
    "                    #we load the n centroids from kmean of the cluster track. n = number of unassigned tracks in the cluster\n",
    "                    p = np.empty(shape=(n,3), dtype='float32')\n",
    "                    #offset pour récupérer les centres issus du Kmean\n",
    "                    offset = 6\n",
    "                    for iteration in range(1,n):\n",
    "                        offset = offset + 3*(n-iteration)\n",
    "                    for k in range(n):\n",
    "                        p[k][:3] = t.plot[0][offset+k*3:offset+(k+1)*3]\n",
    "                    dists = np.zeros(shape=(n, n))\n",
    "\n",
    "                    for j in range(n):\n",
    "                        for i,_t in enumerate(liste_track_no_assigned):\n",
    "\n",
    "                            dt = 1/const.FPS\n",
    "                            #attention old_plot n'existe pas forcément à la deuxième itération\n",
    "                            estime_current_plot = _t.old_plot[0][:2]+_t.speed[0][:2]*dt\n",
    "                            dists[i,j] = np.linalg.norm(p[j][:2]-estime_current_plot)\n",
    "                            #dists[i,j] = np.linalg.norm(p[j][:2]-_t.old_plot[0][:2])\n",
    "                            if const.VERBOSE_FULL is True:\n",
    "                                print(i,j,dists[i,j])\n",
    "\n",
    "                    assigned_rows, assigned_cols = linear_sum_assignment(dists)\n",
    "\n",
    "                    for idx, row in enumerate(assigned_rows):\n",
    "\n",
    "                        col = assigned_cols[idx]\n",
    "                        p_ = np.copy(liste_track_no_assigned[row].plot)\n",
    "                        p_[0][:2] = p[col][:2]\n",
    "                        p_[0][3] = p[col][2]\n",
    "                        p__ = Plot()\n",
    "                        p__.add_to_plot(p_,current_date)\n",
    "\n",
    "                        if const.VERBOSE_FULL is True:\n",
    "                            print(row,col,' track ' + str(liste_track_no_assigned[row].label) + ' ' + str(liste_track_no_assigned[row].old_plot[0][0]) + ','+ str(liste_track_no_assigned[row].old_plot[0][1]) + ' -> ' + str(p_[0][0]) + ',' + str(p_[0][1]))\n",
    "                        plots.append(p_)\n",
    "                        liste_track_no_assigned[row].has_match = True\n",
    "\n",
    "                        #liste_track_no_assigned[row].plot = liste_track_no_assigned[row].old_plot\n",
    "                        liste_track_no_assigned[row].num_misses = 0\n",
    "                        liste_track_no_assigned[row].flag_cluster = True\n",
    "                        liste_track_no_assigned[row].add_to_track(p__)\n",
    "                        liste_track_no_assigned[row].updateStatus()\n",
    "                        liste_track_no_assigned[row].area = p_[0][3]\n",
    "\n",
    "        # keep track of how many times a track has gone unassigned\n",
    "        for t in self.tracks:\n",
    "            if t.has_match is False and self.indiceFrame>1 and t.is_singular() == False:\n",
    "                #INCREASE THE ROI OF SEARCH THE PLOT\n",
    "                if t.roi_of_search > const.MAX_PIXELS_DIST_TRACK*3:\n",
    "                    t.roi_of_search = const.MAX_PIXELS_DIST_TRACK*3\n",
    "                else:\n",
    "                    t.roi_of_search = t.roi_of_search + 5\n",
    "\n",
    "        # cleanup any duplicate tracks that have formed (TODO: how do they form?)\n",
    "        self.__delete_duplicate_tracks()\n",
    "        self.tracks = [t for t in self.tracks if (t.is_dead() is False and t.delete_me is False)]\n",
    "\n",
    "        self.indiceFrame += 1\n",
    "        return True"
   ]
  }
 ],
 "metadata": {
  "kernelspec": {
   "display_name": "Python 3",
   "language": "python",
   "name": "python3"
  },
  "language_info": {
   "codemirror_mode": {
    "name": "ipython",
    "version": 3
   },
   "file_extension": ".py",
   "mimetype": "text/x-python",
   "name": "python",
   "nbconvert_exporter": "python",
   "pygments_lexer": "ipython3",
   "version": "3.7.6"
  }
 },
 "nbformat": 4,
 "nbformat_minor": 4
}
