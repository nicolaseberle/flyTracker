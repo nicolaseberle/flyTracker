{
 "cells": [
  {
   "cell_type": "code",
   "execution_count": 2,
   "id": "anonymous-vacuum",
   "metadata": {},
   "outputs": [],
   "source": [
    "import numpy as np\n",
    "import cv2\n",
    "from flytracker.annotating import (\n",
    "    parse_data,\n",
    "    setup_loader,\n",
    "    setup_writer,\n",
    "    add_frame_info,\n",
    "    write_ID,\n",
    ")\n",
    "\n",
    "from itertools import count"
   ]
  },
  {
   "cell_type": "code",
   "execution_count": 3,
   "id": "engaging-green",
   "metadata": {},
   "outputs": [],
   "source": [
    "# %% Settings\n",
    "movie_loc = \"../data/testing_data/bruno/seq_1.mp4\"\n",
    "output_loc = \"annotated_video.mp4\"\n",
    "df_loc = \"../tests/bruno/df_new.hdf\"\n",
    "mapping_folder = \"../data/distortion_maps/\"\n",
    "touching_distance = 12"
   ]
  },
  {
   "cell_type": "code",
   "execution_count": 4,
   "id": "brief-olympus",
   "metadata": {},
   "outputs": [],
   "source": [
    "data = parse_data(df_loc)\n",
    "initial_frame = data[0, 0, 0]\n",
    "# plus 1 for intiial frame since we plot (n-1, n)\n",
    "loader, image_size = setup_loader(\n",
    "    movie_loc, mapping_folder, initial_frame=(initial_frame + 1)\n",
    ")\n",
    "writer = setup_writer(output_loc, image_size, fps=30)\n",
    "mask = np.zeros((*image_size[::-1], 3), dtype=np.uint8)  # TODO: Check different shapes\n",
    "\n",
    "\n",
    "max_frames = 1000\n",
    "length = 1"
   ]
  },
  {
   "cell_type": "code",
   "execution_count": 11,
   "id": "swedish-child",
   "metadata": {},
   "outputs": [
    {
     "data": {
      "text/plain": [
       "[array([[    99,      0,    869,    456,      0],\n",
       "        [    99,      1,    974,    342,      0],\n",
       "        [    99,      2,    958,    336,      0],\n",
       "        ...,\n",
       "        [108053,      7,    968,    369,      0],\n",
       "        [108053,      8,    895,    306,      0],\n",
       "        [108053,      9,    785,    436,      0]]),\n",
       " array([[    99,     10,    465,    819,      1],\n",
       "        [    99,     11,    540,    633,      1],\n",
       "        [    99,     12,    552,    627,      1],\n",
       "        ...,\n",
       "        [108053,     17,    536,    824,      1],\n",
       "        [108053,     18,    591,    632,      1],\n",
       "        [108053,     19,    522,    811,      1]]),\n",
       " array([[    99,     20,    501,    214,      2],\n",
       "        [    99,     21,    374,    322,      2],\n",
       "        [    99,     22,    451,    232,      2],\n",
       "        ...,\n",
       "        [108053,     27,    378,    241,      2],\n",
       "        [108053,     28,    441,    475,      2],\n",
       "        [108053,     29,    370,    325,      2]]),\n",
       " array([[    99,     30,    772,    614,      3],\n",
       "        [    99,     31,    888,    842,      3],\n",
       "        [    99,     32,    920,    808,      3],\n",
       "        ...,\n",
       "        [108053,     37,    770,    812,      3],\n",
       "        [108053,     38,    863,    861,      3],\n",
       "        [108053,     39,    815,    752,      3]])]"
      ]
     },
     "execution_count": 11,
     "metadata": {},
     "output_type": "execute_result"
    }
   ],
   "source": [
    "[data[data[:, :, 4] == arena] for arena in np.unique(data[:, :, 4])]"
   ]
  },
  {
   "cell_type": "code",
   "execution_count": 8,
   "id": "sticky-authorization",
   "metadata": {},
   "outputs": [
    {
     "name": "stdout",
     "output_type": "stream",
     "text": [
      "(50, 40, 5)\n"
     ]
    }
   ],
   "source": [
    "local_data = data[50:10]\n",
    "print(local_data.shape)"
   ]
  },
  {
   "cell_type": "code",
   "execution_count": 53,
   "id": "activated-bryan",
   "metadata": {},
   "outputs": [
    {
     "name": "stdout",
     "output_type": "stream",
     "text": [
      "379 µs ± 2.55 µs per loop (mean ± std. dev. of 7 runs, 1000 loops each)\n"
     ]
    }
   ],
   "source": [
    "%%timeit\n",
    "fly_locs = [list(zip(local_data[:, fly_idx, 2], local_data[:, fly_idx, 3])) for fly_idx in np.arange(40)]"
   ]
  },
  {
   "cell_type": "code",
   "execution_count": 56,
   "id": "stuffed-argument",
   "metadata": {},
   "outputs": [
    {
     "data": {
      "text/plain": [
       "(50, 40, 5)"
      ]
     },
     "execution_count": 56,
     "metadata": {},
     "output_type": "execute_result"
    }
   ],
   "source": [
    "local_data.shape"
   ]
  },
  {
   "cell_type": "code",
   "execution_count": 58,
   "id": "loaded-illinois",
   "metadata": {},
   "outputs": [],
   "source": [
    "from seaborn import color_palette"
   ]
  },
  {
   "cell_type": "code",
   "execution_count": 72,
   "id": "angry-portrait",
   "metadata": {},
   "outputs": [],
   "source": [
    "n_arenas \n",
    "palette = [tuple(np.array(palette[0]) * 255) for color in color_palette(\"Paired\")]\n",
    "palette = [palette for _ in np.arange(n_arenas)]"
   ]
  },
  {
   "cell_type": "code",
   "execution_count": 73,
   "id": "exposed-delicious",
   "metadata": {},
   "outputs": [
    {
     "data": {
      "text/plain": [
       "[(166.0, 206.0, 227.0),\n",
       " (166.0, 206.0, 227.0),\n",
       " (166.0, 206.0, 227.0),\n",
       " (166.0, 206.0, 227.0),\n",
       " (166.0, 206.0, 227.0),\n",
       " (166.0, 206.0, 227.0),\n",
       " (166.0, 206.0, 227.0),\n",
       " (166.0, 206.0, 227.0),\n",
       " (166.0, 206.0, 227.0),\n",
       " (166.0, 206.0, 227.0),\n",
       " (166.0, 206.0, 227.0),\n",
       " (166.0, 206.0, 227.0)]"
      ]
     },
     "execution_count": 73,
     "metadata": {},
     "output_type": "execute_result"
    }
   ],
   "source": [
    "palette"
   ]
  },
  {
   "cell_type": "code",
   "execution_count": null,
   "id": "numeric-shape",
   "metadata": {},
   "outputs": [],
   "source": [
    "color_fn = lambda fly_idx, arena: tuple(\n",
    "    color * 255 for color in palette[idx % len(palette)]\n",
    ")"
   ]
  },
  {
   "cell_type": "code",
   "execution_count": 76,
   "id": "healthy-accessory",
   "metadata": {},
   "outputs": [
    {
     "data": {
      "text/plain": [
       "(107955, 40, 5)"
      ]
     },
     "execution_count": 76,
     "metadata": {},
     "output_type": "execute_result"
    }
   ],
   "source": [
    "data.shape"
   ]
  },
  {
   "cell_type": "code",
   "execution_count": 117,
   "id": "surrounded-shanghai",
   "metadata": {},
   "outputs": [
    {
     "name": "stdout",
     "output_type": "stream",
     "text": [
      "[[ 0  0  0  0]\n",
      " [25  0 21  1]\n",
      " [23  0 28  2]\n",
      " [22  0 29  3]\n",
      " [ 5  0  6  4]\n",
      " [ 6  0 20  5]\n",
      " [20  0 13  6]\n",
      " [ 8  0 11  7]\n",
      " [11  0 18  8]\n",
      " [12  0 17  9]\n",
      " [27  1  9 10]\n",
      " [18  1  4 11]\n",
      " [17  1  2 12]\n",
      " [16  1 14 13]\n",
      " [15  1 19 14]\n",
      " [19  1  3 15]\n",
      " [14  1 15 16]\n",
      " [ 2  1 23 17]\n",
      " [ 4  1  5 18]\n",
      " [ 3  1 22 19]\n",
      " [13  2 16 20]\n",
      " [30  2 26 21]\n",
      " [29  2 24 22]\n",
      " [28  2 10 23]\n",
      " [ 1  2 25 24]\n",
      " [21  2 30 25]\n",
      " [ 7  2  8 26]\n",
      " [ 9  2 12 27]\n",
      " [10  2 27 28]\n",
      " [24  2  1 29]\n",
      " [26  3  7 30]\n",
      " [38  3 37 31]\n",
      " [31  3 38 32]\n",
      " [32  3 31 33]\n",
      " [33  3 32 34]\n",
      " [34  3 33 35]\n",
      " [35  3 34 36]\n",
      " [36  3 35 37]\n",
      " [37  3 36 38]\n",
      " [39  3 39 39]]\n"
     ]
    }
   ],
   "source": [
    "original_mapping = data[0, :, [1, 4]].T\n",
    "ordering = np.argsort(original_mapping[:, 1])[:, None]\n",
    "new_ID = np.array([np.argmax(ordering == old_ID) for old_ID in np.arange(40)])[:, None]\n",
    "full_mapping = np.concatenate([original_mapping, ordering, new_ID], axis=1)\n",
    "\n",
    "print(full_mapping[np.argsort(original_mapping[:, 1]), :])"
   ]
  },
  {
   "cell_type": "code",
   "execution_count": 4,
   "id": "interested-stations",
   "metadata": {},
   "outputs": [],
   "source": [
    "import pandas as pd"
   ]
  },
  {
   "cell_type": "code",
   "execution_count": 4,
   "id": "noble-inside",
   "metadata": {},
   "outputs": [],
   "source": [
    "df = pd.read_hdf(df_loc, key=\"df\")\n",
    "df = df.sort_values(by=[\"frame\", \"ID\"])\n",
    "\n",
    "#original_mapping = df.query(f\"frame == {df.frame.min()}\")[[\"ID, arena\"]]\n",
    "\n",
    "\n",
    "#data[0, :, [1, 4]].T\n",
    "#ordering = np.argsort(original_mapping[:, 1])[:, None]\n",
    "#new_ID = np.array([np.argmax(ordering == old_ID) for old_ID in np.arange(40)])[:, None]\n",
    "#full_mapping = np.concatenate([original_mapping, ordering, new_ID], axis=1)\n",
    "\n"
   ]
  },
  {
   "cell_type": "code",
   "execution_count": 132,
   "id": "mexican-pricing",
   "metadata": {},
   "outputs": [],
   "source": [
    "df['ID'] = np.concatenate([new_ID.squeeze() for _ in np.arange(df.frame.unique().size)], axis=0)"
   ]
  },
  {
   "cell_type": "code",
   "execution_count": 134,
   "id": "graphic-bachelor",
   "metadata": {},
   "outputs": [],
   "source": [
    "df = df.sort_values(by=[\"frame\", \"ID\"])"
   ]
  },
  {
   "cell_type": "code",
   "execution_count": 138,
   "id": "laden-hospital",
   "metadata": {},
   "outputs": [
    {
     "data": {
      "text/plain": [
       "array([0, 1, 2, 3, 4, 5, 6, 7, 8, 9])"
      ]
     },
     "execution_count": 138,
     "metadata": {},
     "output_type": "execute_result"
    }
   ],
   "source": [
    "df.query('arena == 0').ID.unique()"
   ]
  },
  {
   "cell_type": "code",
   "execution_count": 139,
   "id": "binding-nutrition",
   "metadata": {},
   "outputs": [
    {
     "data": {
      "text/plain": [
       "array([10, 11, 12, 13, 14, 15, 16, 17, 18, 19])"
      ]
     },
     "execution_count": 139,
     "metadata": {},
     "output_type": "execute_result"
    }
   ],
   "source": [
    "df.query('arena == 1').ID.unique()"
   ]
  },
  {
   "cell_type": "code",
   "execution_count": 149,
   "id": "authentic-ivory",
   "metadata": {},
   "outputs": [],
   "source": []
  },
  {
   "cell_type": "code",
   "execution_count": 99,
   "id": "excited-springfield",
   "metadata": {},
   "outputs": [],
   "source": [
    "df = pd.read_hdf(df_loc, key=\"df\")\n",
    "df = df.sort_values(by = [\"frame\", \"arena\"])\n",
    "\n",
    "n_flies = df.ID.unique().size\n",
    "n_frames = df.frame.unique().size\n",
    "\n",
    "df[\"ID\"] = np.tile(np.arange(n_flies), n_frames)\n",
    "df = df.sort_values(by=[\"frame\", \"ID\"])"
   ]
  },
  {
   "cell_type": "code",
   "execution_count": 122,
   "id": "prompt-layer",
   "metadata": {},
   "outputs": [],
   "source": [
    "df = pd.read_hdf(df_loc, key=\"df\")\n",
    "df = df.sort_values(by=[\"arena\"])"
   ]
  },
  {
   "cell_type": "code",
   "execution_count": 123,
   "id": "packed-passion",
   "metadata": {},
   "outputs": [
    {
     "data": {
      "text/html": [
       "<div>\n",
       "<style scoped>\n",
       "    .dataframe tbody tr th:only-of-type {\n",
       "        vertical-align: middle;\n",
       "    }\n",
       "\n",
       "    .dataframe tbody tr th {\n",
       "        vertical-align: top;\n",
       "    }\n",
       "\n",
       "    .dataframe thead th {\n",
       "        text-align: right;\n",
       "    }\n",
       "</style>\n",
       "<table border=\"1\" class=\"dataframe\">\n",
       "  <thead>\n",
       "    <tr style=\"text-align: right;\">\n",
       "      <th></th>\n",
       "      <th>frame</th>\n",
       "      <th>ID</th>\n",
       "      <th>x</th>\n",
       "      <th>y</th>\n",
       "      <th>arena</th>\n",
       "    </tr>\n",
       "  </thead>\n",
       "  <tbody>\n",
       "    <tr>\n",
       "      <th>0</th>\n",
       "      <td>99.0</td>\n",
       "      <td>0.0</td>\n",
       "      <td>869.101074</td>\n",
       "      <td>455.739838</td>\n",
       "      <td>0.0</td>\n",
       "    </tr>\n",
       "    <tr>\n",
       "      <th>2790208</th>\n",
       "      <td>69854.0</td>\n",
       "      <td>8.0</td>\n",
       "      <td>741.777778</td>\n",
       "      <td>369.422222</td>\n",
       "      <td>0.0</td>\n",
       "    </tr>\n",
       "    <tr>\n",
       "      <th>2790211</th>\n",
       "      <td>69854.0</td>\n",
       "      <td>11.0</td>\n",
       "      <td>754.416667</td>\n",
       "      <td>399.250000</td>\n",
       "      <td>0.0</td>\n",
       "    </tr>\n",
       "    <tr>\n",
       "      <th>2790212</th>\n",
       "      <td>69854.0</td>\n",
       "      <td>12.0</td>\n",
       "      <td>964.739130</td>\n",
       "      <td>269.739130</td>\n",
       "      <td>0.0</td>\n",
       "    </tr>\n",
       "    <tr>\n",
       "      <th>1018652</th>\n",
       "      <td>25565.0</td>\n",
       "      <td>12.0</td>\n",
       "      <td>980.951220</td>\n",
       "      <td>331.243902</td>\n",
       "      <td>0.0</td>\n",
       "    </tr>\n",
       "    <tr>\n",
       "      <th>...</th>\n",
       "      <td>...</td>\n",
       "      <td>...</td>\n",
       "      <td>...</td>\n",
       "      <td>...</td>\n",
       "      <td>...</td>\n",
       "    </tr>\n",
       "    <tr>\n",
       "      <th>914438</th>\n",
       "      <td>22959.0</td>\n",
       "      <td>38.0</td>\n",
       "      <td>817.526316</td>\n",
       "      <td>839.368421</td>\n",
       "      <td>3.0</td>\n",
       "    </tr>\n",
       "    <tr>\n",
       "      <th>914439</th>\n",
       "      <td>22959.0</td>\n",
       "      <td>39.0</td>\n",
       "      <td>837.095238</td>\n",
       "      <td>578.380952</td>\n",
       "      <td>3.0</td>\n",
       "    </tr>\n",
       "    <tr>\n",
       "      <th>2946519</th>\n",
       "      <td>73761.0</td>\n",
       "      <td>39.0</td>\n",
       "      <td>769.256410</td>\n",
       "      <td>732.205128</td>\n",
       "      <td>3.0</td>\n",
       "    </tr>\n",
       "    <tr>\n",
       "      <th>914431</th>\n",
       "      <td>22959.0</td>\n",
       "      <td>31.0</td>\n",
       "      <td>810.320000</td>\n",
       "      <td>592.480000</td>\n",
       "      <td>3.0</td>\n",
       "    </tr>\n",
       "    <tr>\n",
       "      <th>4318199</th>\n",
       "      <td>108053.0</td>\n",
       "      <td>39.0</td>\n",
       "      <td>815.027027</td>\n",
       "      <td>752.270270</td>\n",
       "      <td>3.0</td>\n",
       "    </tr>\n",
       "  </tbody>\n",
       "</table>\n",
       "<p>4318200 rows × 5 columns</p>\n",
       "</div>"
      ],
      "text/plain": [
       "            frame    ID           x           y  arena\n",
       "0            99.0   0.0  869.101074  455.739838    0.0\n",
       "2790208   69854.0   8.0  741.777778  369.422222    0.0\n",
       "2790211   69854.0  11.0  754.416667  399.250000    0.0\n",
       "2790212   69854.0  12.0  964.739130  269.739130    0.0\n",
       "1018652   25565.0  12.0  980.951220  331.243902    0.0\n",
       "...           ...   ...         ...         ...    ...\n",
       "914438    22959.0  38.0  817.526316  839.368421    3.0\n",
       "914439    22959.0  39.0  837.095238  578.380952    3.0\n",
       "2946519   73761.0  39.0  769.256410  732.205128    3.0\n",
       "914431    22959.0  31.0  810.320000  592.480000    3.0\n",
       "4318199  108053.0  39.0  815.027027  752.270270    3.0\n",
       "\n",
       "[4318200 rows x 5 columns]"
      ]
     },
     "execution_count": 123,
     "metadata": {},
     "output_type": "execute_result"
    }
   ],
   "source": [
    "df"
   ]
  },
  {
   "cell_type": "code",
   "execution_count": 124,
   "id": "interstate-mills",
   "metadata": {},
   "outputs": [],
   "source": [
    "arena_means = np.stack([np.mean(arena_df[[\"x\", \"y\"]].to_numpy(), axis=0) for _, arena_df in df.query(f\"frame == {df.frame.min()}\").groupby(\"arena\")], axis=0)\n",
    "arena_means = np.around(arena_means, decimals=-2)"
   ]
  },
  {
   "cell_type": "code",
   "execution_count": 125,
   "id": "urban-ownership",
   "metadata": {},
   "outputs": [],
   "source": [
    "new_arenas = np.array([np.argmax(np.lexsort((arena_means[:, 0], arena_means[:, 1])) == idx) for idx in np.arange(arena_means.shape[0])])"
   ]
  },
  {
   "cell_type": "code",
   "execution_count": 126,
   "id": "developed-execution",
   "metadata": {},
   "outputs": [],
   "source": [
    "#df = df.drop(labels=\"arena\", axis=1)\n",
    "#df = df.drop(labels=\"arena\", axis=1)\n",
    "df[\"arena\"] = np.repeat(new_arenas, int(df.shape[0] / arena_means.shape[0]))\n"
   ]
  },
  {
   "cell_type": "code",
   "execution_count": 127,
   "id": "focal-lesbian",
   "metadata": {},
   "outputs": [],
   "source": [
    "df = df.sort_values(by=[\"frame\", \"arena\"])\n"
   ]
  },
  {
   "cell_type": "code",
   "execution_count": 128,
   "id": "chemical-insured",
   "metadata": {},
   "outputs": [
    {
     "data": {
      "text/html": [
       "<div>\n",
       "<style scoped>\n",
       "    .dataframe tbody tr th:only-of-type {\n",
       "        vertical-align: middle;\n",
       "    }\n",
       "\n",
       "    .dataframe tbody tr th {\n",
       "        vertical-align: top;\n",
       "    }\n",
       "\n",
       "    .dataframe thead th {\n",
       "        text-align: right;\n",
       "    }\n",
       "</style>\n",
       "<table border=\"1\" class=\"dataframe\">\n",
       "  <thead>\n",
       "    <tr style=\"text-align: right;\">\n",
       "      <th></th>\n",
       "      <th>frame</th>\n",
       "      <th>ID</th>\n",
       "      <th>x</th>\n",
       "      <th>y</th>\n",
       "      <th>arena</th>\n",
       "    </tr>\n",
       "  </thead>\n",
       "  <tbody>\n",
       "    <tr>\n",
       "      <th>29</th>\n",
       "      <td>99.0</td>\n",
       "      <td>29.0</td>\n",
       "      <td>368.687866</td>\n",
       "      <td>359.141541</td>\n",
       "      <td>0</td>\n",
       "    </tr>\n",
       "    <tr>\n",
       "      <th>28</th>\n",
       "      <td>99.0</td>\n",
       "      <td>28.0</td>\n",
       "      <td>412.586395</td>\n",
       "      <td>397.629883</td>\n",
       "      <td>0</td>\n",
       "    </tr>\n",
       "    <tr>\n",
       "      <th>24</th>\n",
       "      <td>99.0</td>\n",
       "      <td>24.0</td>\n",
       "      <td>516.853821</td>\n",
       "      <td>237.856750</td>\n",
       "      <td>0</td>\n",
       "    </tr>\n",
       "    <tr>\n",
       "      <th>21</th>\n",
       "      <td>99.0</td>\n",
       "      <td>21.0</td>\n",
       "      <td>376.755707</td>\n",
       "      <td>279.859833</td>\n",
       "      <td>0</td>\n",
       "    </tr>\n",
       "    <tr>\n",
       "      <th>30</th>\n",
       "      <td>99.0</td>\n",
       "      <td>30.0</td>\n",
       "      <td>536.859070</td>\n",
       "      <td>232.687378</td>\n",
       "      <td>0</td>\n",
       "    </tr>\n",
       "    <tr>\n",
       "      <th>1</th>\n",
       "      <td>99.0</td>\n",
       "      <td>1.0</td>\n",
       "      <td>500.701599</td>\n",
       "      <td>213.673691</td>\n",
       "      <td>0</td>\n",
       "    </tr>\n",
       "    <tr>\n",
       "      <th>13</th>\n",
       "      <td>99.0</td>\n",
       "      <td>13.0</td>\n",
       "      <td>521.862610</td>\n",
       "      <td>218.176682</td>\n",
       "      <td>0</td>\n",
       "    </tr>\n",
       "    <tr>\n",
       "      <th>10</th>\n",
       "      <td>99.0</td>\n",
       "      <td>10.0</td>\n",
       "      <td>509.940399</td>\n",
       "      <td>226.678665</td>\n",
       "      <td>0</td>\n",
       "    </tr>\n",
       "    <tr>\n",
       "      <th>9</th>\n",
       "      <td>99.0</td>\n",
       "      <td>9.0</td>\n",
       "      <td>450.666779</td>\n",
       "      <td>231.777039</td>\n",
       "      <td>0</td>\n",
       "    </tr>\n",
       "    <tr>\n",
       "      <th>7</th>\n",
       "      <td>99.0</td>\n",
       "      <td>7.0</td>\n",
       "      <td>373.817535</td>\n",
       "      <td>322.457062</td>\n",
       "      <td>0</td>\n",
       "    </tr>\n",
       "    <tr>\n",
       "      <th>0</th>\n",
       "      <td>99.0</td>\n",
       "      <td>0.0</td>\n",
       "      <td>869.101074</td>\n",
       "      <td>455.739838</td>\n",
       "      <td>1</td>\n",
       "    </tr>\n",
       "    <tr>\n",
       "      <th>20</th>\n",
       "      <td>99.0</td>\n",
       "      <td>20.0</td>\n",
       "      <td>934.931396</td>\n",
       "      <td>352.332947</td>\n",
       "      <td>1</td>\n",
       "    </tr>\n",
       "    <tr>\n",
       "      <th>12</th>\n",
       "      <td>99.0</td>\n",
       "      <td>12.0</td>\n",
       "      <td>910.327637</td>\n",
       "      <td>221.385864</td>\n",
       "      <td>1</td>\n",
       "    </tr>\n",
       "    <tr>\n",
       "      <th>22</th>\n",
       "      <td>99.0</td>\n",
       "      <td>22.0</td>\n",
       "      <td>859.574768</td>\n",
       "      <td>276.050385</td>\n",
       "      <td>1</td>\n",
       "    </tr>\n",
       "    <tr>\n",
       "      <th>11</th>\n",
       "      <td>99.0</td>\n",
       "      <td>11.0</td>\n",
       "      <td>820.402832</td>\n",
       "      <td>221.751312</td>\n",
       "      <td>1</td>\n",
       "    </tr>\n",
       "    <tr>\n",
       "      <th>6</th>\n",
       "      <td>99.0</td>\n",
       "      <td>6.0</td>\n",
       "      <td>958.292542</td>\n",
       "      <td>336.204437</td>\n",
       "      <td>1</td>\n",
       "    </tr>\n",
       "    <tr>\n",
       "      <th>5</th>\n",
       "      <td>99.0</td>\n",
       "      <td>5.0</td>\n",
       "      <td>973.517944</td>\n",
       "      <td>341.707520</td>\n",
       "      <td>1</td>\n",
       "    </tr>\n",
       "    <tr>\n",
       "      <th>8</th>\n",
       "      <td>99.0</td>\n",
       "      <td>8.0</td>\n",
       "      <td>813.817261</td>\n",
       "      <td>291.082886</td>\n",
       "      <td>1</td>\n",
       "    </tr>\n",
       "    <tr>\n",
       "      <th>23</th>\n",
       "      <td>99.0</td>\n",
       "      <td>23.0</td>\n",
       "      <td>951.859680</td>\n",
       "      <td>249.121048</td>\n",
       "      <td>1</td>\n",
       "    </tr>\n",
       "    <tr>\n",
       "      <th>25</th>\n",
       "      <td>99.0</td>\n",
       "      <td>25.0</td>\n",
       "      <td>899.475769</td>\n",
       "      <td>215.266251</td>\n",
       "      <td>1</td>\n",
       "    </tr>\n",
       "    <tr>\n",
       "      <th>27</th>\n",
       "      <td>99.0</td>\n",
       "      <td>27.0</td>\n",
       "      <td>556.248169</td>\n",
       "      <td>609.228821</td>\n",
       "      <td>2</td>\n",
       "    </tr>\n",
       "    <tr>\n",
       "      <th>19</th>\n",
       "      <td>99.0</td>\n",
       "      <td>19.0</td>\n",
       "      <td>545.040344</td>\n",
       "      <td>596.056274</td>\n",
       "      <td>2</td>\n",
       "    </tr>\n",
       "    <tr>\n",
       "      <th>18</th>\n",
       "      <td>99.0</td>\n",
       "      <td>18.0</td>\n",
       "      <td>435.421967</td>\n",
       "      <td>681.009949</td>\n",
       "      <td>2</td>\n",
       "    </tr>\n",
       "    <tr>\n",
       "      <th>17</th>\n",
       "      <td>99.0</td>\n",
       "      <td>17.0</td>\n",
       "      <td>454.426514</td>\n",
       "      <td>687.075867</td>\n",
       "      <td>2</td>\n",
       "    </tr>\n",
       "    <tr>\n",
       "      <th>16</th>\n",
       "      <td>99.0</td>\n",
       "      <td>16.0</td>\n",
       "      <td>435.835999</td>\n",
       "      <td>695.105164</td>\n",
       "      <td>2</td>\n",
       "    </tr>\n",
       "    <tr>\n",
       "      <th>14</th>\n",
       "      <td>99.0</td>\n",
       "      <td>14.0</td>\n",
       "      <td>453.631104</td>\n",
       "      <td>806.394836</td>\n",
       "      <td>2</td>\n",
       "    </tr>\n",
       "    <tr>\n",
       "      <th>15</th>\n",
       "      <td>99.0</td>\n",
       "      <td>15.0</td>\n",
       "      <td>447.719666</td>\n",
       "      <td>701.418945</td>\n",
       "      <td>2</td>\n",
       "    </tr>\n",
       "    <tr>\n",
       "      <th>4</th>\n",
       "      <td>99.0</td>\n",
       "      <td>4.0</td>\n",
       "      <td>552.009705</td>\n",
       "      <td>627.329956</td>\n",
       "      <td>2</td>\n",
       "    </tr>\n",
       "    <tr>\n",
       "      <th>3</th>\n",
       "      <td>99.0</td>\n",
       "      <td>3.0</td>\n",
       "      <td>539.898132</td>\n",
       "      <td>633.064453</td>\n",
       "      <td>2</td>\n",
       "    </tr>\n",
       "    <tr>\n",
       "      <th>2</th>\n",
       "      <td>99.0</td>\n",
       "      <td>2.0</td>\n",
       "      <td>464.899597</td>\n",
       "      <td>818.545593</td>\n",
       "      <td>2</td>\n",
       "    </tr>\n",
       "    <tr>\n",
       "      <th>26</th>\n",
       "      <td>99.0</td>\n",
       "      <td>26.0</td>\n",
       "      <td>771.700500</td>\n",
       "      <td>614.311462</td>\n",
       "      <td>3</td>\n",
       "    </tr>\n",
       "    <tr>\n",
       "      <th>37</th>\n",
       "      <td>99.0</td>\n",
       "      <td>37.0</td>\n",
       "      <td>870.978882</td>\n",
       "      <td>571.943787</td>\n",
       "      <td>3</td>\n",
       "    </tr>\n",
       "    <tr>\n",
       "      <th>36</th>\n",
       "      <td>99.0</td>\n",
       "      <td>36.0</td>\n",
       "      <td>835.515076</td>\n",
       "      <td>592.281921</td>\n",
       "      <td>3</td>\n",
       "    </tr>\n",
       "    <tr>\n",
       "      <th>35</th>\n",
       "      <td>99.0</td>\n",
       "      <td>35.0</td>\n",
       "      <td>732.865295</td>\n",
       "      <td>687.915405</td>\n",
       "      <td>3</td>\n",
       "    </tr>\n",
       "    <tr>\n",
       "      <th>34</th>\n",
       "      <td>99.0</td>\n",
       "      <td>34.0</td>\n",
       "      <td>849.096436</td>\n",
       "      <td>583.618896</td>\n",
       "      <td>3</td>\n",
       "    </tr>\n",
       "    <tr>\n",
       "      <th>38</th>\n",
       "      <td>99.0</td>\n",
       "      <td>38.0</td>\n",
       "      <td>887.954590</td>\n",
       "      <td>568.587830</td>\n",
       "      <td>3</td>\n",
       "    </tr>\n",
       "    <tr>\n",
       "      <th>39</th>\n",
       "      <td>99.0</td>\n",
       "      <td>39.0</td>\n",
       "      <td>949.785706</td>\n",
       "      <td>794.331543</td>\n",
       "      <td>3</td>\n",
       "    </tr>\n",
       "    <tr>\n",
       "      <th>33</th>\n",
       "      <td>99.0</td>\n",
       "      <td>33.0</td>\n",
       "      <td>998.179382</td>\n",
       "      <td>719.547058</td>\n",
       "      <td>3</td>\n",
       "    </tr>\n",
       "    <tr>\n",
       "      <th>31</th>\n",
       "      <td>99.0</td>\n",
       "      <td>31.0</td>\n",
       "      <td>887.794861</td>\n",
       "      <td>841.694824</td>\n",
       "      <td>3</td>\n",
       "    </tr>\n",
       "    <tr>\n",
       "      <th>32</th>\n",
       "      <td>99.0</td>\n",
       "      <td>32.0</td>\n",
       "      <td>920.049194</td>\n",
       "      <td>808.295471</td>\n",
       "      <td>3</td>\n",
       "    </tr>\n",
       "  </tbody>\n",
       "</table>\n",
       "</div>"
      ],
      "text/plain": [
       "    frame    ID           x           y  arena\n",
       "29   99.0  29.0  368.687866  359.141541      0\n",
       "28   99.0  28.0  412.586395  397.629883      0\n",
       "24   99.0  24.0  516.853821  237.856750      0\n",
       "21   99.0  21.0  376.755707  279.859833      0\n",
       "30   99.0  30.0  536.859070  232.687378      0\n",
       "1    99.0   1.0  500.701599  213.673691      0\n",
       "13   99.0  13.0  521.862610  218.176682      0\n",
       "10   99.0  10.0  509.940399  226.678665      0\n",
       "9    99.0   9.0  450.666779  231.777039      0\n",
       "7    99.0   7.0  373.817535  322.457062      0\n",
       "0    99.0   0.0  869.101074  455.739838      1\n",
       "20   99.0  20.0  934.931396  352.332947      1\n",
       "12   99.0  12.0  910.327637  221.385864      1\n",
       "22   99.0  22.0  859.574768  276.050385      1\n",
       "11   99.0  11.0  820.402832  221.751312      1\n",
       "6    99.0   6.0  958.292542  336.204437      1\n",
       "5    99.0   5.0  973.517944  341.707520      1\n",
       "8    99.0   8.0  813.817261  291.082886      1\n",
       "23   99.0  23.0  951.859680  249.121048      1\n",
       "25   99.0  25.0  899.475769  215.266251      1\n",
       "27   99.0  27.0  556.248169  609.228821      2\n",
       "19   99.0  19.0  545.040344  596.056274      2\n",
       "18   99.0  18.0  435.421967  681.009949      2\n",
       "17   99.0  17.0  454.426514  687.075867      2\n",
       "16   99.0  16.0  435.835999  695.105164      2\n",
       "14   99.0  14.0  453.631104  806.394836      2\n",
       "15   99.0  15.0  447.719666  701.418945      2\n",
       "4    99.0   4.0  552.009705  627.329956      2\n",
       "3    99.0   3.0  539.898132  633.064453      2\n",
       "2    99.0   2.0  464.899597  818.545593      2\n",
       "26   99.0  26.0  771.700500  614.311462      3\n",
       "37   99.0  37.0  870.978882  571.943787      3\n",
       "36   99.0  36.0  835.515076  592.281921      3\n",
       "35   99.0  35.0  732.865295  687.915405      3\n",
       "34   99.0  34.0  849.096436  583.618896      3\n",
       "38   99.0  38.0  887.954590  568.587830      3\n",
       "39   99.0  39.0  949.785706  794.331543      3\n",
       "33   99.0  33.0  998.179382  719.547058      3\n",
       "31   99.0  31.0  887.794861  841.694824      3\n",
       "32   99.0  32.0  920.049194  808.295471      3"
      ]
     },
     "execution_count": 128,
     "metadata": {},
     "output_type": "execute_result"
    }
   ],
   "source": [
    "df[:40]"
   ]
  },
  {
   "cell_type": "code",
   "execution_count": 19,
   "id": "senior-allah",
   "metadata": {},
   "outputs": [
    {
     "data": {
      "text/plain": [
       "array([1, 2, 0, 3])"
      ]
     },
     "execution_count": 19,
     "metadata": {},
     "output_type": "execute_result"
    }
   ],
   "source": [
    "df.arena.unique()"
   ]
  },
  {
   "cell_type": "code",
   "execution_count": null,
   "id": "differential-escape",
   "metadata": {},
   "outputs": [],
   "source": []
  }
 ],
 "metadata": {
  "kernelspec": {
   "display_name": "Python 3",
   "language": "python",
   "name": "python3"
  },
  "language_info": {
   "codemirror_mode": {
    "name": "ipython",
    "version": 3
   },
   "file_extension": ".py",
   "mimetype": "text/x-python",
   "name": "python",
   "nbconvert_exporter": "python",
   "pygments_lexer": "ipython3",
   "version": "3.8.3"
  }
 },
 "nbformat": 4,
 "nbformat_minor": 5
}
