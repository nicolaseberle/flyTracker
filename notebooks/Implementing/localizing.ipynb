{
 "cells": [
  {
   "cell_type": "markdown",
   "metadata": {},
   "source": [
    "In this notebook we implement the class to perform localization of the flies using the blob detector."
   ]
  },
  {
   "cell_type": "code",
   "execution_count": 1,
   "metadata": {},
   "outputs": [],
   "source": [
    "import cv2 as cv \n",
    "import numpy as np\n",
    "\n",
    "from flytracker.preprocessing import Frame\n",
    "from flytracker.utils import run_tracker\n",
    "\n",
    "import matplotlib.pyplot as plt \n",
    "\n",
    "%load_ext autoreload\n",
    "%autoreload 2"
   ]
  },
  {
   "cell_type": "markdown",
   "metadata": {},
   "source": [
    "# Building a class"
   ]
  },
  {
   "cell_type": "code",
   "execution_count": 2,
   "metadata": {},
   "outputs": [],
   "source": [
    "class BlobDetector:\n",
    "    def __init__(self, params=None):\n",
    "        if params is None:\n",
    "            self.blob_detector = cv.SimpleBlobDetector_create(self.default_blob_detector_params)\n",
    "        else:\n",
    "            self.blob_detector = cv.SimpleBlobDetector_create(params)\n",
    "    \n",
    "    def __call__(self, image):\n",
    "        keypoints = self.blob_detector.detect(image(gray=True, masked=True))\n",
    "        coordinates = np.array([keypoint.pt for keypoint in keypoints])\n",
    "        return coordinates\n",
    "        \n",
    "    @property\n",
    "    def default_blob_detector_params(self):\n",
    "        # Setup SimpleBlobDetector parameters.\n",
    "        params = cv.SimpleBlobDetector_Params()\n",
    "\n",
    "        # Change thresholds\n",
    "        params.minThreshold = 20\n",
    "        params.maxThreshold = 150\n",
    "\n",
    "        # Filter by Area.\n",
    "        params.filterByArea = True\n",
    "        params.minArea = 15\n",
    "        params.maxArea = 60\n",
    "        params.minDistBetweenBlobs = 1.0\n",
    "\n",
    "        # Turn off other filters\n",
    "        params.filterByCircularity = False\n",
    "        params.filterByConvexity = False\n",
    "        params.filterByInertia = False\n",
    "\n",
    "        return params"
   ]
  },
  {
   "cell_type": "markdown",
   "metadata": {},
   "source": [
    "# Testing"
   ]
  },
  {
   "cell_type": "code",
   "execution_count": 7,
   "metadata": {},
   "outputs": [
    {
     "name": "stdout",
     "output_type": "stream",
     "text": [
      "CPU times: user 1.65 s, sys: 173 ms, total: 1.82 s\n",
      "Wall time: 912 ms\n"
     ]
    }
   ],
   "source": [
    "%%time\n",
    "coordinates = run_tracker(100)"
   ]
  },
  {
   "cell_type": "code",
   "execution_count": 9,
   "metadata": {},
   "outputs": [
    {
     "data": {
      "text/plain": [
       "[<matplotlib.lines.Line2D at 0x7f9a3075ff10>]"
      ]
     },
     "execution_count": 9,
     "metadata": {},
     "output_type": "execute_result"
    },
    {
     "data": {
      "image/png": "[encoded data removed]",
      "text/plain": [
       "<Figure size 432x288 with 1 Axes>"
      ]
     },
     "metadata": {
      "needs_background": "light"
     },
     "output_type": "display_data"
    }
   ],
   "source": [
    "plt.plot([fly_coordinates.shape[0] for fly_coordinates in coordinates])"
   ]
  },
  {
   "cell_type": "markdown",
   "metadata": {},
   "source": [
    "So it's correct for all first 100 frames!"
   ]
  },
  {
   "cell_type": "code",
   "execution_count": null,
   "metadata": {},
   "outputs": [],
   "source": []
  }
 ],
 "metadata": {
  "kernelspec": {
   "display_name": "Python 3",
   "language": "python",
   "name": "python3"
  },
  "language_info": {
   "codemirror_mode": {
    "name": "ipython",
    "version": 3
   },
   "file_extension": ".py",
   "mimetype": "text/x-python",
   "name": "python",
   "nbconvert_exporter": "python",
   "pygments_lexer": "ipython3",
   "version": "3.7.6"
  }
 },
 "nbformat": 4,
 "nbformat_minor": 4
}
