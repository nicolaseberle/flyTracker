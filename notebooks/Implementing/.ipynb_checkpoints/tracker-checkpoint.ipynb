{
 "cells": [
  {
   "cell_type": "markdown",
   "metadata": {},
   "source": [
    "In this notebook we implement simple tracking using hungarian algorithm for matching on the distant graph. Error correction using k-means is in the other notebook (error_correction)"
   ]
  },
  {
   "cell_type": "code",
   "execution_count": 1,
   "metadata": {},
   "outputs": [],
   "source": [
    "import cv2 as cv \n",
    "import numpy as np\n",
    "\n",
    "from flytracker.utils import run_tracker\n",
    "import matplotlib.pyplot as plt \n",
    "\n",
    "from scipy.optimize import linear_sum_assignment\n",
    "from scipy.spatial import distance_matrix\n",
    "\n",
    "%load_ext autoreload\n",
    "%autoreload 2"
   ]
  },
  {
   "cell_type": "markdown",
   "metadata": {},
   "source": [
    "# Class for tracking"
   ]
  },
  {
   "cell_type": "code",
   "execution_count": 2,
   "metadata": {},
   "outputs": [],
   "source": [
    "class Tracking:\n",
    "    def __call__(self, coordinates_i, coordinates_j):\n",
    "        identities_j = linear_sum_assignment(distance_matrix(coordinates_i, coordinates_j))[1]\n",
    "        return identities_j"
   ]
  },
  {
   "cell_type": "markdown",
   "metadata": {},
   "source": [
    "# Implementing"
   ]
  },
  {
   "cell_type": "markdown",
   "metadata": {},
   "source": [
    "We know the first 100 frames have 40 flies, let's use those as testset:"
   ]
  },
  {
   "cell_type": "code",
   "execution_count": 6,
   "metadata": {},
   "outputs": [
    {
     "name": "stdout",
     "output_type": "stream",
     "text": [
      "[ 0  1  2  3  4  5  6  7  8  9 10 11 12 13 23 25 15 17 18 19 14 20 21 22\n",
      " 24 26 16 27 28 29 30 31 32 33 34 35 36 37 38 39]\n",
      "[ 0 16  1  2  3  4  6  7  8  9 11 10 12 13 23 14 15  5 17 18 19 20 21 22\n",
      " 24 25 26 27 28 29 37 30 38 32 33 34 35 36 31 39]\n",
      "[ 0  1  2  3  4  5  7 14  8 16  9 17 10 11 12 25 13  6 15 18 20 21 22 23\n",
      " 24 26 27 37 28 19 29 30 32 33 34 35 36 38 31 39]\n",
      "[ 0  1 12  2  3  4  5 14  6  7  8 17  9 10 23 25 11 13 15 18 19 20 21 22\n",
      " 24 26 28 29 16 30 35 31 37 38 27 32 33 34 36 39]\n",
      "[ 0  1 14 15  2  3  5 16  6  7 20  8 10 11 12 26 13  4 17  9 21 22 23 24\n",
      " 25 27 28 18 19 30 36 37 31 32 29 33 34 35 38 39]\n",
      "[ 0  1 13  2  3  4  6 14  7  8 18  9 20 10 23 25 12  5 15 19 11 21 30 22\n",
      " 24 26 27 16 17 29 36 37 32 38 28 33 34 35 31 39]\n",
      "[ 0  1 15  2  3  4  5  6  7  8 10  9 11 12 23 25 14 16 17 19 13 20 21 22\n",
      " 24 26 27 29 18 30 35 36 38 31 28 32 33 34 37 39]\n",
      "[ 0  1  2  3  4  5  7 15  9 10 18 11 21 12 25 27 14  6 16 19 13 22 23 24\n",
      " 26 28 29  8 17 20 36 32 37 34 30 35 31 38 33 39]\n",
      "[ 0  1  2  3  4  5  6  7  9 10 17 11 12 13 23 25 14 15 16 18 19 20 21 22\n",
      " 24 26 27  8 29 30 31 32 33 34 28 35 36 37 38 39]\n",
      "[ 0  1  2  3  4  5  6  7 14  8 16 15 19  9 24 26 10 11 12 17 20 21 22 23\n",
      " 25 35 27 13 29 18 31 32 33 34 28 36 37 30 38 39]\n",
      "[ 0  1  2  3  4  5  6  7  9 10 17 11 20 12 24 26 14 15 16 18 13 21 22 23\n",
      " 25 28 27  8 31 19 32 33 34 35 29 36 30 38 37 39]\n",
      "[ 0  1  3  2  4  5  6 15  7  8 18  9 10 11 23 25 13 14 16 19 12 21 22 31\n",
      " 24 26 33 17 37 20 29 30 36 32 27 34 28 35 38 39]\n",
      "[ 0  1  2  3  4  5  6  7  8  9 17 10 20 11 26 27 13 14 16 18 21 22 24 25\n",
      " 12 29 28 15 38 19 31 23 37 32 30 33 34 35 36 39]\n",
      "[ 0  1  3  2  4 13  5 15  6  7 17  8  9 10 23 25 12 14 16 18 11 20 21 22\n",
      " 24 27 26 29 30 19 31 32 33 34 28 35 36 37 38 39]\n",
      "[ 0  1  3  2  4  5  6 15  7  8 18  9 10 11 25 28 13 14 16 19 12 21 23 24\n",
      " 26 29 27 17 35 20 31 22 32 33 30 34 38 36 37 39]\n",
      "[ 0  1  3  2  4  6  7 15  8  9 17 10 11 12 23 26 14  5 16 18 13 20 21 22\n",
      " 24 27 25 29 35 19 38 30 31 32 28 33 34 37 36 39]\n",
      "[ 0  1  3  2  4  6  7  8 15  9 11 10 12 13 23 26 14  5 16 17 19 20 21 22\n",
      " 24 27 25 29 34 18 36 30 31 32 28 33 38 35 37 39]\n",
      "[ 0  1  2 15  3  4  5  7  6 19  9  8 10 11 25 27 14 16 17 20 12 22 23 24\n",
      " 13 28 26 18 30 21 31 32 33 34 29 35 38 36 37 39]\n",
      "[ 0  1  3  2  4  5  6 19  7  8 10  9 13 14 24 26 17 18 20 11 15 21 22 23\n",
      " 16 27 25 29 30 12 31 32 33 34 28 35 38 36 37 39]\n",
      "[ 0  1  3  2  4 15  6  7 16  8 10  9 20 11 24 26 13  5 17 18 12 21 22 23\n",
      " 25 27 34 28 29 19 30 31 32 33 14 35 37 36 38 39]\n",
      "[ 0  1  3  2  4  6  7 16 15  8 18  9 11 12 24 25 14  5 17 19 30 20 22 23\n",
      " 13 26 34 28 29 10 36 21 32 33 27 35 37 31 38 39]\n",
      "[ 0  1  3  2  4 14  6 15  7  8 17  9 10 11 23 26 13  5 16 18 12 20 21 22\n",
      " 24 28 25 29 30 19 37 31 32 33 27 34 35 36 38 39]\n",
      "[ 0 11  2  1  3 12  5 14 13  6 16  7  8  9 23 26 10  4 15 17 19 20 21 22\n",
      " 24 28 25 29 30 18 31 32 33 34 27 35 37 36 38 39]\n",
      "[ 0  1  3  2  4  5  6  8  7  9 19 10 12 13 24 27 15 16 17 20 21 22 23 14\n",
      " 25 29 26 18 30 11 36 31 32 33 28 34 38 35 37 39]\n",
      "[ 0  1  3  2  4 13  5 15 14  6 17  7  9 10 22 25 11 12 16 18 19 20 21 31\n",
      " 23 27 24 28 29  8 30 35 36 32 26 33 37 34 38 39]\n",
      "[ 0  1 13  2  3 15  4  6  5  7 17  8 10 11 23 26 12 14 16 18 19 20 21 22\n",
      " 25 28 24 29 30  9 32 33 34 35 27 36 38 31 37 39]\n",
      "[ 0  1  3  2  4  5  6 17 16  7 20  8 11 12 24 27 14 15 19  9 21 22 23 25\n",
      " 13 33 26 18 29 10 30 36 31 32 28 34 38 35 37 39]\n",
      "[ 0  1  3  2  4  5  6 18  7  8 10  9 21 12 24 27 15 17 19 20 13 22 23 25\n",
      " 26 28 14 29 30 11 31 32 37 33 16 34 35 36 39 38]\n",
      "[ 0  1 16  2  3  4  5  7  6  8 19  9 11 12 23 26 15 17 18 10 13 21 22 14\n",
      " 24 28 25 36 29 20 37 31 32 33 27 34 35 30 38 39]\n",
      "[ 0  1 16  2  3  4  5  7  6  8 19  9 11 12 24 27 14 17 18 10 21 22 23 13\n",
      " 25 28 26 35 29 20 30 37 31 32 15 33 34 36 38 39]\n",
      "[ 0  1  3  2  4  6  7  9  8 10 20 11 14 15 24 27 17  5 19 12 21 22 23 25\n",
      " 16 28 26 36 29 13 30 31 32 33 18 34 35 37 38 39]\n",
      "[ 0  1  3  2  4  7  6 19  8  9 21 10 13 14 26 28 17  5 20 11 22 23 25 15\n",
      " 27 29 16 30 31 12 24 36 32 33 18 34 37 35 38 39]\n",
      "[ 0  1  3  2  4  6  7 16  8  9 18 10 20 11 13 26 27  5 17 19 12 21 23 24\n",
      " 14 28 25 29 30 31 32 22 33 34 15 35 36 37 38 39]\n",
      "[14  0  2  1  3  4  5 16  6  7 19  8  9 10 11 27 28 15 18 20 22 23 24 12\n",
      " 25 29 26 17 30 21 37 31 32 33 13 34 35 36 38 39]\n",
      "[ 0  1  3  2  4 12  5 14 13  6 17  7  8  9 23 27 28 11 15 18 20 21 22 24\n",
      " 25 29 26 35 16 19 31 30 32 33 10 34 38 36 37 39]\n",
      "[ 0  1  3  2  4  6  7 17  8  9 11 10 13 12 24 27 28  5 18 19 14 21 23 15\n",
      " 25 29 26 30 31 20 32 22 33 34 16 35 38 36 37 39]\n",
      "[ 0  1  3  2  4 16  5 17  6  7 19  8 11 10 24 26 27 15 18 20 12 21 23 13\n",
      " 25 28 34 29 30  9 32 22 36 33 14 35 38 31 37 39]\n",
      "[ 0  1  3  2  4  6 17  8  7  9 20 10 13 12 25 28 29  5 19 21 14 22 24 15\n",
      " 26 30 27 18 31 11 32 23 33 34 16 35 38 36 37 39]\n",
      "[ 0  1  3  2  4  6 16 17  7  8 10  9 12 11 23 26 27  5 18 19 13 20 22 14\n",
      " 24 28 25 29 30 31 33 21 37 34 15 35 36 32 38 39]\n",
      "[ 0  1  3  2  4  6 12 14 13  7 18  8 10  9 24 28 29  5 15 19 11 21 23 25\n",
      " 26 31 27 16 17 20 22 33 37 34 30 35 36 32 38 39]\n",
      "[ 0  1  3  2  4 13 12 14  5  6 16  7  9  8 21 25 26 11 15 17 10 19 20 22\n",
      " 23 28 24 29 30 18 32 31 37 33 27 34 35 36 38 39]\n",
      "[ 0  1  3  2  4  6 13  7 14  8 17 16 10  9 22 26 27  5 15 18 11 20 21 23\n",
      " 24 28 25 29 30 19 36 32 37 33 12 34 35 31 39 38]\n",
      "[ 0  1  2 10  3  5 11 13 12  6 16 15  8  7 22 26 27  4 14 17 18 19 21 23\n",
      " 24 28 25 30 31 32 37 20 33 34  9 35 29 36 38 39]\n",
      "[ 1  0  3  2  4  6 29 15 12  7 16  8 10  9 22 26 27  5 14 17 18 19 21 23\n",
      " 24 28 25 13 30 31 32 20 36 33 11 34 35 38 37 39]\n",
      "[ 1  0  3  2  4  6 14 18 15  7  9  8 11 10 23 27 13  5 17 19 12 20 22 24\n",
      " 25 29 26 16 31 32 33 21 37 34 28 35 30 36 38 39]\n",
      "[ 1  0  3  2  4  7 12 15  6  8 10  9 17 11 21 25 26  5 14 16 18 19 20 22\n",
      " 23 28 24 13 29 30 33 32 36 34 27 35 37 31 39 38]\n",
      "[ 1  0  3  2  4  7 14 17  6  8 18  9 12 11 21 24 25  5 16 10 13 19 20 32\n",
      " 22 27 23 15 29 30 36 31 37 33 26 34 28 35 38 39]\n",
      "[13  0  2  1  3  5 14 18 15  6 20  7 10  9 24 27 28  4 17 21 11 22 23 25\n",
      " 32 29 26 16 19  8 36 30 37 31 12 33 34 35 38 39]\n",
      "[ 1  0  2 11  3  6 12 15  5  7 16  8 10  9 22 24 26  4 14 17 19 20 21 23\n",
      " 33 28 25 13 30 18 36 31 37 32 27 34 29 35 38 39]\n",
      "[ 1  0  2 12  3  5 13 17 14  6  8  7 10  9 30 32 24  4 16 19 11 20 21 22\n",
      " 23 26 33 15 18 27 29 28 36 31 25 34 35 37 38 39]\n",
      "[ 1  0  3  2  4  6 12 15 13  8 17  9 11 10 35 24 25  5 14 18 19 20 21 22\n",
      " 23 26 32  7 16 28 30 29 36 31 37 33 27 34 38 39]\n",
      "[11  0  2  1  3  5 12 15 13  6 17  7  9  8 23 26 27  4 29 18 10 20 22 24\n",
      " 25 33 31 14 16 19 36 21 37 30 32 34 28 35 38 39]\n",
      "[ 1  0  3  2  4  8 13 15  6  9 18 17 11 10 22 24 26  5 14 19 12 20 21 23\n",
      " 25 27 32  7 16 28 37 29 30 31 33 34 35 36 38 39]\n",
      "[ 1  0  3  2  4  8 13  9  6 10 16 15 11 18 21 23 25  5 14 17 12 19 20 22\n",
      " 24 34 32  7 27 36 29 28 30 31 33 35 26 37 38 39]\n",
      "[ 1  0  3  2  4  7 14 16  5  8  9 17 11 18 21 23 25 13 15 10 12 19 20 22\n",
      " 24 34 32  6 27 28 37 29 30 31 33 35 26 36 38 39]\n",
      "[ 1  0  3  2  4  8  6  9  7 10 19 11 13 12 23 24 15  5 17 20 14 21 22 27\n",
      " 29 25 30 16 18 32 35 34 36 28 37 31 26 33 38 39]\n",
      "[ 1  0  3  2  4  7  6 14  5  8 17 16  9 10 27 20 21 12 13 18 11 26 19 28\n",
      " 30 22 31 24 15 25 34 33 35 29 36 32 23 37 38 39]\n",
      "[ 1  0  3  2  4  6 13 15  5  7  8 16  9 10 27 31 21 12 14 17 11 19 20 28\n",
      " 32 22 33 24 25 18 36 26 29 30 37 34 23 35 38 39]\n",
      "[ 1  0  3  2  4  5 14 17 13  6  8  7 10  9 28 21 22 12 16 18 11 26 19 20\n",
      " 32 23 31 15 24 25 36 27 29 30 37 33 34 35 38 39]\n",
      "[ 1  0  3  2  4 14 12 15  5  6  8  7 10  9 27 30 20 11 13 16 17 18 19 28\n",
      " 32 33 31 22 23 24 36 26 35 29 38 34 21 25 37 39]\n",
      "[ 1  0  3  2  4  7 25 16  6  8 10  9 12 11 20 30 22  5 14 17 13 18 19 21\n",
      " 32 23 31 35 15 26 28 27 37 29 33 34 24 36 38 39]\n",
      "[ 1  0  3  2  4 15 12 17 11  5 18  6  8  7 22 23  9 10 14 19 29 20 21 31\n",
      " 24 25 33 13 16 27 36 30 37 32 34 35 26 28 38 39]\n",
      "[ 1  0  3  2  4  6 26 17  5  7 18  8 10  9 22 30 12 13 15 19 11 20 21 28\n",
      " 23 24 31 14 16 33 27 35 36 29 37 32 25 34 38 39]\n",
      "[ 1  0  3  2  4 15 13 17  5  6 18  7 10  9 29 32 11 12 14  8 19 20 22 28\n",
      " 23 24 33 26 16 27 21 36 30 31 37 34 25 35 38 39]\n",
      "[ 2  0  3  1  4  6 14 17  5  7 18  8  9 10 23 24 12 13 15 19 11 20 21 22\n",
      " 26 27 25 29 16 30 31 36 32 33 37 34 28 35 38 39]\n",
      "[ 2  0  3  1  4  6 13 16  5  7 17  8  9 10 30 22 25 12 14 18 11 19 20 21\n",
      " 24 26 23 28 15 33 35 29 36 31 38 32 27 34 37 39]\n",
      "[ 1  8  2  0  3 13 11 29 10  4 14  5 16  6 20 21 24  9 12 15  7 17 18 19\n",
      " 23 25 22 27 28 30 32 31 36 33 37 34 26 35 39 38]\n",
      "[ 2  0  3  1  4 14 11 16  5  6 17  7  8 19 24 25 27 10 13 18  9 20 22 23\n",
      " 26 28 32 12 15 34 21 30 36 31 38 33 29 35 37 39]\n",
      "[ 1 11  2  0  3  4 14  6 12  5  8  7  9 10 23 24 27 13 16 18 19 20 22 31\n",
      " 26 28 25 15 17 34 30 21 36 32 38 33 29 35 37 39]\n",
      "[ 2  0  3  1  4  5 14  7 12  6  9  8 17 11 21 32 24 13 16 10 18 19 20 29\n",
      " 23 25 22 15 27 34 36 28 30 31 37 33 26 35 39 38]\n",
      "[ 2  0  3  1  4  6 12 15  5  7  9  8 27 10 21 31 23 11 14 16 17 18 20 28\n",
      " 32 24 22 13 26 34 36 19 29 30 38 33 25 35 37 39]\n",
      "[ 2  0  3  1  4 17 15 18  5  8 10  9 19 12 23 34 14  6 16 11 13 20 22 32\n",
      " 25 26 24  7 28 29 31 21 36 33 37 35 27 30 38 39]\n",
      "[ 2  0  3  1  4  6 15 18 14  7  9  8 19 11 30 32 13  5 17 10 12 20 22 29\n",
      " 24 25 23 16 27 35 28 21 36 31 33 34 26 37 38 39]\n",
      "[ 2  0  3  1  4  7 15 17  5  8 10  9 11 12 31 33 14  6 16 18 13 19 20 30\n",
      " 22 23 21 25 26 27 29 28 37 32 34 35 24 36 38 39]\n",
      "[ 2  0  3  1  4  6 12 14 11  7 15  8  9 10 32 34 24  5 13 16 17 18 20 21\n",
      " 23 25 22 27 28 29 31 19 37 33 35 36 26 30 39 38]\n",
      "[ 2  0  3  1  4  7 13 15  5  8 10  9 11 12 30 21 23  6 14 16 17 18 19 20\n",
      " 22 24 32 26 27 28 36 29 37 31 33 34 25 35 39 38]\n",
      "[ 1  0  3  2  4  5 12 14 25  6  8  7 16  9 29 21 10 11 13 15 17 19 20 30\n",
      " 23 24 22 26 27 28 36 18 37 31 32 33 34 35 38 39]\n",
      "[ 1  0  3  2  4 15 14 16 12  5  7  6  8  9 30 33 11 13 27 17 10 19 21 31\n",
      " 23 24 22 26 28 29 20 18 36 32 37 34 25 35 39 38]\n",
      "[ 1  0  3  2  4  7 18 20  5  8 10  9 13 12 24 34 17  6 19 11 15 21 23 32\n",
      " 25 26 16 28 29 30 22 14 36 33 38 35 27 31 37 39]\n",
      "[ 1  0  3  2  4  6 17 20 16  7  9  8 12 11 24 35 15  5 19 10 13 22 23 25\n",
      " 27 28 26 18 30 31 14 21 33 34 37 36 29 32 39 38]\n",
      "[15  0  2  1  3  6 17 20 16  7  9  8 12 11 31 34 14  4 18 10 13 22 24 32\n",
      " 26 27 25  5 19 29 23 21 36 33 39 35 28 30 38 37]\n",
      "[ 2  0  3  1  4 17 14 20  5 19  7  6  9  8 31 26 12 13 16 21 11 22 24 25\n",
      " 28 29 27 15 18 34 23 10 36 32 39 33 30 35 37 38]\n",
      "[11  0  2  1  3 16 13 19  4 18  6  5  8  7 32 25 10 12 15 20  9 22 23 24\n",
      " 27 28 26 14 17 30 31 21 36 33 39 34 29 35 38 37]\n",
      "[10  0  2  1  3  5 12 15 11 14  7  6 17  8 20 32  9  4 13 16 28 18 19 30\n",
      " 22 23 21 25 26 34 29 27 36 31 37 33 24 35 39 38]\n",
      "[11  0  2  1  3  6 12 14  4  7  9  8 16 10 30 34 21  5 13 15 28 17 18 31\n",
      " 20 22 19 24 25 26 29 27 32 33 38 35 23 36 37 39]\n",
      "[ 2  0  3  1  4  6 14 17 13 16  8  7 10  9 29 31 12  5 15 18 11 27 19 20\n",
      " 21 22 32 24 34 25 28 26 36 30 37 33 23 35 38 39]\n",
      "[ 2  0  3  1  4  6 13 15 12  7  9  8 18 10 30 33 11  5 14 16 19 28 20 21\n",
      " 22 23 34 24 25 17 29 27 31 32 35 37 36 26 39 38]\n",
      "[ 2  0  3  1  4  7 13 15  5  8 10  9 17 11 21 33 12  6 14 16 19 18 20 31\n",
      " 23 24 22 26 27 28 30 29 37 32 34 35 25 36 39 38]\n",
      "[ 2  0  3  1  4  7 14 16  5  8 10  9 12 11 30 34 13  6 15 17 20 19 21 31\n",
      " 23 24 22 26 27 18 36 29 32 33 37 35 25 28 38 39]\n",
      "[13  0  2  1  3  6 14 17  4  7  9  8 11 10 28 32 12  5 15 18 20 19 21 29\n",
      " 22 23 33 25 16 26 35 27 30 31 36 34 24 37 38 39]\n",
      "[12  0  2  1  3  6 14 25 13  7  9  8 10 18 30 33 11  4 15 17 20 19 21 31\n",
      " 22 23 36  5 16 26 29 28 35 32 37 34 24 27 38 39]\n",
      "[12  0  2  1  3  5 13 16 25  6  8  7 17 10 19 32 11  4 15  9 18 29 20 21\n",
      " 22 23 33 14 26 27 35 28 30 31 36 34 24 37 38 39]\n",
      "[13 12  1  0  3  5 14 16  2  6  8  7 10  9 19 34 11  4 15 17 18 30 20 21\n",
      " 23 24 22 25 26 27 31 29 32 33 37 36 35 28 39 38]\n",
      "[ 3  0  2  1  5  7 13 17  4  8  9 16 11 10 21 33 12  6 15 18 20 19 22 30\n",
      " 23 24 34 14 25 26 29 28 31 32 37 36 35 27 38 39]\n",
      "[ 3  0  2  1  5  7 14 17  4  8 10  9 12 11 20 33 13  6 15 18 19 28 21 30\n",
      " 22 23 34 25 16 26 29 27 31 32 37 35 24 36 38 39]\n",
      "[ 3  0  2  1  5  7 11 15  4  8 14 13  9 17 29 33 10  6 12 16 18 27 19 30\n",
      " 21 22 20 23 24 25 28 26 31 32 34 36 35 37 38 39]\n",
      "[ 3  0  2  1  4  6 13 17 12  7 16  8 10  9 29 32 11  5 15 18 19 27 20 30\n",
      " 21 22 33 14 24 25 28 26 31 37 34 35 23 36 38 39]\n",
      "[11  0  2  1  3  4 14 17 12  5  7  6  9  8 29 30 10 13 16 18 19 27 21 20\n",
      " 31 23 22 15 24 25 28 26 35 36 37 33 32 34 38 39]\n",
      "[24  0  2  1  4  5 13 16  3  6  8  7 10  9 30 32 11 12 15 17 19 18 20 29\n",
      " 22 23 21 14 25 26 28 27 31 36 37 34 33 35 38 39]\n"
     ]
    },
    {
     "ename": "ValueError",
     "evalue": "all the input arrays must have same number of dimensions, but the array at index 0 has 2 dimension(s) and the array at index 1 has 1 dimension(s)",
     "output_type": "error",
     "traceback": [
      "\u001b[0;31m---------------------------------------------------------------------------\u001b[0m",
      "\u001b[0;31mValueError\u001b[0m                                Traceback (most recent call last)",
      "\u001b[0;32m<ipython-input-6-82dc39b688b6>\u001b[0m in \u001b[0;36m<module>\u001b[0;34m\u001b[0m\n\u001b[0;32m----> 1\u001b[0;31m \u001b[0mcoordinates\u001b[0m \u001b[0;34m=\u001b[0m \u001b[0mrun_tracker\u001b[0m\u001b[0;34m(\u001b[0m\u001b[0;36m100\u001b[0m\u001b[0;34m)\u001b[0m\u001b[0;34m[\u001b[0m\u001b[0;36m0\u001b[0m\u001b[0;34m]\u001b[0m\u001b[0;34m\u001b[0m\u001b[0;34m\u001b[0m\u001b[0m\n\u001b[0m\u001b[1;32m      2\u001b[0m \u001b[0mn_flies\u001b[0m \u001b[0;34m=\u001b[0m \u001b[0;36m40\u001b[0m\u001b[0;34m\u001b[0m\u001b[0;34m\u001b[0m\u001b[0m\n",
      "\u001b[0;32m~/Documents/flyTracker/src/flytracker/utils.py\u001b[0m in \u001b[0;36mrun_tracker\u001b[0;34m(n_frames, n_flies, path, mask)\u001b[0m\n\u001b[1;32m     48\u001b[0m             \u001b[0midentities\u001b[0m\u001b[0;34m.\u001b[0m\u001b[0mappend\u001b[0m\u001b[0;34m(\u001b[0m\u001b[0mnp\u001b[0m\u001b[0;34m.\u001b[0m\u001b[0marange\u001b[0m\u001b[0;34m(\u001b[0m\u001b[0mn_flies\u001b[0m\u001b[0;34m)\u001b[0m\u001b[0;34m)\u001b[0m\u001b[0;34m\u001b[0m\u001b[0;34m\u001b[0m\u001b[0m\n\u001b[1;32m     49\u001b[0m \u001b[0;34m\u001b[0m\u001b[0m\n\u001b[0;32m---> 50\u001b[0;31m     \u001b[0mdataset\u001b[0m \u001b[0;34m=\u001b[0m \u001b[0mnp\u001b[0m\u001b[0;34m.\u001b[0m\u001b[0mconcatenate\u001b[0m\u001b[0;34m(\u001b[0m\u001b[0;34m(\u001b[0m\u001b[0mnp\u001b[0m\u001b[0;34m.\u001b[0m\u001b[0mconcatenate\u001b[0m\u001b[0;34m(\u001b[0m\u001b[0mtime\u001b[0m\u001b[0;34m,\u001b[0m \u001b[0maxis\u001b[0m\u001b[0;34m=\u001b[0m\u001b[0;36m0\u001b[0m\u001b[0;34m)\u001b[0m\u001b[0;34m,\u001b[0m \u001b[0mnp\u001b[0m\u001b[0;34m.\u001b[0m\u001b[0mconcatenate\u001b[0m\u001b[0;34m(\u001b[0m\u001b[0midentities\u001b[0m\u001b[0;34m,\u001b[0m \u001b[0maxis\u001b[0m\u001b[0;34m=\u001b[0m\u001b[0;36m0\u001b[0m\u001b[0;34m)\u001b[0m\u001b[0;34m,\u001b[0m \u001b[0mnp\u001b[0m\u001b[0;34m.\u001b[0m\u001b[0mconcatenate\u001b[0m\u001b[0;34m(\u001b[0m\u001b[0mlocations\u001b[0m\u001b[0;34m,\u001b[0m \u001b[0maxis\u001b[0m\u001b[0;34m=\u001b[0m\u001b[0;36m0\u001b[0m\u001b[0;34m)\u001b[0m\u001b[0;34m)\u001b[0m\u001b[0;34m,\u001b[0m \u001b[0maxis\u001b[0m\u001b[0;34m=\u001b[0m\u001b[0;36m1\u001b[0m\u001b[0;34m)\u001b[0m\u001b[0;34m\u001b[0m\u001b[0;34m\u001b[0m\u001b[0m\n\u001b[0m\u001b[1;32m     51\u001b[0m     \u001b[0;32mreturn\u001b[0m \u001b[0mdataset\u001b[0m\u001b[0;34m\u001b[0m\u001b[0;34m\u001b[0m\u001b[0m\n",
      "\u001b[0;32m<__array_function__ internals>\u001b[0m in \u001b[0;36mconcatenate\u001b[0;34m(*args, **kwargs)\u001b[0m\n",
      "\u001b[0;31mValueError\u001b[0m: all the input arrays must have same number of dimensions, but the array at index 0 has 2 dimension(s) and the array at index 1 has 1 dimension(s)"
     ]
    }
   ],
   "source": [
    "coordinates = run_tracker(100)[0]\n",
    "n_flies = 40"
   ]
  },
  {
   "cell_type": "markdown",
   "metadata": {},
   "source": [
    "Let's use the first two steps as test:"
   ]
  },
  {
   "cell_type": "code",
   "execution_count": 3,
   "metadata": {},
   "outputs": [],
   "source": [
    "coordinates_ini = coordinates[0]\n",
    "coordinates_next = coordinates[1]"
   ]
  },
  {
   "cell_type": "code",
   "execution_count": 34,
   "metadata": {},
   "outputs": [],
   "source": [
    "# We identify the flies according to their initial ordering\n",
    "identies_i = np.arange(n_flies)\n",
    "\n",
    "# We calculate the distance matrix\n",
    "dist_matrix = distance_matrix(coordinates_ini, coordinates_next)\n",
    "\n",
    "# Apply hungarian to identities of second frame\n",
    "identities_j = linear_sum_assignment(dist_matrix)[1] # row columns are always ordered"
   ]
  },
  {
   "cell_type": "code",
   "execution_count": 35,
   "metadata": {},
   "outputs": [
    {
     "data": {
      "text/plain": [
       "array([ 0,  1,  2,  3,  4,  5,  6,  7,  8,  9, 10, 11, 12, 13, 22, 26, 25,\n",
       "       17, 18, 19, 23, 14, 20, 21, 24, 16, 15, 27, 28, 29, 30, 31, 32, 33,\n",
       "       34, 35, 36, 37, 38, 39])"
      ]
     },
     "execution_count": 35,
     "metadata": {},
     "output_type": "execute_result"
    }
   ],
   "source": [
    "identities_j[identities]"
   ]
  },
  {
   "cell_type": "code",
   "execution_count": null,
   "metadata": {},
   "outputs": [],
   "source": [
    "Tracking(coordinates_ini, coordinates_next, )"
   ]
  },
  {
   "cell_type": "markdown",
   "metadata": {},
   "source": [
    "# testing code"
   ]
  },
  {
   "cell_type": "code",
   "execution_count": 60,
   "metadata": {},
   "outputs": [
    {
     "name": "stdout",
     "output_type": "stream",
     "text": [
      "CPU times: user 1.64 s, sys: 171 ms, total: 1.81 s\n",
      "Wall time: 955 ms\n"
     ]
    }
   ],
   "source": [
    "%%time\n",
    "dataset = run_tracker(100)"
   ]
  },
  {
   "cell_type": "code",
   "execution_count": 61,
   "metadata": {},
   "outputs": [
    {
     "data": {
      "text/plain": [
       "(4000, 4)"
      ]
     },
     "execution_count": 61,
     "metadata": {},
     "output_type": "execute_result"
    }
   ],
   "source": [
    "dataset.shape"
   ]
  },
  {
   "cell_type": "code",
   "execution_count": 66,
   "metadata": {},
   "outputs": [
    {
     "data": {
      "text/plain": [
       "<matplotlib.collections.PathCollection at 0x7ff49b752590>"
      ]
     },
     "execution_count": 66,
     "metadata": {},
     "output_type": "execute_result"
    },
    {
     "data": {
      "image/png": "[encoded data removed]",
      "text/plain": [
       "<Figure size 432x288 with 1 Axes>"
      ]
     },
     "metadata": {
      "needs_background": "light"
     },
     "output_type": "display_data"
    }
   ],
   "source": [
    "fly = 15\n",
    "plt.scatter(dataset[dataset[:, 1] == fly][:, 2], dataset[dataset[:, 1] == fly][:, 3])\n",
    "\n",
    "fly = 5\n",
    "plt.scatter(dataset[dataset[:, 1] == fly][:, 2], dataset[dataset[:, 1] == fly][:, 3])"
   ]
  },
  {
   "cell_type": "code",
   "execution_count": 56,
   "metadata": {},
   "outputs": [
    {
     "data": {
      "text/plain": [
       "array([[  0.        ,   0.        , 867.06732178, 891.62438965],\n",
       "       [  0.        ,   1.        , 506.72955322, 870.31243896],\n",
       "       [  0.        ,   2.        , 463.487854  , 861.80334473],\n",
       "       ...,\n",
       "       [ 99.        ,  32.        , 954.31237793, 234.02018738],\n",
       "       [ 99.        ,  21.        , 270.70333862, 225.99319458],\n",
       "       [ 99.        ,  15.        , 277.10437012, 366.31484985]])"
      ]
     },
     "execution_count": 56,
     "metadata": {},
     "output_type": "execute_result"
    }
   ],
   "source": [
    "dataset"
   ]
  },
  {
   "cell_type": "code",
   "execution_count": null,
   "metadata": {},
   "outputs": [],
   "source": []
  }
 ],
 "metadata": {
  "kernelspec": {
   "display_name": "Python 3",
   "language": "python",
   "name": "python3"
  },
  "language_info": {
   "codemirror_mode": {
    "name": "ipython",
    "version": 3
   },
   "file_extension": ".py",
   "mimetype": "text/x-python",
   "name": "python",
   "nbconvert_exporter": "python",
   "pygments_lexer": "ipython3",
   "version": "3.7.6"
  }
 },
 "nbformat": 4,
 "nbformat_minor": 4
}
