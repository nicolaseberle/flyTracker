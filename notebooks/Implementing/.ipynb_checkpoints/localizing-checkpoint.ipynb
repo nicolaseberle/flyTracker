{
 "cells": [
  {
   "cell_type": "markdown",
   "metadata": {},
   "source": [
    "In this notebook we implement the class to perform localization of the flies using the blob detector."
   ]
  },
  {
   "cell_type": "code",
   "execution_count": 1,
   "metadata": {},
   "outputs": [],
   "source": [
    "import cv2 as cv \n",
    "import numpy as np\n",
    "\n",
    "from flytracker.preprocessing import Frame\n",
    "from flytracker.utils import run_tracker\n",
    "\n",
    "import matplotlib.pyplot as plt \n",
    "\n",
    "%load_ext autoreload\n",
    "%autoreload 2"
   ]
  },
  {
   "cell_type": "markdown",
   "metadata": {},
   "source": [
    "# Building a class"
   ]
  },
  {
   "cell_type": "code",
   "execution_count": 30,
   "metadata": {},
   "outputs": [],
   "source": [
    "class BlobDetector:\n",
    "    def __init__(self, params=None):\n",
    "        if params is None:\n",
    "            self.blob_detector = cv.SimpleBlobDetector_create(self.default_blob_detector_params)\n",
    "        else:\n",
    "            self.blob_detector = cv.SimpleBlobDetector_create(params)\n",
    "    \n",
    "    def __call__(self, image):\n",
    "        keypoints = self.blob_detector.detect(image(gray=True, masked=True))\n",
    "        coordinates = np.array([keypoint.pt for keypoint in keypoints])\n",
    "        return coordinates\n",
    "        \n",
    "    @property\n",
    "    def default_blob_detector_params(self):\n",
    "        # Setup SimpleBlobDetector parameters.\n",
    "        params = cv.SimpleBlobDetector_Params()\n",
    "\n",
    "        # Change thresholds\n",
    "        params.minThreshold = 20\n",
    "        params.maxThreshold = 150\n",
    "\n",
    "        # Filter by Area.\n",
    "        params.filterByArea = True\n",
    "        params.minArea = 15\n",
    "        params.maxArea = 60\n",
    "        params.minDistBetweenBlobs = 1.0\n",
    "\n",
    "        # Turn off other filters\n",
    "        params.filterByCircularity = False\n",
    "        params.filterByConvexity = False\n",
    "        params.filterByInertia = False\n",
    "\n",
    "        return params"
   ]
  },
  {
   "cell_type": "markdown",
   "metadata": {},
   "source": [
    "# Testing"
   ]
  },
  {
   "cell_type": "code",
   "execution_count": 31,
   "metadata": {},
   "outputs": [],
   "source": [
    "frames = run_tracker(100)\n",
    "test_frame = frames[0]"
   ]
  },
  {
   "cell_type": "code",
   "execution_count": 32,
   "metadata": {},
   "outputs": [],
   "source": [
    "detec = BlobDetector()"
   ]
  },
  {
   "cell_type": "code",
   "execution_count": 34,
   "metadata": {},
   "outputs": [
    {
     "name": "stderr",
     "output_type": "stream",
     "text": [
      "ERROR:root:Internal Python error in the inspect module.\n",
      "Below is the traceback from this internal error.\n",
      "\n"
     ]
    },
    {
     "name": "stdout",
     "output_type": "stream",
     "text": [
      "Traceback (most recent call last):\n",
      "  File \"/opt/anaconda3/lib/python3.7/site-packages/IPython/core/interactiveshell.py\", line 3331, in run_code\n",
      "    exec(code_obj, self.user_global_ns, self.user_ns)\n",
      "  File \"<ipython-input-34-bb27c2368995>\", line 1, in <module>\n",
      "    detec(test_frame)\n",
      "  File \"<ipython-input-30-5121a2e1ddec>\", line 10, in __call__\n",
      "    coordinates = np.array([keypoint.pt for keypoint in detec(test_frame)])\n",
      "  File \"<ipython-input-30-5121a2e1ddec>\", line 10, in __call__\n",
      "    coordinates = np.array([keypoint.pt for keypoint in detec(test_frame)])\n",
      "  File \"<ipython-input-30-5121a2e1ddec>\", line 10, in __call__\n",
      "    coordinates = np.array([keypoint.pt for keypoint in detec(test_frame)])\n",
      "  [Previous line repeated 1474 more times]\n",
      "  File \"<ipython-input-30-5121a2e1ddec>\", line 9, in __call__\n",
      "    keypoints = self.blob_detector.detect(image(gray=True, masked=True))\n",
      "  File \"/Users/gert-janboth/Documents/flyTracker/src/flytracker/preprocessing.py\", line 20, in __call__\n",
      "    image = self.apply_mask(image, self.mask)\n",
      "  File \"/Users/gert-janboth/Documents/flyTracker/src/flytracker/preprocessing.py\", line 31, in apply_mask\n",
      "    np.putmask(masked_image, ~mask, 255)\n",
      "  File \"<__array_function__ internals>\", line 6, in putmask\n",
      "RecursionError: maximum recursion depth exceeded while calling a Python object\n",
      "\n",
      "During handling of the above exception, another exception occurred:\n",
      "\n",
      "Traceback (most recent call last):\n",
      "  File \"/opt/anaconda3/lib/python3.7/site-packages/IPython/core/interactiveshell.py\", line 2044, in showtraceback\n",
      "    stb = value._render_traceback_()\n",
      "AttributeError: 'RecursionError' object has no attribute '_render_traceback_'\n",
      "\n",
      "During handling of the above exception, another exception occurred:\n",
      "\n",
      "Traceback (most recent call last):\n",
      "  File \"/opt/anaconda3/lib/python3.7/site-packages/IPython/core/ultratb.py\", line 1151, in get_records\n",
      "    return _fixed_getinnerframes(etb, number_of_lines_of_context, tb_offset)\n",
      "  File \"/opt/anaconda3/lib/python3.7/site-packages/IPython/core/ultratb.py\", line 319, in wrapped\n",
      "    return f(*args, **kwargs)\n",
      "  File \"/opt/anaconda3/lib/python3.7/site-packages/IPython/core/ultratb.py\", line 353, in _fixed_getinnerframes\n",
      "    records = fix_frame_records_filenames(inspect.getinnerframes(etb, context))\n",
      "  File \"/opt/anaconda3/lib/python3.7/inspect.py\", line 1502, in getinnerframes\n",
      "    frameinfo = (tb.tb_frame,) + getframeinfo(tb, context)\n",
      "  File \"/opt/anaconda3/lib/python3.7/inspect.py\", line 1460, in getframeinfo\n",
      "    filename = getsourcefile(frame) or getfile(frame)\n",
      "  File \"/opt/anaconda3/lib/python3.7/inspect.py\", line 696, in getsourcefile\n",
      "    if getattr(getmodule(object, filename), '__loader__', None) is not None:\n",
      "  File \"/opt/anaconda3/lib/python3.7/inspect.py\", line 733, in getmodule\n",
      "    if ismodule(module) and hasattr(module, '__file__'):\n",
      "  File \"/opt/anaconda3/lib/python3.7/inspect.py\", line 70, in ismodule\n",
      "    return isinstance(object, types.ModuleType)\n",
      "KeyboardInterrupt\n"
     ]
    },
    {
     "ename": "RecursionError",
     "evalue": "maximum recursion depth exceeded while calling a Python object",
     "output_type": "error",
     "traceback": [
      "\u001b[0;31m---------------------------------------------------------------------------\u001b[0m"
     ]
    }
   ],
   "source": [
    "detec(test_frame)"
   ]
  },
  {
   "cell_type": "code",
   "execution_count": 28,
   "metadata": {},
   "outputs": [
    {
     "data": {
      "text/plain": [
       "(40, 2)"
      ]
     },
     "execution_count": 28,
     "metadata": {},
     "output_type": "execute_result"
    }
   ],
   "source": [
    "np.array(coordinates)"
   ]
  },
  {
   "cell_type": "code",
   "execution_count": null,
   "metadata": {},
   "outputs": [],
   "source": [
    "dete"
   ]
  }
 ],
 "metadata": {
  "kernelspec": {
   "display_name": "Python 3",
   "language": "python",
   "name": "python3"
  },
  "language_info": {
   "codemirror_mode": {
    "name": "ipython",
    "version": 3
   },
   "file_extension": ".py",
   "mimetype": "text/x-python",
   "name": "python",
   "nbconvert_exporter": "python",
   "pygments_lexer": "ipython3",
   "version": "3.7.6"
  }
 },
 "nbformat": 4,
 "nbformat_minor": 4
}
