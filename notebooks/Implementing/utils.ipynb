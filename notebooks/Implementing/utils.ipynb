{
 "cells": [
  {
   "cell_type": "markdown",
   "metadata": {},
   "source": [
    "This file contains some useful functions during developing."
   ]
  },
  {
   "cell_type": "code",
   "execution_count": 5,
   "metadata": {},
   "outputs": [
    {
     "name": "stdout",
     "output_type": "stream",
     "text": [
      "The autoreload extension is already loaded. To reload it, use:\n",
      "  %reload_ext autoreload\n"
     ]
    }
   ],
   "source": [
    "import cv2 as cv \n",
    "import numpy as np\n",
    "\n",
    "from flytracker.preprocessing import Frame\n",
    "\n",
    "import matplotlib.pyplot as plt\n",
    "\n",
    "from dataclasses import dataclass\n",
    "%load_ext autoreload\n",
    "%autoreload 2"
   ]
  },
  {
   "cell_type": "markdown",
   "metadata": {},
   "source": [
    "# Class for basic QR code mask"
   ]
  },
  {
   "cell_type": "code",
   "execution_count": 14,
   "metadata": {},
   "outputs": [],
   "source": [
    "class FourArenasQRCodeMask:\n",
    "    \"\"\"Contains mask for four arenas with QR code.\"\"\"\n",
    "    @property\n",
    "    def mask(self):\n",
    "        # Building mask, this will be better later\n",
    "        mask = np.ones((1080, 1280), dtype=np.bool) # assumes 1080 x 1280 resolution\n",
    "        mask[:180, :300] = 0 # upper left corner\n",
    "        mask[-230:, :300] = 0 # lower left corner\n",
    "        mask[-230:, -300:] = 0 # lower right corner\n",
    "        mask[:180, -300:] = 0 # lower right corner\n",
    "        mask[:70, :] = 0\n",
    "        mask[-120:, :] = 0\n",
    "        mask[:, :180] = 0\n",
    "        mask[:, -200:] = 0\n",
    "        \n",
    "        return mask"
   ]
  },
  {
   "cell_type": "markdown",
   "metadata": {},
   "source": [
    "# Applying pipeline for first n frames"
   ]
  },
  {
   "cell_type": "code",
   "execution_count": 15,
   "metadata": {},
   "outputs": [],
   "source": [
    "def run_tracker(n_frames, path=None, mask=None):\n",
    "    \"\"\"Runs code up till first n_frames\"\"\"\n",
    "    if path is None:\n",
    "        path = '/Users/gert-janboth/Documents/flyTracker/data/movies/4arenas_QR.h264'\n",
    "    if mask is None:\n",
    "        mask = FourArenasQRCodeMask().mask\n",
    "        \n",
    "    capture = cv.VideoCapture(path)\n",
    "\n",
    "    frames = []\n",
    "    for frame_idx in np.arange(n_frames):\n",
    "        frame = Frame(capture.read()[1], mask)\n",
    "        frames.append(frame)\n",
    "    return frames"
   ]
  },
  {
   "cell_type": "code",
   "execution_count": 16,
   "metadata": {},
   "outputs": [
    {
     "data": {
      "text/plain": [
       "array([[255, 255, 255, ..., 255, 255, 255],\n",
       "       [255, 255, 255, ..., 255, 255, 255],\n",
       "       [255, 255, 255, ..., 255, 255, 255],\n",
       "       ...,\n",
       "       [255, 255, 255, ..., 255, 255, 255],\n",
       "       [255, 255, 255, ..., 255, 255, 255],\n",
       "       [255, 255, 255, ..., 255, 255, 255]], dtype=uint8)"
      ]
     },
     "execution_count": 16,
     "metadata": {},
     "output_type": "execute_result"
    }
   ],
   "source": [
    "run_tracker(1)[0]()"
   ]
  },
  {
   "cell_type": "code",
   "execution_count": null,
   "metadata": {},
   "outputs": [],
   "source": []
  }
 ],
 "metadata": {
  "kernelspec": {
   "display_name": "Python 3",
   "language": "python",
   "name": "python3"
  },
  "language_info": {
   "codemirror_mode": {
    "name": "ipython",
    "version": 3
   },
   "file_extension": ".py",
   "mimetype": "text/x-python",
   "name": "python",
   "nbconvert_exporter": "python",
   "pygments_lexer": "ipython3",
   "version": "3.7.6"
  }
 },
 "nbformat": 4,
 "nbformat_minor": 4
}
