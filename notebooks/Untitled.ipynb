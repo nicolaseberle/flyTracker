{
 "cells": [
  {
   "cell_type": "code",
   "execution_count": 1,
   "metadata": {},
   "outputs": [],
   "source": [
    "import numpy as np\n",
    "import cv2 as cv\n",
    "import pandas as pd\n",
    "from sklearn.cluster import KMeans\n",
    "from os.path import join\n",
    "from os import path\n",
    "import time\n",
    "from typing import Tuple\n",
    "from sklearn.cluster import k_means\n",
    "\n",
    "from itertools import count\n",
    "from functools import partial\n",
    "\n",
    "from scipy.optimize import linear_sum_assignment\n",
    "from scipy.spatial import distance_matrix\n",
    "\n",
    "import matplotlib.pyplot as plt"
   ]
  },
  {
   "cell_type": "code",
   "execution_count": 2,
   "metadata": {},
   "outputs": [],
   "source": [
    "def construct_undistort_map(image_size, folder):\n",
    "    mtx = np.load(join(folder, \"mtx_file.npy\"))\n",
    "    dist = np.load(join(folder, \"dist_file.npy\"))\n",
    "    newcameramtx = np.load(join(folder, \"newcameramtx_file.npy\"))\n",
    "\n",
    "    mapping = cv.initUndistortRectifyMap(mtx, dist, None, newcameramtx, image_size, 5)\n",
    "    return mapping"
   ]
  },
  {
   "cell_type": "code",
   "execution_count": 3,
   "metadata": {},
   "outputs": [],
   "source": [
    "def default_blob_detector_params():\n",
    "    # Setup SimpleBlobDetector parameters.\n",
    "    params = cv.SimpleBlobDetector_Params()\n",
    "\n",
    "    # Change thresholds\n",
    "    params.minThreshold = 20\n",
    "    params.maxThreshold = 150\n",
    "\n",
    "    # Filter by Area.\n",
    "    params.filterByArea = True\n",
    "    params.minArea = 15\n",
    "    params.maxArea = 60\n",
    "    params.minDistBetweenBlobs = 1.0\n",
    "\n",
    "    # Turn off other filters\n",
    "    params.filterByCircularity = False\n",
    "    params.filterByConvexity = False\n",
    "    params.filterByInertia = False\n",
    "\n",
    "    return params"
   ]
  },
  {
   "cell_type": "code",
   "execution_count": 4,
   "metadata": {},
   "outputs": [],
   "source": [
    "def preprocessing(image, mapping, mask):\n",
    "    processed_image = cv.cvtColor(image, cv.COLOR_BGR2GRAY)\n",
    "    processed_image = cv.remap(processed_image, *mapping, cv.INTER_LINEAR)\n",
    "    processed_image[~mask] = 255\n",
    "    return processed_image"
   ]
  },
  {
   "cell_type": "code",
   "execution_count": 5,
   "metadata": {},
   "outputs": [],
   "source": [
    "def blob_detector_localization(image):\n",
    "    blob_detector = cv.SimpleBlobDetector_create(default_blob_detector_params())\n",
    "    keypoints = blob_detector.detect(image)  # get keypoints\n",
    "    return np.array([keypoint.pt for keypoint in keypoints])"
   ]
  },
  {
   "cell_type": "code",
   "execution_count": 6,
   "metadata": {},
   "outputs": [],
   "source": [
    "def initialize(loader, n_frames):\n",
    "    n_blobs = []\n",
    "    for frame_idx in count():\n",
    "        image = loader()\n",
    "        locations = blob_detector_localization(image)\n",
    "        n_blobs.append(locations.shape[0])\n",
    "\n",
    "        if len(n_blobs) >= n_frames:\n",
    "            n_flies = int(np.median(n_blobs))\n",
    "            if (n_blobs[-1] == n_flies):\n",
    "                break\n",
    "\n",
    "    return n_flies, locations, frame_idx"
   ]
  },
  {
   "cell_type": "code",
   "execution_count": 7,
   "metadata": {},
   "outputs": [],
   "source": [
    "# Creating mask\n",
    "mask = np.ones((1080, 1280), dtype=np.bool)  # assumes 1080 x 1280 resolution\n",
    "mask[:110, :] = 0\n",
    "mask[-110:, :] = 0\n",
    "mask[:, :180] = 0\n",
    "mask[:, -260:] = 0"
   ]
  },
  {
   "cell_type": "code",
   "execution_count": 8,
   "metadata": {},
   "outputs": [],
   "source": [
    "#movie_path = \"/home/gert-jan/Documents/flyTracker/data/testing_data/4arenas/seq_1.h264\"\n",
    "movie_path = \"/home/gert-jan/Documents/flyTracker/data/testing_data/clement/seq_1.h264\"\n",
    "capture = cv.VideoCapture(movie_path)\n",
    "image_size = (\n",
    "    int(capture.get(cv.CAP_PROP_FRAME_WIDTH)),\n",
    "    int(capture.get(cv.CAP_PROP_FRAME_HEIGHT)),\n",
    ")"
   ]
  },
  {
   "cell_type": "code",
   "execution_count": 9,
   "metadata": {},
   "outputs": [],
   "source": [
    "mapping_folder = \"/home/gert-jan/Documents/flyTracker/data/distortion_maps/\"\n",
    "mapping = construct_undistort_map(image_size, mapping_folder)"
   ]
  },
  {
   "cell_type": "code",
   "execution_count": 10,
   "metadata": {},
   "outputs": [],
   "source": [
    "# Building loader function\n",
    "loader = lambda: preprocessing(capture.read()[1], mapping=mapping, mask=mask)"
   ]
  },
  {
   "cell_type": "code",
   "execution_count": 11,
   "metadata": {},
   "outputs": [],
   "source": [
    "n_flies, initial_locations, initial_frame = initialize(loader, 100)"
   ]
  },
  {
   "cell_type": "code",
   "execution_count": 12,
   "metadata": {},
   "outputs": [],
   "source": [
    "def localize_kmeans(image, init, threshold=120):\n",
    "    n_flies = init.shape[0]\n",
    "    fly_pixels = cv.findNonZero((image < threshold).astype(\"uint8\")).squeeze()\n",
    "    locations = KMeans(n_clusters=n_flies, n_init=1, init=init).fit(fly_pixels).cluster_centers_\n",
    "    return locations"
   ]
  },
  {
   "cell_type": "code",
   "execution_count": 13,
   "metadata": {},
   "outputs": [],
   "source": [
    "def hungarian(locs_new, locs_prev):\n",
    "    new_ordering = linear_sum_assignment(distance_matrix(locs_new, locs_prev))[1]\n",
    "    return locs_new[new_ordering]"
   ]
  },
  {
   "cell_type": "code",
   "execution_count": 14,
   "metadata": {},
   "outputs": [],
   "source": [
    "def localize(loader, initial_position, n_frames=None):\n",
    "    locations = [initial_position]\n",
    "    for idx in count():\n",
    "        try:\n",
    "            image = loader()\n",
    "        except:\n",
    "            break # finished\n",
    "        \n",
    "        locations.append(hungarian(localize_kmeans(image, locations[-1]), locations[-1]))\n",
    "        \n",
    "        if idx % 1000 == 0:\n",
    "            print(f\"Done with frame {idx}\")\n",
    "        if idx + 1 == n_frames:\n",
    "            break # max number of frames\n",
    "    return locations"
   ]
  },
  {
   "cell_type": "code",
   "execution_count": 15,
   "metadata": {},
   "outputs": [
    {
     "name": "stdout",
     "output_type": "stream",
     "text": [
      "Done with frame 0\n",
      "Done with frame 1000\n",
      "Done with frame 2000\n",
      "Done with frame 3000\n",
      "Done with frame 4000\n",
      "Done with frame 5000\n",
      "Done with frame 6000\n",
      "Done with frame 7000\n",
      "Done with frame 8000\n",
      "Done with frame 9000\n",
      "CPU times: user 24min 29s, sys: 3min, total: 27min 30s\n",
      "Wall time: 1min 14s\n"
     ]
    }
   ],
   "source": [
    "%%time\n",
    "locs = localize(loader, initial_locations, n_frames=10000)\n",
    "locs = np.array(locs)"
   ]
  },
  {
   "cell_type": "code",
   "execution_count": 16,
   "metadata": {},
   "outputs": [
    {
     "data": {
      "text/plain": [
       "[<matplotlib.lines.Line2D at 0x7f98d40ba640>]"
      ]
     },
     "execution_count": 16,
     "metadata": {},
     "output_type": "execute_result"
    },
    {
     "data": {
      "image/png": "[encoded data removed]",
      "text/plain": [
       "<Figure size 432x288 with 1 Axes>"
      ]
     },
     "metadata": {
      "needs_background": "light"
     },
     "output_type": "display_data"
    }
   ],
   "source": [
    "ID = 1\n",
    "plt.plot(locs[:, ID, 0], locs[:, ID, 1], '-')"
   ]
  },
  {
   "cell_type": "code",
   "execution_count": 17,
   "metadata": {},
   "outputs": [],
   "source": [
    "diff = np.linalg.norm(np.diff(locs, axis=0), axis=2)"
   ]
  },
  {
   "cell_type": "code",
   "execution_count": 18,
   "metadata": {},
   "outputs": [
    {
     "data": {
      "text/plain": [
       "(array([3.99996e+05, 2.00000e+00, 0.00000e+00, 0.00000e+00, 0.00000e+00,\n",
       "        0.00000e+00, 0.00000e+00, 0.00000e+00, 0.00000e+00, 2.00000e+00]),\n",
       " array([  0.        ,  23.05461484,  46.10922968,  69.16384452,\n",
       "         92.21845937, 115.27307421, 138.32768905, 161.38230389,\n",
       "        184.43691873, 207.49153357, 230.54614842]),\n",
       " <BarContainer object of 10 artists>)"
      ]
     },
     "execution_count": 18,
     "metadata": {},
     "output_type": "execute_result"
    },
    {
     "data": {
      "image/png": "[encoded data removed]",
      "text/plain": [
       "<Figure size 432x288 with 1 Axes>"
      ]
     },
     "metadata": {
      "needs_background": "light"
     },
     "output_type": "display_data"
    }
   ],
   "source": [
    "plt.hist(diff.flatten())"
   ]
  },
  {
   "cell_type": "code",
   "execution_count": 19,
   "metadata": {},
   "outputs": [],
   "source": [
    "def post_process(locations, initial_frame, n_arenas):\n",
    "    n_frames = len(locations)\n",
    "    n_flies = len(locations[0])\n",
    "    identities = (\n",
    "        np.arange(n_flies)[None, :] * np.ones((n_frames, n_flies))\n",
    "    ).reshape(\n",
    "        -1, 1\n",
    "    )  # we get free tracking from the kmeans\n",
    "    frames = (\n",
    "        np.arange(initial_frame, n_frames + initial_frame)[:, None]\n",
    "        * np.ones((n_frames, n_flies))\n",
    "    ).reshape(-1, 1)\n",
    "    df = pd.DataFrame(\n",
    "        np.concatenate(\n",
    "            [frames, identities, np.concatenate(locations, axis=0)], axis=1\n",
    "        ),\n",
    "        columns=[\"frame\", \"ID\", \"x\", \"y\"],\n",
    "    )\n",
    "\n",
    "    # Localizing flies per arena\n",
    "    x_ave = df.pivot_table(index=\"ID\", columns=\"frame\", values=\"x\").mean(axis=1)\n",
    "    y_ave = df.pivot_table(index=\"ID\", columns=\"frame\", values=\"y\").mean(axis=1)\n",
    "    labels = k_means(np.stack([x_ave, y_ave], axis=1), n_arenas)[1]\n",
    "    df[\"arena\"] = (labels[None, :] * np.ones((df.frame.unique().size, 1))).flatten()\n",
    "    return df"
   ]
  },
  {
   "cell_type": "code",
   "execution_count": 20,
   "metadata": {},
   "outputs": [],
   "source": [
    "df = post_process(list(locs), initial_frame, n_arenas=4)"
   ]
  },
  {
   "cell_type": "code",
   "execution_count": 21,
   "metadata": {},
   "outputs": [
    {
     "data": {
      "text/html": [
       "<div>\n",
       "<style scoped>\n",
       "    .dataframe tbody tr th:only-of-type {\n",
       "        vertical-align: middle;\n",
       "    }\n",
       "\n",
       "    .dataframe tbody tr th {\n",
       "        vertical-align: top;\n",
       "    }\n",
       "\n",
       "    .dataframe thead th {\n",
       "        text-align: right;\n",
       "    }\n",
       "</style>\n",
       "<table border=\"1\" class=\"dataframe\">\n",
       "  <thead>\n",
       "    <tr style=\"text-align: right;\">\n",
       "      <th></th>\n",
       "      <th>frame</th>\n",
       "      <th>ID</th>\n",
       "      <th>x</th>\n",
       "      <th>y</th>\n",
       "      <th>arena</th>\n",
       "    </tr>\n",
       "  </thead>\n",
       "  <tbody>\n",
       "    <tr>\n",
       "      <th>0</th>\n",
       "      <td>99.0</td>\n",
       "      <td>0.0</td>\n",
       "      <td>884.281189</td>\n",
       "      <td>861.476074</td>\n",
       "      <td>2.0</td>\n",
       "    </tr>\n",
       "    <tr>\n",
       "      <th>1</th>\n",
       "      <td>99.0</td>\n",
       "      <td>1.0</td>\n",
       "      <td>889.688843</td>\n",
       "      <td>838.107544</td>\n",
       "      <td>2.0</td>\n",
       "    </tr>\n",
       "    <tr>\n",
       "      <th>2</th>\n",
       "      <td>99.0</td>\n",
       "      <td>2.0</td>\n",
       "      <td>864.611633</td>\n",
       "      <td>837.241516</td>\n",
       "      <td>2.0</td>\n",
       "    </tr>\n",
       "    <tr>\n",
       "      <th>3</th>\n",
       "      <td>99.0</td>\n",
       "      <td>3.0</td>\n",
       "      <td>848.874207</td>\n",
       "      <td>835.064087</td>\n",
       "      <td>2.0</td>\n",
       "    </tr>\n",
       "    <tr>\n",
       "      <th>4</th>\n",
       "      <td>99.0</td>\n",
       "      <td>4.0</td>\n",
       "      <td>806.007935</td>\n",
       "      <td>820.360840</td>\n",
       "      <td>2.0</td>\n",
       "    </tr>\n",
       "    <tr>\n",
       "      <th>...</th>\n",
       "      <td>...</td>\n",
       "      <td>...</td>\n",
       "      <td>...</td>\n",
       "      <td>...</td>\n",
       "      <td>...</td>\n",
       "    </tr>\n",
       "    <tr>\n",
       "      <th>400035</th>\n",
       "      <td>10099.0</td>\n",
       "      <td>35.0</td>\n",
       "      <td>446.609756</td>\n",
       "      <td>484.731707</td>\n",
       "      <td>3.0</td>\n",
       "    </tr>\n",
       "    <tr>\n",
       "      <th>400036</th>\n",
       "      <td>10099.0</td>\n",
       "      <td>36.0</td>\n",
       "      <td>400.105263</td>\n",
       "      <td>504.394737</td>\n",
       "      <td>3.0</td>\n",
       "    </tr>\n",
       "    <tr>\n",
       "      <th>400037</th>\n",
       "      <td>10099.0</td>\n",
       "      <td>37.0</td>\n",
       "      <td>518.270270</td>\n",
       "      <td>266.432432</td>\n",
       "      <td>3.0</td>\n",
       "    </tr>\n",
       "    <tr>\n",
       "      <th>400038</th>\n",
       "      <td>10099.0</td>\n",
       "      <td>38.0</td>\n",
       "      <td>372.520000</td>\n",
       "      <td>306.240000</td>\n",
       "      <td>3.0</td>\n",
       "    </tr>\n",
       "    <tr>\n",
       "      <th>400039</th>\n",
       "      <td>10099.0</td>\n",
       "      <td>39.0</td>\n",
       "      <td>505.235294</td>\n",
       "      <td>309.372549</td>\n",
       "      <td>3.0</td>\n",
       "    </tr>\n",
       "  </tbody>\n",
       "</table>\n",
       "<p>400040 rows × 5 columns</p>\n",
       "</div>"
      ],
      "text/plain": [
       "          frame    ID           x           y  arena\n",
       "0          99.0   0.0  884.281189  861.476074    2.0\n",
       "1          99.0   1.0  889.688843  838.107544    2.0\n",
       "2          99.0   2.0  864.611633  837.241516    2.0\n",
       "3          99.0   3.0  848.874207  835.064087    2.0\n",
       "4          99.0   4.0  806.007935  820.360840    2.0\n",
       "...         ...   ...         ...         ...    ...\n",
       "400035  10099.0  35.0  446.609756  484.731707    3.0\n",
       "400036  10099.0  36.0  400.105263  504.394737    3.0\n",
       "400037  10099.0  37.0  518.270270  266.432432    3.0\n",
       "400038  10099.0  38.0  372.520000  306.240000    3.0\n",
       "400039  10099.0  39.0  505.235294  309.372549    3.0\n",
       "\n",
       "[400040 rows x 5 columns]"
      ]
     },
     "execution_count": 21,
     "metadata": {},
     "output_type": "execute_result"
    }
   ],
   "source": [
    "df"
   ]
  },
  {
   "cell_type": "code",
   "execution_count": 22,
   "metadata": {},
   "outputs": [
    {
     "data": {
      "text/plain": [
       "(10001, 40, 2)"
      ]
     },
     "execution_count": 22,
     "metadata": {},
     "output_type": "execute_result"
    }
   ],
   "source": [
    "locs.shape"
   ]
  },
  {
   "cell_type": "code",
   "execution_count": 23,
   "metadata": {},
   "outputs": [],
   "source": [
    "def run(movie_path, mapping_folder, mask, n_arenas, n_frames=None, n_ini=100):\n",
    "    # Constructing loader\n",
    "    capture = cv.VideoCapture(movie_path)\n",
    "    image_size = (\n",
    "            int(capture.get(cv.CAP_PROP_FRAME_WIDTH)),\n",
    "            int(capture.get(cv.CAP_PROP_FRAME_HEIGHT)),\n",
    "        )\n",
    "    mapping = construct_undistort_map(image_size, mapping_folder)\n",
    "    loader = lambda: preprocessing(capture.read()[1], mapping=mapping, mask=mask)\n",
    "    \n",
    "    # Actual logic\n",
    "    n_flies, initial_locations, initial_frame = initialize(loader, n_ini)\n",
    "    locs = localize(loader, initial_locations, n_frames=n_frames)\n",
    "    df = post_process(locs, initial_frame, n_arenas=n_arenas)\n",
    "    return df"
   ]
  },
  {
   "cell_type": "code",
   "execution_count": 12,
   "metadata": {},
   "outputs": [],
   "source": [
    "# Creating mask\n",
    "mask = np.ones((1080, 1280), dtype=np.bool)  # assumes 1080 x 1280 resolution\n",
    "mask[:110, :] = 0\n",
    "mask[-110:, :] = 0\n",
    "mask[:, :180] = 0\n",
    "mask[:, -260:] = 0"
   ]
  },
  {
   "cell_type": "code",
   "execution_count": 13,
   "metadata": {},
   "outputs": [
    {
     "name": "stdout",
     "output_type": "stream",
     "text": [
      "Done with frame 0\n",
      "CPU times: user 2min 29s, sys: 23.3 s, total: 2min 53s\n",
      "Wall time: 7.67 s\n"
     ]
    }
   ],
   "source": [
    "%%time\n",
    "movie_path = \"/home/gert-jan/Documents/flyTracker/data/testing_data/4arenas/seq_1.h264\"\n",
    "mapping_folder = \"/home/gert-jan/Documents/flyTracker/data/distortion_maps/\"\n",
    "df = run(movie_path, mapping_folder, mask, n_arenas=4, n_frames=1000)"
   ]
  },
  {
   "cell_type": "code",
   "execution_count": 16,
   "metadata": {},
   "outputs": [
    {
     "name": "stdout",
     "output_type": "stream",
     "text": [
      "Done with frame 0\n",
      "Done with frame 1000\n",
      "Done with frame 2000\n",
      "Done with frame 3000\n",
      "Done with frame 4000\n",
      "Done with frame 5000\n",
      "Done with frame 6000\n",
      "Done with frame 7000\n",
      "Done with frame 8000\n",
      "Done with frame 9000\n",
      "Done with frame 10000\n",
      "Done with frame 11000\n",
      "Done with frame 12000\n",
      "Done with frame 13000\n",
      "Done with frame 14000\n",
      "Done with frame 15000\n",
      "Done with frame 16000\n",
      "Done with frame 17000\n",
      "Done with frame 18000\n",
      "Done with frame 19000\n",
      "Done with frame 20000\n",
      "Done with frame 21000\n",
      "Done with frame 22000\n",
      "Done with frame 23000\n",
      "Done with frame 24000\n",
      "Done with frame 25000\n",
      "Done with frame 26000\n",
      "Done with frame 27000\n",
      "Done with frame 28000\n",
      "Done with frame 29000\n",
      "Done with frame 30000\n",
      "Done with frame 31000\n",
      "Done with frame 32000\n",
      "Done with frame 33000\n",
      "Done with frame 34000\n",
      "Done with frame 35000\n",
      "Done with frame 36000\n",
      "Done with frame 37000\n",
      "Done with frame 38000\n",
      "Done with frame 39000\n",
      "Done with frame 40000\n",
      "Done with frame 41000\n",
      "Done with frame 42000\n",
      "Done with frame 43000\n",
      "Done with frame 44000\n",
      "Done with frame 45000\n",
      "Done with frame 46000\n",
      "Done with frame 47000\n",
      "Done with frame 48000\n",
      "Done with frame 49000\n",
      "Done with frame 50000\n",
      "Done with frame 51000\n",
      "Done with frame 52000\n",
      "Done with frame 53000\n",
      "Done with frame 54000\n",
      "Done with frame 55000\n",
      "Done with frame 56000\n",
      "Done with frame 57000\n",
      "Done with frame 58000\n",
      "Done with frame 59000\n",
      "Done with frame 60000\n",
      "Done with frame 61000\n",
      "Done with frame 62000\n",
      "Done with frame 63000\n",
      "Done with frame 64000\n",
      "Done with frame 65000\n",
      "Done with frame 66000\n",
      "Done with frame 67000\n",
      "Done with frame 68000\n",
      "Done with frame 69000\n",
      "Done with frame 70000\n",
      "Done with frame 71000\n",
      "Done with frame 72000\n",
      "Done with frame 73000\n",
      "Done with frame 74000\n",
      "Done with frame 75000\n",
      "Done with frame 76000\n",
      "Done with frame 77000\n",
      "Done with frame 78000\n",
      "Done with frame 79000\n",
      "Done with frame 80000\n",
      "Done with frame 81000\n",
      "Done with frame 82000\n",
      "Done with frame 83000\n",
      "Done with frame 84000\n",
      "Done with frame 85000\n",
      "Done with frame 86000\n",
      "Done with frame 87000\n",
      "Done with frame 88000\n",
      "Done with frame 89000\n",
      "Done with frame 90000\n",
      "Done with frame 91000\n",
      "Done with frame 92000\n",
      "Done with frame 93000\n",
      "Done with frame 94000\n",
      "Done with frame 95000\n",
      "Done with frame 96000\n",
      "Done with frame 97000\n",
      "Done with frame 98000\n",
      "Done with frame 99000\n",
      "Done with frame 100000\n",
      "Done with frame 101000\n",
      "Done with frame 102000\n",
      "Done with frame 103000\n",
      "Done with frame 104000\n",
      "Done with frame 105000\n",
      "Done with frame 106000\n",
      "Done with frame 107000\n",
      "CPU times: user 4h 6min 5s, sys: 31min 28s, total: 4h 37min 33s\n",
      "Wall time: 12min 18s\n"
     ]
    }
   ],
   "source": [
    "%%time\n",
    "df = run(movie_path, mapping_folder, mask, n_arenas=4)"
   ]
  },
  {
   "cell_type": "code",
   "execution_count": 19,
   "metadata": {},
   "outputs": [],
   "source": [
    "df.to_hdf('df_new.hdf', key='df', complevel=9, complib='blosc')"
   ]
  },
  {
   "cell_type": "code",
   "execution_count": 20,
   "metadata": {},
   "outputs": [],
   "source": [
    "df = df.sort_values(by=['frame', 'ID'])"
   ]
  },
  {
   "cell_type": "code",
   "execution_count": 25,
   "metadata": {},
   "outputs": [],
   "source": [
    "n_flies = df.ID.unique().size"
   ]
  },
  {
   "cell_type": "code",
   "execution_count": 28,
   "metadata": {},
   "outputs": [],
   "source": [
    "change = np.linalg.norm(np.diff(df[['x', 'y']].to_numpy().reshape(-1, n_flies, 2), axis=0), axis=2)"
   ]
  },
  {
   "cell_type": "code",
   "execution_count": 35,
   "metadata": {},
   "outputs": [
    {
     "data": {
      "image/png": "[encoded data removed]",
      "text/plain": [
       "<Figure size 432x288 with 1 Axes>"
      ]
     },
     "metadata": {
      "needs_background": "light"
     },
     "output_type": "display_data"
    }
   ],
   "source": [
    "plt.hist(change.flatten(), bins=100, log=True, density=True)\n",
    "plt.show()"
   ]
  },
  {
   "cell_type": "code",
   "execution_count": null,
   "metadata": {},
   "outputs": [],
   "source": []
  }
 ],
 "metadata": {
  "kernelspec": {
   "display_name": "Python 3",
   "language": "python",
   "name": "python3"
  },
  "language_info": {
   "codemirror_mode": {
    "name": "ipython",
    "version": 3
   },
   "file_extension": ".py",
   "mimetype": "text/x-python",
   "name": "python",
   "nbconvert_exporter": "python",
   "pygments_lexer": "ipython3",
   "version": "3.8.5"
  }
 },
 "nbformat": 4,
 "nbformat_minor": 4
}
