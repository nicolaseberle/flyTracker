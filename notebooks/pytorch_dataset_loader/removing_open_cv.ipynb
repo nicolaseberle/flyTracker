{
 "cells": [
  {
   "cell_type": "code",
   "execution_count": 1,
   "id": "average-certification",
   "metadata": {},
   "outputs": [],
   "source": [
    "import torch\n",
    "from flytracker.utils import FourArenasQRCodeMask\n",
    "from torch.utils.data import DataLoader\n",
    "from itertools import takewhile\n",
    "import matplotlib.pyplot as plt\n",
    "from torchvision.transforms.functional import rgb_to_grayscale, to_tensor\n",
    "import cv2 as cv\n",
    "from flytracker.tracking import blob_detector_localization\n",
    "import numpy as np\n",
    "\n",
    "from flytracker.tracking import kmeans_torch\n",
    "\n",
    "%load_ext autoreload\n",
    "%autoreload 2"
   ]
  },
  {
   "cell_type": "code",
   "execution_count": 2,
   "id": "fiscal-boxing",
   "metadata": {},
   "outputs": [
    {
     "data": {
      "text/plain": [
       "True"
      ]
     },
     "execution_count": 2,
     "metadata": {},
     "output_type": "execute_result"
    }
   ],
   "source": [
    "torch.cuda.is_available()"
   ]
  },
  {
   "cell_type": "code",
   "execution_count": 3,
   "id": "hawaiian-category",
   "metadata": {},
   "outputs": [],
   "source": [
    "class VideoDataset(torch.utils.data.IterableDataset):\n",
    "    def __init__(self, path, mask):\n",
    "        super().__init__()\n",
    "        self.capture = cv.VideoCapture(path)\n",
    "        self.mask = torch.tensor(mask, dtype=torch.bool)\n",
    "        \n",
    "    def __iter__(self):\n",
    "        return self\n",
    "\n",
    "    def __next__(self) -> torch.Tensor:\n",
    "        # Loading image\n",
    "        succes, image = self.capture.read()\n",
    "        if succes is False:\n",
    "            raise StopIteration\n",
    "            \n",
    "        image = torch.tensor(image)  \n",
    "        image = torch.movedim(torch.tensor(image), -1, 0) # first axis needs to be channels\n",
    "        image = rgb_to_grayscale(image).squeeze() \n",
    "        image = torch.where(self.mask, image, torch.tensor(255, dtype=torch.uint8))\n",
    "        return image"
   ]
  },
  {
   "cell_type": "code",
   "execution_count": 6,
   "id": "certified-access",
   "metadata": {},
   "outputs": [],
   "source": [
    "mask = FourArenasQRCodeMask().mask\n",
    "path = \"/home/gert-jan/Documents/flyTracker/data/movies/4arenas_QR.h264\"\n",
    "\n",
    "dataset = VideoDataset(path, mask)\n",
    "loader = DataLoader(dataset, batch_size=1, pin_memory=True)"
   ]
  },
  {
   "cell_type": "code",
   "execution_count": 7,
   "id": "immune-young",
   "metadata": {},
   "outputs": [
    {
     "name": "stderr",
     "output_type": "stream",
     "text": [
      "<ipython-input-3-a825fb526c54>:17: UserWarning: To copy construct from a tensor, it is recommended to use sourceTensor.clone().detach() or sourceTensor.clone().detach().requires_grad_(True), rather than torch.tensor(sourceTensor).\n",
      "  image = torch.movedim(torch.tensor(image), -1, 0) # first axis needs to be channels\n"
     ]
    },
    {
     "name": "stdout",
     "output_type": "stream",
     "text": [
      "Loaded 0, cuda:0\n",
      "Loaded 100, cuda:0\n",
      "Loaded 200, cuda:0\n",
      "Loaded 300, cuda:0\n",
      "Loaded 400, cuda:0\n",
      "Loaded 500, cuda:0\n",
      "Loaded 600, cuda:0\n",
      "Loaded 700, cuda:0\n",
      "Loaded 800, cuda:0\n",
      "Loaded 900, cuda:0\n",
      "Loaded 1000, cuda:0\n",
      "CPU times: user 59.9 s, sys: 75.7 ms, total: 1min\n",
      "Wall time: 3.54 s\n"
     ]
    }
   ],
   "source": [
    "%%time\n",
    "for batch_idx, batch in enumerate(loader):\n",
    "    batch = batch.cuda(non_blocking=True)\n",
    "    if batch_idx % 100 == 0:\n",
    "        print(f\"Loaded {batch_idx}, {batch.device}\")\n",
    "    if batch_idx == 1000:\n",
    "        break"
   ]
  },
  {
   "cell_type": "code",
   "execution_count": 11,
   "id": "informed-scottish",
   "metadata": {},
   "outputs": [],
   "source": [
    "def initialize(loader, n_frames=100):\n",
    "    \"\"\"Find flies using blob detector and\n",
    "    calulate number of flies.\"\"\"\n",
    "    n_blobs = []\n",
    "    \n",
    "    for frame_idx, frame in enumerate(loader):\n",
    "        locations = blob_detector_localization(frame.numpy().squeeze())\n",
    "        n_blobs.append(locations.shape[0])\n",
    "        if len(n_blobs) >= n_frames:\n",
    "            n_flies = int(np.median(n_blobs))\n",
    "            if n_blobs[-1] == n_flies:\n",
    "                break\n",
    "    # pluse on cause the next one is the first\n",
    "    initial_frame = frame_idx + 1\n",
    "    locations = torch.tensor(locations[:, [1, 0]], dtype=torch.float32).to('cuda')\n",
    "    return n_flies, locations, initial_frame"
   ]
  },
  {
   "cell_type": "code",
   "execution_count": 12,
   "id": "potential-toolbox",
   "metadata": {},
   "outputs": [],
   "source": [
    "def localize(loader, init, n_frames=900, threshold=120):\n",
    "    \"\"\"Find flies using blob detector and\n",
    "    calulate number of flies.\"\"\"\n",
    "    data = [init]\n",
    "    for frame_idx, frame in enumerate(loader):\n",
    "        frame = frame.cuda(non_blocking=True)\n",
    "        fly_pixels = torch.nonzero(frame.squeeze() < threshold).type(torch.float32)\n",
    "        data.append(kmeans_torch(fly_pixels, data[-1]))\n",
    "        \n",
    "        if frame_idx == n_frames:\n",
    "            break\n",
    "    return data"
   ]
  },
  {
   "cell_type": "code",
   "execution_count": 14,
   "id": "pressed-belle",
   "metadata": {},
   "outputs": [
    {
     "name": "stderr",
     "output_type": "stream",
     "text": [
      "<ipython-input-3-a825fb526c54>:17: UserWarning: To copy construct from a tensor, it is recommended to use sourceTensor.clone().detach() or sourceTensor.clone().detach().requires_grad_(True), rather than torch.tensor(sourceTensor).\n",
      "  image = torch.movedim(torch.tensor(image), -1, 0) # first axis needs to be channels\n"
     ]
    },
    {
     "name": "stdout",
     "output_type": "stream",
     "text": [
      "CPU times: user 1min 30s, sys: 114 ms, total: 1min 30s\n",
      "Wall time: 5.48 s\n"
     ]
    }
   ],
   "source": [
    "%%time\n",
    "mask = FourArenasQRCodeMask().mask\n",
    "path = \"/home/gert-jan/Documents/flyTracker/data/movies/4arenas_QR.h264\"\n",
    "\n",
    "dataset = VideoDataset(path, mask)\n",
    "loader = DataLoader(dataset, batch_size=1, pin_memory=True)\n",
    "n_flies, initial_locations, initial_frame = initialize(loader, 100)\n",
    "locations = localize(loader, initial_locations, )"
   ]
  },
  {
   "cell_type": "code",
   "execution_count": 21,
   "id": "speaking-racing",
   "metadata": {},
   "outputs": [],
   "source": [
    "from flytracker.tracker import run\n",
    "from itertools import accumulate\n",
    "from flytracker.tracking import hungarian"
   ]
  },
  {
   "cell_type": "code",
   "execution_count": 34,
   "id": "progressive-cross",
   "metadata": {},
   "outputs": [
    {
     "data": {
      "text/plain": [
       "902"
      ]
     },
     "execution_count": 34,
     "metadata": {},
     "output_type": "execute_result"
    }
   ],
   "source": [
    "\n",
    "len(list(accumulate(locations, func=lambda x, y: hungarian(x.cpu(), y.cpu()))))"
   ]
  },
  {
   "cell_type": "code",
   "execution_count": 40,
   "id": "given-calibration",
   "metadata": {},
   "outputs": [],
   "source": [
    "locs = torch.stack(locations, axis=0).cpu().numpy()"
   ]
  },
  {
   "cell_type": "code",
   "execution_count": 37,
   "id": "above-match",
   "metadata": {},
   "outputs": [
    {
     "data": {
      "text/plain": [
       "(902, 40, 2)"
      ]
     },
     "execution_count": 37,
     "metadata": {},
     "output_type": "execute_result"
    }
   ],
   "source": [
    "locs.shape"
   ]
  },
  {
   "cell_type": "code",
   "execution_count": 43,
   "id": "flying-effectiveness",
   "metadata": {},
   "outputs": [
    {
     "name": "stdout",
     "output_type": "stream",
     "text": [
      "CPU times: user 56.9 ms, sys: 12 µs, total: 56.9 ms\n",
      "Wall time: 56.5 ms\n"
     ]
    },
    {
     "data": {
      "text/plain": [
       "array([[890.16785, 414.62177],\n",
       "       [872.3016 , 474.09927],\n",
       "       [862.12463, 458.7108 ],\n",
       "       ...,\n",
       "       [205.92154, 565.0982 ],\n",
       "       [310.24493, 290.38773],\n",
       "       [214.65854, 546.1219 ]], dtype=float32)"
      ]
     },
     "execution_count": 43,
     "metadata": {},
     "output_type": "execute_result"
    }
   ],
   "source": [
    "%%time\n",
    "np.concatenate(list(accumulate(locs, func=lambda x, y: hungarian(y, x))), axis=0)"
   ]
  },
  {
   "cell_type": "code",
   "execution_count": null,
   "id": "sixth-response",
   "metadata": {},
   "outputs": [],
   "source": []
  },
  {
   "cell_type": "code",
   "execution_count": null,
   "id": "informative-signal",
   "metadata": {},
   "outputs": [],
   "source": [
    "lambda x, y: hungarian(x.cpu(), y.cpu()), "
   ]
  }
 ],
 "metadata": {
  "kernelspec": {
   "display_name": "Python 3",
   "language": "python",
   "name": "python3"
  },
  "language_info": {
   "codemirror_mode": {
    "name": "ipython",
    "version": 3
   },
   "file_extension": ".py",
   "mimetype": "text/x-python",
   "name": "python",
   "nbconvert_exporter": "python",
   "pygments_lexer": "ipython3",
   "version": "3.8.3"
  }
 },
 "nbformat": 4,
 "nbformat_minor": 5
}
