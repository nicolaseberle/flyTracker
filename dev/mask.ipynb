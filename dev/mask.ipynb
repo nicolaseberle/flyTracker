{
 "cells": [
  {
   "cell_type": "markdown",
   "metadata": {},
   "source": [
    "In this notebook we implement the mask and overlay for "
   ]
  },
  {
   "cell_type": "markdown",
   "metadata": {},
   "source": [
    "mask = zeros_like(image)\n",
    "df = load_hdf()\n",
    "\n",
    "for frame in iter_count:\n",
    "    image = load()\n",
    "    steps = df.query('frame == frame').to_numpy()\n",
    "    mask = lines(mask, steps)\n",
    "    image = addWeighted(image, mask)\n",
    "    mask = addWeighted(mask, mask)"
   ]
  }
 ],
 "metadata": {
  "kernelspec": {
   "display_name": "Python 3",
   "language": "python",
   "name": "python3"
  },
  "language_info": {
   "codemirror_mode": {
    "name": "ipython",
    "version": 3
   },
   "file_extension": ".py",
   "mimetype": "text/x-python",
   "name": "python",
   "nbconvert_exporter": "python",
   "pygments_lexer": "ipython3",
   "version": "3.8.5"
  }
 },
 "nbformat": 4,
 "nbformat_minor": 4
}
