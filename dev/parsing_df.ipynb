{
 "cells": [
  {
   "cell_type": "code",
   "execution_count": 49,
   "metadata": {},
   "outputs": [],
   "source": [
    "import pandas as pd\n",
    "import numpy as np"
   ]
  },
  {
   "cell_type": "code",
   "execution_count": 41,
   "metadata": {},
   "outputs": [
    {
     "name": "stdout",
     "output_type": "stream",
     "text": [
      "CPU times: user 1.03 s, sys: 547 ms, total: 1.58 s\n",
      "Wall time: 1.63 s\n"
     ]
    }
   ],
   "source": [
    "%%time\n",
    "df_loc = \"../tests/bruno/df_new.hdf\"\n",
    "df = pd.read_hdf(df_loc, key=\"df\")\n",
    "df = df.sort_values(by=[\"frame\", \"ID\"])"
   ]
  },
  {
   "cell_type": "code",
   "execution_count": 16,
   "metadata": {},
   "outputs": [
    {
     "name": "stdout",
     "output_type": "stream",
     "text": [
      "CPU times: user 11.1 s, sys: 272 ms, total: 11.4 s\n",
      "Wall time: 11.3 s\n"
     ]
    }
   ],
   "source": [
    "%%time\n",
    "df_list = [df_loc.to_numpy() for _, df_loc in df.groupby('frame')]"
   ]
  },
  {
   "cell_type": "code",
   "execution_count": 68,
   "metadata": {},
   "outputs": [
    {
     "name": "stdout",
     "output_type": "stream",
     "text": [
      "243 ms ± 8.47 ms per loop (mean ± std. dev. of 7 runs, 1 loop each)\n"
     ]
    }
   ],
   "source": [
    "%%timeit\n",
    "n_flies = df.ID.unique().size\n",
    "n_features = df.shape[1]\n",
    "df_reshaped = df.to_numpy().reshape(-1, n_flies, n_features)\n",
    "df_reshaped = np.around(df_reshaped).astype(int) # everything must go with ints"
   ]
  },
  {
   "cell_type": "code",
   "execution_count": 30,
   "metadata": {},
   "outputs": [
    {
     "data": {
      "text/plain": [
       "array([0., 2., 1., 1., 1., 0., 0., 2., 0., 2., 2., 0., 0., 2., 1., 1., 1.,\n",
       "       1., 1., 1., 0., 2., 0., 0., 2., 0., 3., 1., 2., 2., 2., 3., 3., 3.,\n",
       "       3., 3., 3., 3., 3., 3.])"
      ]
     },
     "execution_count": 30,
     "metadata": {},
     "output_type": "execute_result"
    }
   ],
   "source": [
    "df_reshaped[0, :, 4]"
   ]
  },
  {
   "cell_type": "code",
   "execution_count": 36,
   "metadata": {},
   "outputs": [
    {
     "data": {
      "text/plain": [
       "(4318200, 5)"
      ]
     },
     "execution_count": 36,
     "metadata": {},
     "output_type": "execute_result"
    }
   ],
   "source": [
    "df.shape"
   ]
  },
  {
   "cell_type": "code",
   "execution_count": 72,
   "metadata": {},
   "outputs": [
    {
     "name": "stdout",
     "output_type": "stream",
     "text": [
      "15.7 µs ± 430 ns per loop (mean ± std. dev. of 7 runs, 100000 loops each)\n"
     ]
    }
   ],
   "source": [
    "%%timeit\n",
    "for frame_stuff in df_reshaped[:100]:\n",
    "    a = frame_stuff.shape"
   ]
  },
  {
   "cell_type": "code",
   "execution_count": 73,
   "metadata": {},
   "outputs": [
    {
     "name": "stdout",
     "output_type": "stream",
     "text": [
      "32.2 µs ± 1.69 µs per loop (mean ± std. dev. of 7 runs, 10000 loops each)\n"
     ]
    }
   ],
   "source": [
    "%%timeit\n",
    "for idx in np.arange(100):\n",
    "    a = df_reshaped[idx].shape"
   ]
  },
  {
   "cell_type": "code",
   "execution_count": 74,
   "metadata": {},
   "outputs": [
    {
     "name": "stdout",
     "output_type": "stream",
     "text": [
      "36.4 µs ± 1.19 µs per loop (mean ± std. dev. of 7 runs, 10000 loops each)\n"
     ]
    }
   ],
   "source": [
    "%%timeit\n",
    "for frame_stuff_i, frame_stuff_j in zip(df_reshaped[:100], df_reshaped[1:101]):\n",
    "    a = frame_stuff_i.shape\n",
    "    b = frame_stuff_j.shape"
   ]
  },
  {
   "cell_type": "code",
   "execution_count": 75,
   "metadata": {},
   "outputs": [
    {
     "name": "stdout",
     "output_type": "stream",
     "text": [
      "80.2 µs ± 1.09 µs per loop (mean ± std. dev. of 7 runs, 10000 loops each)\n"
     ]
    }
   ],
   "source": [
    "%%timeit\n",
    "for idx in np.arange(100):\n",
    "    a = df_reshaped[idx].shape\n",
    "    b = df_reshaped[idx + 1].shape"
   ]
  },
  {
   "cell_type": "code",
   "execution_count": 59,
   "metadata": {},
   "outputs": [],
   "source": [
    "frame_info = df_reshaped[0]"
   ]
  },
  {
   "cell_type": "code",
   "execution_count": 61,
   "metadata": {},
   "outputs": [
    {
     "data": {
      "text/plain": [
       "(40, 5)"
      ]
     },
     "execution_count": 61,
     "metadata": {},
     "output_type": "execute_result"
    }
   ],
   "source": [
    "frame_info.shape"
   ]
  },
  {
   "cell_type": "code",
   "execution_count": 62,
   "metadata": {},
   "outputs": [],
   "source": [
    "from scipy.spatial import distance_matrix"
   ]
  },
  {
   "cell_type": "code",
   "execution_count": 63,
   "metadata": {},
   "outputs": [
    {
     "data": {
      "text/plain": [
       "array([[  0.        , 368.3994751 , 404.20147705, ...,   1.87780762,\n",
       "         18.85351562,  80.68463135],\n",
       "       [368.3994751 ,   0.        ,  35.80200195, ..., 370.27728271,\n",
       "        387.25299072, 449.08410645],\n",
       "       [404.20147705,  35.80200195,   0.        , ..., 406.07928467,\n",
       "        423.05499268, 484.8861084 ],\n",
       "       ...,\n",
       "       [  1.87780762, 370.27728271, 406.07928467, ...,   0.        ,\n",
       "         16.97570801,  78.80682373],\n",
       "       [ 18.85351562, 387.25299072, 423.05499268, ...,  16.97570801,\n",
       "          0.        ,  61.83111572],\n",
       "       [ 80.68463135, 449.08410645, 484.8861084 , ...,  78.80682373,\n",
       "         61.83111572,   0.        ]])"
      ]
     },
     "execution_count": 63,
     "metadata": {},
     "output_type": "execute_result"
    }
   ],
   "source": [
    "distance_matrix(frame_info[:, 2:3], frame_info[:, 2:3])"
   ]
  },
  {
   "cell_type": "code",
   "execution_count": 71,
   "metadata": {},
   "outputs": [
    {
     "data": {
      "text/plain": [
       "array([[[9.90000000e+01, 0.00000000e+00, 8.69101074e+02, 4.55739838e+02,\n",
       "         0.00000000e+00],\n",
       "        [9.90000000e+01, 1.00000000e+00, 5.00701599e+02, 2.13673691e+02,\n",
       "         2.00000000e+00],\n",
       "        [9.90000000e+01, 2.00000000e+00, 4.64899597e+02, 8.18545593e+02,\n",
       "         1.00000000e+00],\n",
       "        ...,\n",
       "        [9.90000000e+01, 3.70000000e+01, 8.70978882e+02, 5.71943787e+02,\n",
       "         3.00000000e+00],\n",
       "        [9.90000000e+01, 3.80000000e+01, 8.87954590e+02, 5.68587830e+02,\n",
       "         3.00000000e+00],\n",
       "        [9.90000000e+01, 3.90000000e+01, 9.49785706e+02, 7.94331543e+02,\n",
       "         3.00000000e+00]],\n",
       "\n",
       "       [[1.00000000e+02, 0.00000000e+00, 8.70785714e+02, 4.54571429e+02,\n",
       "         0.00000000e+00],\n",
       "        [1.00000000e+02, 1.00000000e+00, 5.01173913e+02, 2.13934783e+02,\n",
       "         2.00000000e+00],\n",
       "        [1.00000000e+02, 2.00000000e+00, 4.65028571e+02, 8.18314286e+02,\n",
       "         1.00000000e+00],\n",
       "        ...,\n",
       "        [1.00000000e+02, 3.70000000e+01, 8.70875000e+02, 5.71958333e+02,\n",
       "         3.00000000e+00],\n",
       "        [1.00000000e+02, 3.80000000e+01, 8.88350000e+02, 5.68350000e+02,\n",
       "         3.00000000e+00],\n",
       "        [1.00000000e+02, 3.90000000e+01, 9.49450000e+02, 7.94250000e+02,\n",
       "         3.00000000e+00]],\n",
       "\n",
       "       [[1.01000000e+02, 0.00000000e+00, 8.73238095e+02, 4.53047619e+02,\n",
       "         0.00000000e+00],\n",
       "        [1.01000000e+02, 1.00000000e+00, 5.01173913e+02, 2.13934783e+02,\n",
       "         2.00000000e+00],\n",
       "        [1.01000000e+02, 2.00000000e+00, 4.65081081e+02, 8.18459459e+02,\n",
       "         1.00000000e+00],\n",
       "        ...,\n",
       "        [1.01000000e+02, 3.70000000e+01, 8.70875000e+02, 5.71958333e+02,\n",
       "         3.00000000e+00],\n",
       "        [1.01000000e+02, 3.80000000e+01, 8.88111111e+02, 5.68611111e+02,\n",
       "         3.00000000e+00],\n",
       "        [1.01000000e+02, 3.90000000e+01, 9.49450000e+02, 7.94250000e+02,\n",
       "         3.00000000e+00]],\n",
       "\n",
       "       ...,\n",
       "\n",
       "       [[1.08051000e+05, 0.00000000e+00, 9.19386364e+02, 2.39613636e+02,\n",
       "         0.00000000e+00],\n",
       "        [1.08051000e+05, 1.00000000e+00, 4.39166667e+02, 2.36740741e+02,\n",
       "         2.00000000e+00],\n",
       "        [1.08051000e+05, 2.00000000e+00, 4.73975610e+02, 8.08682927e+02,\n",
       "         1.00000000e+00],\n",
       "        ...,\n",
       "        [1.08051000e+05, 3.70000000e+01, 7.70458333e+02, 8.11791667e+02,\n",
       "         3.00000000e+00],\n",
       "        [1.08051000e+05, 3.80000000e+01, 8.61800000e+02, 8.59400000e+02,\n",
       "         3.00000000e+00],\n",
       "        [1.08051000e+05, 3.90000000e+01, 8.14131579e+02, 7.51631579e+02,\n",
       "         3.00000000e+00]],\n",
       "\n",
       "       [[1.08052000e+05, 0.00000000e+00, 9.19413043e+02, 2.39673913e+02,\n",
       "         0.00000000e+00],\n",
       "        [1.08052000e+05, 1.00000000e+00, 4.39166667e+02, 2.36740741e+02,\n",
       "         2.00000000e+00],\n",
       "        [1.08052000e+05, 2.00000000e+00, 4.73975610e+02, 8.08682927e+02,\n",
       "         1.00000000e+00],\n",
       "        ...,\n",
       "        [1.08052000e+05, 3.70000000e+01, 7.70458333e+02, 8.11791667e+02,\n",
       "         3.00000000e+00],\n",
       "        [1.08052000e+05, 3.80000000e+01, 8.62900000e+02, 8.60350000e+02,\n",
       "         3.00000000e+00],\n",
       "        [1.08052000e+05, 3.90000000e+01, 8.14900000e+02, 7.52025000e+02,\n",
       "         3.00000000e+00]],\n",
       "\n",
       "       [[1.08053000e+05, 0.00000000e+00, 9.19413043e+02, 2.39673913e+02,\n",
       "         0.00000000e+00],\n",
       "        [1.08053000e+05, 1.00000000e+00, 4.39226415e+02, 2.36849057e+02,\n",
       "         2.00000000e+00],\n",
       "        [1.08053000e+05, 2.00000000e+00, 4.73975610e+02, 8.08682927e+02,\n",
       "         1.00000000e+00],\n",
       "        ...,\n",
       "        [1.08053000e+05, 3.70000000e+01, 7.70458333e+02, 8.11791667e+02,\n",
       "         3.00000000e+00],\n",
       "        [1.08053000e+05, 3.80000000e+01, 8.63260870e+02, 8.61130435e+02,\n",
       "         3.00000000e+00],\n",
       "        [1.08053000e+05, 3.90000000e+01, 8.15027027e+02, 7.52270270e+02,\n",
       "         3.00000000e+00]]])"
      ]
     },
     "execution_count": 71,
     "metadata": {},
     "output_type": "execute_result"
    }
   ],
   "source": [
    "fordf_reshaped"
   ]
  },
  {
   "cell_type": "code",
   "execution_count": null,
   "metadata": {},
   "outputs": [],
   "source": []
  }
 ],
 "metadata": {
  "kernelspec": {
   "display_name": "Python 3",
   "language": "python",
   "name": "python3"
  },
  "language_info": {
   "codemirror_mode": {
    "name": "ipython",
    "version": 3
   },
   "file_extension": ".py",
   "mimetype": "text/x-python",
   "name": "python",
   "nbconvert_exporter": "python",
   "pygments_lexer": "ipython3",
   "version": "3.7.6"
  }
 },
 "nbformat": 4,
 "nbformat_minor": 4
}
