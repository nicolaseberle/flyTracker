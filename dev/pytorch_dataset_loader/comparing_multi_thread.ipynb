{
 "cells": [
  {
   "cell_type": "code",
   "execution_count": 1,
   "id": "burning-cache",
   "metadata": {},
   "outputs": [],
   "source": [
    "from flytracker.videoreader import VideoReader\n",
    "from flytracker.preprocessing import preprocessing\n",
    "import cv2 as cv \n",
    "import torch\n",
    "from flytracker.utils import FourArenasQRCodeMask\n",
    "from torch.utils.data import DataLoader\n",
    "import numpy as np\n",
    "\n",
    "%load_ext autoreload\n",
    "%autoreload 2"
   ]
  },
  {
   "cell_type": "code",
   "execution_count": 2,
   "id": "eight-aging",
   "metadata": {},
   "outputs": [
    {
     "data": {
      "text/plain": [
       "True"
      ]
     },
     "execution_count": 2,
     "metadata": {},
     "output_type": "execute_result"
    }
   ],
   "source": [
    "torch.cuda.is_available()"
   ]
  },
  {
   "cell_type": "code",
   "execution_count": 3,
   "id": "palestinian-builder",
   "metadata": {},
   "outputs": [],
   "source": [
    "class SingleThreadVideoDataset(torch.utils.data.IterableDataset):\n",
    "    def __init__(self, path, mask):\n",
    "        super().__init__()\n",
    "        self.capture = cv.VideoCapture(path)\n",
    "        self.mask = torch.tensor(mask, dtype=torch.bool)\n",
    "\n",
    "    def __iter__(self):\n",
    "        return self\n",
    "\n",
    "    def __next__(self) -> torch.Tensor:\n",
    "        succes, image = self.capture.read()\n",
    "        if succes is False:\n",
    "            raise StopIteration\n",
    "        # because we use opencv\n",
    "        image = np.moveaxis(image, -1, 0)\n",
    "        processed_image = preprocessing(image, self.mask)\n",
    "        return processed_image"
   ]
  },
  {
   "cell_type": "code",
   "execution_count": 4,
   "id": "alleged-arbor",
   "metadata": {},
   "outputs": [],
   "source": [
    "class MultiThreadVideoDataset(torch.utils.data.IterableDataset):\n",
    "    def __init__(self, path, mask):\n",
    "        super().__init__()\n",
    "        self.reader = VideoReader(path, max_queue=100)\n",
    "        self.mask = torch.tensor(mask, dtype=torch.bool)\n",
    "\n",
    "    def __iter__(self):\n",
    "        return self\n",
    "\n",
    "    def __next__(self) -> torch.Tensor:\n",
    "        succes, image = self.reader.read()\n",
    "        if succes is False:\n",
    "            raise StopIteration\n",
    "        # because we use opencv\n",
    "        image = np.moveaxis(image, -1, 0)\n",
    "        processed_image = preprocessing(image, self.mask)\n",
    "        return processed_image"
   ]
  },
  {
   "cell_type": "code",
   "execution_count": 5,
   "id": "corresponding-unknown",
   "metadata": {},
   "outputs": [],
   "source": [
    "mask = FourArenasQRCodeMask().mask\n",
    "path = \"/home/gert-jan/Documents/flyTracker/data/movies/4arenas_QR.h264\""
   ]
  },
  {
   "cell_type": "code",
   "execution_count": 8,
   "id": "modified-mattress",
   "metadata": {},
   "outputs": [
    {
     "name": "stdout",
     "output_type": "stream",
     "text": [
      "Loaded 0, cuda:0\n",
      "tensor(235.7776, device='cuda:0')\n",
      "Loaded 100, cuda:0\n",
      "tensor(235.8470, device='cuda:0')\n",
      "Loaded 200, cuda:0\n",
      "tensor(235.7998, device='cuda:0')\n",
      "Loaded 300, cuda:0\n",
      "tensor(235.8143, device='cuda:0')\n",
      "Loaded 400, cuda:0\n",
      "tensor(235.8383, device='cuda:0')\n",
      "Loaded 500, cuda:0\n",
      "tensor(235.8459, device='cuda:0')\n",
      "Loaded 600, cuda:0\n",
      "tensor(235.7329, device='cuda:0')\n",
      "Loaded 700, cuda:0\n",
      "tensor(235.8555, device='cuda:0')\n",
      "Loaded 800, cuda:0\n",
      "tensor(235.8855, device='cuda:0')\n",
      "Loaded 900, cuda:0\n",
      "tensor(235.7736, device='cuda:0')\n",
      "Loaded 1000, cuda:0\n",
      "tensor(235.8390, device='cuda:0')\n",
      "CPU times: user 57.2 s, sys: 880 ms, total: 58.1 s\n",
      "Wall time: 3.41 s\n"
     ]
    }
   ],
   "source": [
    "%%time\n",
    "dataset = SingleThreadVideoDataset(path, mask)\n",
    "loader = DataLoader(dataset, batch_size=1, pin_memory=True)\n",
    "for batch_idx, batch in enumerate(loader):\n",
    "    batch = batch.cuda(non_blocking=True)\n",
    "    if batch_idx % 100 == 0:\n",
    "        print(f\"Loaded {batch_idx}, {batch.device}\")\n",
    "        print(torch.mean(batch.type(torch.float32)))\n",
    "    if batch_idx == 1000:\n",
    "        break"
   ]
  },
  {
   "cell_type": "code",
   "execution_count": 7,
   "id": "secondary-traffic",
   "metadata": {},
   "outputs": [
    {
     "name": "stdout",
     "output_type": "stream",
     "text": [
      "Loaded 0, cuda:0\n",
      "tensor(235.7776, device='cuda:0')\n",
      "Loaded 100, cuda:0\n",
      "tensor(235.8470, device='cuda:0')\n",
      "Loaded 200, cuda:0\n",
      "tensor(235.7998, device='cuda:0')\n",
      "Loaded 300, cuda:0\n",
      "tensor(235.8143, device='cuda:0')\n",
      "Loaded 400, cuda:0\n",
      "tensor(235.8383, device='cuda:0')\n",
      "Loaded 500, cuda:0\n",
      "tensor(235.8459, device='cuda:0')\n",
      "Loaded 600, cuda:0\n",
      "tensor(235.7329, device='cuda:0')\n",
      "Loaded 700, cuda:0\n",
      "tensor(235.8555, device='cuda:0')\n",
      "Loaded 800, cuda:0\n",
      "tensor(235.8855, device='cuda:0')\n",
      "Loaded 900, cuda:0\n",
      "tensor(235.7736, device='cuda:0')\n",
      "Loaded 1000, cuda:0\n",
      "tensor(235.8390, device='cuda:0')\n",
      "CPU times: user 41 s, sys: 523 ms, total: 41.5 s\n",
      "Wall time: 2.22 s\n"
     ]
    }
   ],
   "source": [
    "%%time\n",
    "dataset = MultiThreadVideoDataset(path, mask)\n",
    "loader = DataLoader(dataset, batch_size=1, pin_memory=True)\n",
    "for batch_idx, batch in enumerate(loader):\n",
    "    batch = batch.cuda(non_blocking=True)\n",
    "    if batch_idx % 100 == 0:\n",
    "        print(f\"Loaded {batch_idx}, {batch.device}\")\n",
    "        print(torch.mean(batch.type(torch.float32)))\n",
    "    if batch_idx == 1000:\n",
    "        break\n",
    "loader.dataset.reader.stop()"
   ]
  },
  {
   "cell_type": "code",
   "execution_count": null,
   "id": "aging-license",
   "metadata": {},
   "outputs": [],
   "source": []
  },
  {
   "cell_type": "code",
   "execution_count": null,
   "id": "beginning-praise",
   "metadata": {},
   "outputs": [],
   "source": []
  }
 ],
 "metadata": {
  "kernelspec": {
   "display_name": "Python 3",
   "language": "python",
   "name": "python3"
  },
  "language_info": {
   "codemirror_mode": {
    "name": "ipython",
    "version": 3
   },
   "file_extension": ".py",
   "mimetype": "text/x-python",
   "name": "python",
   "nbconvert_exporter": "python",
   "pygments_lexer": "ipython3",
   "version": "3.8.3"
  }
 },
 "nbformat": 4,
 "nbformat_minor": 5
}
