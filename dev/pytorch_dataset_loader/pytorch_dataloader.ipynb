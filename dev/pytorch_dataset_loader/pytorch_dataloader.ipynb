{
 "cells": [
  {
   "cell_type": "code",
   "execution_count": 6,
   "id": "traditional-handle",
   "metadata": {},
   "outputs": [
    {
     "name": "stdout",
     "output_type": "stream",
     "text": [
      "The autoreload extension is already loaded. To reload it, use:\n",
      "  %reload_ext autoreload\n"
     ]
    }
   ],
   "source": [
    "import torch\n",
    "from flytracker.utils import FourArenasQRCodeMask\n",
    "from torch.utils.data import DataLoader\n",
    "from itertools import takewhile\n",
    "import matplotlib.pyplot as plt\n",
    "from torchvision.transforms.functional import rgb_to_grayscale, to_tensor\n",
    "import cv2 as cv\n",
    "from flytracker.tracking import blob_detector_localization\n",
    "import numpy as np\n",
    "\n",
    "from flytracker.tracking import kmeans_torch\n",
    "from torchvision.io import VideoReader\n",
    "%load_ext autoreload\n",
    "%autoreload 2"
   ]
  },
  {
   "cell_type": "code",
   "execution_count": 7,
   "id": "negative-victory",
   "metadata": {},
   "outputs": [
    {
     "data": {
      "text/plain": [
       "True"
      ]
     },
     "execution_count": 7,
     "metadata": {},
     "output_type": "execute_result"
    }
   ],
   "source": [
    "torch.cuda.is_available()"
   ]
  },
  {
   "cell_type": "code",
   "execution_count": 11,
   "id": "blocked-geometry",
   "metadata": {},
   "outputs": [],
   "source": [
    "class VideoDataset(torch.utils.data.IterableDataset):\n",
    "    def __init__(self, path, mask):\n",
    "        super().__init__()\n",
    "        self.capture = cv.VideoCapture(path)\n",
    "        self.mask = torch.tensor(mask, dtype=torch.bool)\n",
    "        \n",
    "    def __iter__(self):\n",
    "        return self\n",
    "\n",
    "    def __next__(self) -> torch.Tensor:\n",
    "        # Loading image\n",
    "        succes, image = self.capture.read()\n",
    "        if succes is False:\n",
    "            raise StopIteration\n",
    "            \n",
    "        image = torch.tensor(image)  \n",
    "        image = torch.movedim(torch.tensor(image), -1, 0) # first axis needs to be channels\n",
    "        image = rgb_to_grayscale(image).squeeze() \n",
    "        image = torch.where(self.mask, image, torch.tensor(255, dtype=torch.uint8))\n",
    "        return image"
   ]
  },
  {
   "cell_type": "code",
   "execution_count": 12,
   "id": "local-exhibit",
   "metadata": {},
   "outputs": [],
   "source": [
    "mask = FourArenasQRCodeMask().mask\n",
    "path = \"/home/gert-jan/Documents/flyTracker/data/movies/4arenas_QR.h264\"\n",
    "\n",
    "dataset = VideoDataset(path, mask)\n",
    "loader = DataLoader(dataset, batch_size=1, pin_memory=True)"
   ]
  },
  {
   "cell_type": "code",
   "execution_count": 13,
   "id": "exotic-waterproof",
   "metadata": {},
   "outputs": [
    {
     "name": "stderr",
     "output_type": "stream",
     "text": [
      "<ipython-input-11-a825fb526c54>:17: UserWarning: To copy construct from a tensor, it is recommended to use sourceTensor.clone().detach() or sourceTensor.clone().detach().requires_grad_(True), rather than torch.tensor(sourceTensor).\n",
      "  image = torch.movedim(torch.tensor(image), -1, 0) # first axis needs to be channels\n"
     ]
    },
    {
     "name": "stdout",
     "output_type": "stream",
     "text": [
      "Loaded 0, cuda:0\n",
      "Loaded 100, cuda:0\n",
      "Loaded 200, cuda:0\n",
      "Loaded 300, cuda:0\n",
      "Loaded 400, cuda:0\n",
      "Loaded 500, cuda:0\n",
      "Loaded 600, cuda:0\n",
      "Loaded 700, cuda:0\n",
      "Loaded 800, cuda:0\n",
      "Loaded 900, cuda:0\n",
      "Loaded 1000, cuda:0\n",
      "CPU times: user 48 s, sys: 67.7 ms, total: 48 s\n",
      "Wall time: 3.16 s\n"
     ]
    }
   ],
   "source": [
    "%%time\n",
    "for batch_idx, batch in enumerate(loader):\n",
    "    batch = batch.cuda(non_blocking=True)\n",
    "    if batch_idx % 100 == 0:\n",
    "        print(f\"Loaded {batch_idx}, {batch.device}\")\n",
    "    if batch_idx == 1000:\n",
    "        break"
   ]
  },
  {
   "cell_type": "code",
   "execution_count": 77,
   "id": "stone-oliver",
   "metadata": {},
   "outputs": [
    {
     "data": {
      "text/plain": [
       "tensor([[False, False, False,  ..., False, False, False],\n",
       "        [False, False, False,  ..., False, False, False],\n",
       "        [False, False, False,  ..., False, False, False],\n",
       "        ...,\n",
       "        [False, False, False,  ..., False, False, False],\n",
       "        [False, False, False,  ..., False, False, False],\n",
       "        [False, False, False,  ..., False, False, False]])"
      ]
     },
     "execution_count": 77,
     "metadata": {},
     "output_type": "execute_result"
    }
   ],
   "source": [
    "loader.dataset.mask"
   ]
  },
  {
   "cell_type": "code",
   "execution_count": 33,
   "id": "dominican-handling",
   "metadata": {},
   "outputs": [
    {
     "data": {
      "text/plain": [
       "torch.Size([1, 1080, 1280])"
      ]
     },
     "execution_count": 33,
     "metadata": {},
     "output_type": "execute_result"
    }
   ],
   "source": [
    "batch.shape"
   ]
  },
  {
   "cell_type": "code",
   "execution_count": 63,
   "id": "mexican-services",
   "metadata": {},
   "outputs": [],
   "source": [
    "reader = VideoReader(path)"
   ]
  },
  {
   "cell_type": "code",
   "execution_count": 64,
   "id": "electrical-satellite",
   "metadata": {},
   "outputs": [
    {
     "data": {
      "text/plain": [
       "{'video': {'duration': [-7686143364045.646], 'fps': [25.0]},\n",
       " 'audio': {'duration': [], 'framerate': []}}"
      ]
     },
     "execution_count": 64,
     "metadata": {},
     "output_type": "execute_result"
    }
   ],
   "source": [
    "reader.get_metadata()"
   ]
  },
  {
   "cell_type": "code",
   "execution_count": 65,
   "id": "urban-justice",
   "metadata": {},
   "outputs": [
    {
     "ename": "AttributeError",
     "evalue": "'VideoReader' object has no attribute 'next'",
     "output_type": "error",
     "traceback": [
      "\u001b[0;31m---------------------------------------------------------------------------\u001b[0m",
      "\u001b[0;31mAttributeError\u001b[0m                            Traceback (most recent call last)",
      "\u001b[0;32m<ipython-input-65-2d7b5ca103bd>\u001b[0m in \u001b[0;36m<module>\u001b[0;34m\u001b[0m\n\u001b[0;32m----> 1\u001b[0;31m \u001b[0mreader\u001b[0m\u001b[0;34m.\u001b[0m\u001b[0mnext\u001b[0m\u001b[0;34m(\u001b[0m\u001b[0;34m)\u001b[0m\u001b[0;34m\u001b[0m\u001b[0;34m\u001b[0m\u001b[0m\n\u001b[0m",
      "\u001b[0;31mAttributeError\u001b[0m: 'VideoReader' object has no attribute 'next'"
     ]
    }
   ],
   "source": [
    "reader.next()"
   ]
  },
  {
   "cell_type": "code",
   "execution_count": 8,
   "id": "considered-shock",
   "metadata": {},
   "outputs": [
    {
     "name": "stdout",
     "output_type": "stream",
     "text": [
      "{'data': tensor([[[255, 255, 255,  ..., 255, 255, 255],\n",
      "         [255, 255, 255,  ..., 255, 255, 255],\n",
      "         [255, 255, 255,  ..., 255, 255, 255],\n",
      "         ...,\n",
      "         [251, 251, 251,  ..., 239, 239, 239],\n",
      "         [246, 246, 246,  ..., 228, 228, 228],\n",
      "         [255, 255, 255,  ..., 253, 253, 253]],\n",
      "\n",
      "        [[255, 255, 255,  ..., 255, 255, 255],\n",
      "         [255, 255, 255,  ..., 255, 255, 255],\n",
      "         [255, 255, 255,  ..., 255, 255, 255],\n",
      "         ...,\n",
      "         [255, 255, 255,  ..., 239, 239, 239],\n",
      "         [248, 248, 248,  ..., 228, 228, 228],\n",
      "         [255, 255, 255,  ..., 253, 253, 253]],\n",
      "\n",
      "        [[255, 255, 255,  ..., 255, 255, 255],\n",
      "         [255, 255, 255,  ..., 255, 255, 255],\n",
      "         [255, 255, 255,  ..., 255, 255, 255],\n",
      "         ...,\n",
      "         [250, 250, 250,  ..., 236, 236, 236],\n",
      "         [245, 245, 245,  ..., 225, 225, 225],\n",
      "         [254, 254, 254,  ..., 250, 250, 250]]], dtype=torch.uint8), 'pts': 0.0}\n",
      "{'data': tensor([[[255, 255, 255,  ..., 255, 255, 255],\n",
      "         [255, 255, 255,  ..., 255, 255, 255],\n",
      "         [255, 255, 255,  ..., 255, 255, 255],\n",
      "         ...,\n",
      "         [251, 251, 251,  ..., 237, 237, 237],\n",
      "         [246, 246, 246,  ..., 225, 225, 225],\n",
      "         [255, 255, 255,  ..., 253, 253, 253]],\n",
      "\n",
      "        [[255, 255, 255,  ..., 255, 255, 255],\n",
      "         [255, 255, 255,  ..., 255, 255, 255],\n",
      "         [255, 255, 255,  ..., 255, 255, 255],\n",
      "         ...,\n",
      "         [255, 255, 255,  ..., 237, 237, 237],\n",
      "         [248, 248, 248,  ..., 225, 225, 225],\n",
      "         [255, 255, 255,  ..., 253, 253, 253]],\n",
      "\n",
      "        [[255, 255, 255,  ..., 255, 255, 255],\n",
      "         [255, 255, 255,  ..., 255, 255, 255],\n",
      "         [255, 255, 255,  ..., 255, 255, 255],\n",
      "         ...,\n",
      "         [250, 250, 250,  ..., 234, 234, 234],\n",
      "         [245, 245, 245,  ..., 222, 222, 222],\n",
      "         [254, 254, 254,  ..., 250, 250, 250]]], dtype=torch.uint8), 'pts': 0.04}\n"
     ]
    }
   ],
   "source": [
    "for idx, frame in enumerate(reader):\n",
    "    print(frame)\n",
    "    if idx ==1:\n",
    "        break"
   ]
  },
  {
   "cell_type": "code",
   "execution_count": 15,
   "id": "underlying-privilege",
   "metadata": {},
   "outputs": [
    {
     "data": {
      "text/plain": [
       "torch.Size([3, 1080, 1280])"
      ]
     },
     "execution_count": 15,
     "metadata": {},
     "output_type": "execute_result"
    }
   ],
   "source": [
    "frame['data'].shape"
   ]
  },
  {
   "cell_type": "code",
   "execution_count": 13,
   "id": "stopped-sender",
   "metadata": {},
   "outputs": [
    {
     "data": {
      "text/plain": [
       "0.04"
      ]
     },
     "execution_count": 13,
     "metadata": {},
     "output_type": "execute_result"
    }
   ],
   "source": [
    "frame['pts']"
   ]
  },
  {
   "cell_type": "code",
   "execution_count": 18,
   "id": "subjective-favor",
   "metadata": {},
   "outputs": [
    {
     "data": {
      "text/plain": [
       "{'data': tensor([[[255, 255, 255,  ..., 255, 255, 255],\n",
       "          [255, 255, 255,  ..., 255, 255, 255],\n",
       "          [255, 255, 255,  ..., 255, 255, 255],\n",
       "          ...,\n",
       "          [249, 249, 249,  ..., 238, 238, 238],\n",
       "          [243, 243, 243,  ..., 227, 227, 227],\n",
       "          [253, 253, 253,  ..., 252, 252, 252]],\n",
       " \n",
       "         [[255, 255, 255,  ..., 255, 255, 255],\n",
       "          [255, 255, 255,  ..., 255, 255, 255],\n",
       "          [255, 255, 255,  ..., 255, 255, 255],\n",
       "          ...,\n",
       "          [254, 254, 254,  ..., 238, 238, 238],\n",
       "          [245, 245, 245,  ..., 227, 227, 227],\n",
       "          [255, 255, 255,  ..., 252, 252, 252]],\n",
       " \n",
       "         [[255, 255, 255,  ..., 255, 255, 255],\n",
       "          [255, 255, 255,  ..., 255, 255, 255],\n",
       "          [255, 255, 255,  ..., 255, 255, 255],\n",
       "          ...,\n",
       "          [248, 248, 248,  ..., 235, 235, 235],\n",
       "          [242, 242, 242,  ..., 224, 224, 224],\n",
       "          [252, 252, 252,  ..., 249, 249, 249]]], dtype=torch.uint8),\n",
       " 'pts': 0.16}"
      ]
     },
     "execution_count": 18,
     "metadata": {},
     "output_type": "execute_result"
    }
   ],
   "source": [
    "next(reader)"
   ]
  },
  {
   "cell_type": "code",
   "execution_count": null,
   "id": "collaborative-package",
   "metadata": {},
   "outputs": [],
   "source": []
  }
 ],
 "metadata": {
  "kernelspec": {
   "display_name": "Python 3",
   "language": "python",
   "name": "python3"
  },
  "language_info": {
   "codemirror_mode": {
    "name": "ipython",
    "version": 3
   },
   "file_extension": ".py",
   "mimetype": "text/x-python",
   "name": "python",
   "nbconvert_exporter": "python",
   "pygments_lexer": "ipython3",
   "version": "3.8.3"
  }
 },
 "nbformat": 4,
 "nbformat_minor": 5
}
