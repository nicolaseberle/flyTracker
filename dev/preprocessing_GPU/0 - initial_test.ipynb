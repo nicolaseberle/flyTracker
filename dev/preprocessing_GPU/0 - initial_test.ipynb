{
 "cells": [
  {
   "cell_type": "code",
   "execution_count": 27,
   "id": "eligible-closing",
   "metadata": {},
   "outputs": [
    {
     "name": "stdout",
     "output_type": "stream",
     "text": [
      "The autoreload extension is already loaded. To reload it, use:\n",
      "  %reload_ext autoreload\n"
     ]
    }
   ],
   "source": [
    "import numpy as np\n",
    "from torch.utils.data import DataLoader\n",
    "import torch\n",
    "from flytracker.tracker import _run, _initialize, _localize\n",
    "from flytracker.analysis import annotate\n",
    "from flytracker.io import VideoDataset\n",
    "from flytracker.preprocessing.preprocessing import preprocessing_noremap, preprocessing_torch\n",
    "from flytracker.localization.blob import localize_blob, default_blob_detector_params\n",
    "from flytracker.localization.kmeans import localize_kmeans_torch, localize_kmeans\n",
    "from flytracker.tracking import tracking\n",
    "from flytracker.analysis import post_process\n",
    "\n",
    "\n",
    "%load_ext autoreload\n",
    "%autoreload 2"
   ]
  },
  {
   "cell_type": "code",
   "execution_count": 28,
   "id": "demanding-airline",
   "metadata": {},
   "outputs": [],
   "source": [
    "movie_path = \"../../data/experiments/bruno/videos/seq_1.mp4\"\n",
    "\n",
    "\n",
    "mask = torch.ones((1080, 1280), dtype=bool)\n",
    "mask[:160, :] = 0\n",
    "mask[-170:, :] = 0\n",
    "mask[:, :300] = 0\n",
    "mask[:, -230:] = 0\n",
    "\n",
    "mask[:220, :400] = 0\n",
    "mask[:230, -300:] = 0\n",
    "mask[-250:, :370] = 0\n",
    "mask[830:, 970:] = 0"
   ]
  },
  {
   "cell_type": "code",
   "execution_count": 40,
   "id": "coastal-simpson",
   "metadata": {},
   "outputs": [],
   "source": [
    "dataset = VideoDataset(movie_path)\n",
    "loader = DataLoader(dataset, batch_size=None, pin_memory=True)"
   ]
  },
  {
   "cell_type": "code",
   "execution_count": 41,
   "id": "sonic-juice",
   "metadata": {},
   "outputs": [],
   "source": [
    "preprocessor_ini = preprocessing_torch(mask, torch.tensor(255, dtype=torch.uint8))\n",
    "initial_position, initial_frame = _initialize(loader, localize_blob, (default_blob_detector_params(), preprocessor_ini), 100)"
   ]
  },
  {
   "cell_type": "code",
   "execution_count": 42,
   "id": "fourth-active",
   "metadata": {},
   "outputs": [],
   "source": [
    "preprocessor_main= preprocessing_torch(mask.cuda(), torch.tensor(255, dtype=torch.uint8).cuda())"
   ]
  },
  {
   "cell_type": "code",
   "execution_count": 43,
   "id": "upper-biology",
   "metadata": {},
   "outputs": [
    {
     "name": "stdout",
     "output_type": "stream",
     "text": [
      "Done with frame 0\n",
      "Done with frame 1000\n",
      "Done with frame 2000\n",
      "Done with frame 3000\n",
      "Done with frame 4000\n",
      "Done with frame 5000\n",
      "Done with frame 6000\n",
      "Done with frame 7000\n",
      "Done with frame 8000\n",
      "Done with frame 9000\n",
      "Done with frame 10000\n",
      "CPU times: user 10min 18s, sys: 10.8 s, total: 10min 28s\n",
      "Wall time: 37.3 s\n"
     ]
    }
   ],
   "source": [
    "%%time\n",
    "locations = _localize(loader, localize_kmeans_torch, (preprocessor_main, 120, 'cuda'), initial_position, 10000)"
   ]
  },
  {
   "cell_type": "code",
   "execution_count": 44,
   "id": "compact-copyright",
   "metadata": {},
   "outputs": [
    {
     "data": {
      "text/plain": [
       "250.0"
      ]
     },
     "execution_count": 44,
     "metadata": {},
     "output_type": "execute_result"
    }
   ],
   "source": [
    "1e4 / 40"
   ]
  },
  {
   "cell_type": "code",
   "execution_count": 47,
   "id": "guilty-basic",
   "metadata": {},
   "outputs": [
    {
     "data": {
      "text/plain": [
       "10002"
      ]
     },
     "execution_count": 47,
     "metadata": {},
     "output_type": "execute_result"
    }
   ],
   "source": []
  },
  {
   "cell_type": "code",
   "execution_count": null,
   "id": "authorized-collectible",
   "metadata": {},
   "outputs": [],
   "source": []
  }
 ],
 "metadata": {
  "kernelspec": {
   "display_name": "Python 3",
   "language": "python",
   "name": "python3"
  },
  "language_info": {
   "codemirror_mode": {
    "name": "ipython",
    "version": 3
   },
   "file_extension": ".py",
   "mimetype": "text/x-python",
   "name": "python",
   "nbconvert_exporter": "python",
   "pygments_lexer": "ipython3",
   "version": "3.8.3"
  }
 },
 "nbformat": 4,
 "nbformat_minor": 5
}
