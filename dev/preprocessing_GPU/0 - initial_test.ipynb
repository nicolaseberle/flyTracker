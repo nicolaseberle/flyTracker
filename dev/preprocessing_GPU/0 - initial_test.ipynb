{
 "cells": [
  {
   "cell_type": "code",
   "execution_count": 15,
   "id": "informative-chocolate",
   "metadata": {},
   "outputs": [
    {
     "name": "stdout",
     "output_type": "stream",
     "text": [
      "The autoreload extension is already loaded. To reload it, use:\n",
      "  %reload_ext autoreload\n"
     ]
    }
   ],
   "source": [
    "import numpy as np\n",
    "import torch\n",
    "\n",
    "from torch.utils.data import DataLoader\n",
    "from flytracker.io.dataset import VideoDataset, TorchVideoDataset\n",
    "\n",
    "from flytracker.tracker import _run, _initialize, _localize\n",
    "from flytracker.preprocessing.preprocessing import  preprocessing_torch\n",
    "from flytracker.localization.blob import localize_blob, default_blob_detector_params\n",
    "from flytracker.localization.kmeans import localize_kmeans_torch\n",
    "import torch.autograd.profiler as profiler\n",
    "from flytracker.tracking import tracking\n",
    "from flytracker.analysis import post_process\n",
    "\n",
    "import cProfile, pstats, io\n",
    "from pstats import SortKey\n",
    "\n",
    "import matplotlib.pyplot as plt\n",
    "import pandas as pd\n",
    "import seaborn as sns\n",
    "sns.set()\n",
    "\n",
    "%load_ext autoreload\n",
    "%autoreload 2"
   ]
  },
  {
   "cell_type": "code",
   "execution_count": 2,
   "id": "clinical-donna",
   "metadata": {},
   "outputs": [],
   "source": [
    "movie_path = \"../../data/experiments/bruno/videos/seq_1.mp4\"\n",
    "\n",
    "\n",
    "mask = torch.ones((1080, 1280), dtype=bool)\n",
    "mask[:130, :] = 0\n",
    "mask[-160:, :] = 0\n",
    "mask[:, :270] = 0\n",
    "mask[:, -205:] = 0\n",
    "\n",
    "mask[:190, :350] = 0\n",
    "mask[:195, -270:] = 0\n",
    "mask[-220:, :340] = 0\n",
    "mask[870:, 1010:] = 0"
   ]
  },
  {
   "cell_type": "code",
   "execution_count": 7,
   "id": "welsh-asian",
   "metadata": {},
   "outputs": [],
   "source": [
    "dataset = VideoDataset(movie_path)\n",
    "loader = DataLoader(dataset, batch_size=None, pin_memory=True)"
   ]
  },
  {
   "cell_type": "code",
   "execution_count": 8,
   "id": "recognized-enzyme",
   "metadata": {},
   "outputs": [],
   "source": [
    "preprocessor_ini = preprocessing_torch(mask, torch.tensor(255, dtype=torch.uint8))\n",
    "initial_position, initial_frame = _initialize(loader, localize_blob, (default_blob_detector_params(), preprocessor_ini), 100)"
   ]
  },
  {
   "cell_type": "code",
   "execution_count": 9,
   "id": "sustained-phone",
   "metadata": {},
   "outputs": [],
   "source": [
    "preprocessor_main= preprocessing_torch(mask.cuda(), torch.tensor(255, dtype=torch.uint8).cuda())"
   ]
  },
  {
   "cell_type": "code",
   "execution_count": 10,
   "id": "suitable-carnival",
   "metadata": {},
   "outputs": [
    {
     "name": "stdout",
     "output_type": "stream",
     "text": [
      "Done with frame 0\n",
      "Done with frame 1000\n",
      "Done with frame 2000\n",
      "Done with frame 3000\n",
      "Done with frame 4000\n",
      "Done with frame 5000\n",
      "Done with frame 6000\n",
      "Done with frame 7000\n",
      "Done with frame 8000\n",
      "Done with frame 9000\n",
      "Done with frame 10000\n",
      "CPU times: user 9min 51s, sys: 9.82 s, total: 10min 1s\n",
      "Wall time: 35.6 s\n"
     ]
    }
   ],
   "source": [
    "%%time\n",
    "locations = _localize(loader, localize_kmeans_torch, (preprocessor_main, 120, 'cuda'), initial_position, 10000)"
   ]
  },
  {
   "cell_type": "code",
   "execution_count": 9,
   "id": "velvet-fetish",
   "metadata": {},
   "outputs": [
    {
     "name": "stdout",
     "output_type": "stream",
     "text": [
      "Done with frame 0\n",
      "Done with frame 1000\n"
     ]
    }
   ],
   "source": [
    "dataset = VideoDataset(movie_path)\n",
    "loader = DataLoader(dataset, batch_size=None, pin_memory=True)\n",
    "\n",
    "preprocessor_ini = preprocessing_torch(mask, torch.tensor(255, dtype=torch.uint8))\n",
    "initial_position, initial_frame = _initialize(loader, localize_blob, (default_blob_detector_params(), preprocessor_ini), 100)\n",
    "\n",
    "pr = cProfile.Profile()\n",
    "pr.enable()\n",
    "_localize(loader, localize_kmeans_torch, (preprocessor_main, 120, 'cuda'), initial_position, 1000)\n",
    "pr.disable() "
   ]
  },
  {
   "cell_type": "code",
   "execution_count": 10,
   "id": "textile-alexander",
   "metadata": {},
   "outputs": [
    {
     "name": "stdout",
     "output_type": "stream",
     "text": [
      "         134750 function calls in 3.564 seconds\n",
      "\n",
      "   Ordered by: cumulative time\n",
      "\n",
      "   ncalls  tottime  percall  cumtime  percall filename:lineno(function)\n",
      "        2    0.000    0.000    3.564    1.782 /home/gert-jan/anaconda3/envs/updated/lib/python3.8/site-packages/IPython/core/interactiveshell.py:3386(run_code)\n",
      "        2    0.000    0.000    3.564    1.782 {built-in method builtins.exec}\n",
      "        1    0.001    0.001    3.564    3.564 <ipython-input-9-35f0872798ca>:9(<module>)\n",
      "        1    0.008    0.008    3.563    3.563 /home/gert-jan/Documents/flyTracker/src/flytracker/tracker.py:89(_localize)\n",
      "     1002    0.002    0.000    2.028    0.002 /home/gert-jan/anaconda3/envs/updated/lib/python3.8/site-packages/torch/utils/data/dataloader.py:432(__next__)\n",
      "     1002    0.004    0.000    2.026    0.002 /home/gert-jan/anaconda3/envs/updated/lib/python3.8/site-packages/torch/utils/data/dataloader.py:473(_next_data)\n",
      "     1002    0.001    0.000    1.770    0.002 /home/gert-jan/anaconda3/envs/updated/lib/python3.8/site-packages/torch/utils/data/_utils/fetch.py:23(fetch)\n",
      "     2008    0.001    0.000    1.755    0.001 {built-in method builtins.next}\n",
      "     1002    0.001    0.000    1.754    0.002 /home/gert-jan/Documents/flyTracker/src/flytracker/io/dataset.py:15(__next__)\n",
      "     1002    1.753    0.002    1.753    0.002 {method 'read' of 'cv2.VideoCapture' objects}\n",
      "     1001    0.013    0.000    1.526    0.002 /home/gert-jan/Documents/flyTracker/src/flytracker/localization/kmeans/kmeans.py:26(localize_kmeans_torch)\n",
      "     1001    0.064    0.000    0.807    0.001 /home/gert-jan/Documents/flyTracker/src/flytracker/localization/kmeans/kmeans_torch.py:5(kmeans_torch)\n",
      "     2285    0.102    0.000    0.592    0.000 /home/gert-jan/Documents/flyTracker/src/flytracker/localization/kmeans/kmeans_torch.py:6(step)\n",
      "     1001    0.471    0.000    0.471    0.000 {built-in method nonzero}\n",
      "     2285    0.008    0.000    0.286    0.000 /home/gert-jan/anaconda3/envs/updated/lib/python3.8/site-packages/torch/functional.py:1006(cdist)\n",
      "     2285    0.276    0.000    0.276    0.000 {built-in method cdist}\n",
      "     1002    0.001    0.000    0.251    0.000 /home/gert-jan/anaconda3/envs/updated/lib/python3.8/site-packages/torch/utils/data/_utils/pin_memory.py:45(pin_memory)\n",
      "     1002    0.250    0.000    0.250    0.000 {method 'pin_memory' of 'torch._C._TensorBase' objects}\n",
      "     1001    0.003    0.000    0.101    0.000 /home/gert-jan/Documents/flyTracker/src/flytracker/preprocessing/preprocessing.py:41(_preprocessing)\n",
      "     2285    0.027    0.000    0.101    0.000 /home/gert-jan/anaconda3/envs/updated/lib/python3.8/site-packages/torch/nn/functional.py:3763(normalize)\n",
      "     1001    0.002    0.000    0.077    0.000 /home/gert-jan/anaconda3/envs/updated/lib/python3.8/site-packages/torchvision-0.8.0a0+45f960c-py3.8-linux-x86_64.egg/torchvision/transforms/functional.py:943(rgb_to_grayscale)\n",
      "     3004    0.076    0.000    0.076    0.000 {method 'to' of 'torch._C._TensorBase' objects}\n",
      "     1001    0.055    0.000    0.075    0.000 /home/gert-jan/anaconda3/envs/updated/lib/python3.8/site-packages/torchvision-0.8.0a0+45f960c-py3.8-linux-x86_64.egg/torchvision/transforms/functional_tensor.py:189(rgb_to_grayscale)\n",
      "     3286    0.014    0.000    0.073    0.000 /home/gert-jan/anaconda3/envs/updated/lib/python3.8/site-packages/torch/tensor.py:21(wrapped)\n",
      "     1001    0.059    0.000    0.059    0.000 {built-in method fliplr}\n",
      "     2285    0.049    0.000    0.049    0.000 {built-in method torch._C._linalg.linalg_norm}\n",
      "     2285    0.007    0.000    0.044    0.000 /home/gert-jan/anaconda3/envs/updated/lib/python3.8/site-packages/torch/tensor.py:383(norm)\n",
      "     2285    0.042    0.000    0.042    0.000 {built-in method matmul}\n",
      "     2285    0.007    0.000    0.038    0.000 /home/gert-jan/anaconda3/envs/updated/lib/python3.8/site-packages/torch/functional.py:1211(norm)\n",
      "     2285    0.032    0.000    0.032    0.000 {method 'gt' of 'torch._C._TensorBase' objects}\n",
      "     2285    0.027    0.000    0.027    0.000 {built-in method norm}\n",
      "     2285    0.026    0.000    0.026    0.000 {built-in method argmin}\n",
      "     2285    0.024    0.000    0.024    0.000 {built-in method arange}\n",
      "     1001    0.021    0.000    0.021    0.000 {built-in method zeros}\n",
      "     2285    0.021    0.000    0.021    0.000 {method 'clamp_min' of 'torch._C._TensorBase' objects}\n",
      "     1001    0.016    0.000    0.016    0.000 {method 'lt' of 'torch._C._TensorBase' objects}\n",
      "     1001    0.015    0.000    0.015    0.000 {built-in method where}\n",
      "     1002    0.005    0.000    0.014    0.000 /home/gert-jan/anaconda3/envs/updated/lib/python3.8/site-packages/torch/utils/data/_utils/collate.py:15(default_convert)\n",
      "     2285    0.012    0.000    0.012    0.000 {method 'zero_' of 'torch._C._TensorBase' objects}\n",
      "     1001    0.012    0.000    0.012    0.000 {method 'type' of 'torch._C._TensorBase' objects}\n",
      "     1002    0.008    0.000    0.008    0.000 {built-in method as_tensor}\n",
      "     2285    0.008    0.000    0.008    0.000 {method 'expand_as' of 'torch._C._TensorBase' objects}\n",
      "     3286    0.002    0.000    0.007    0.000 /home/gert-jan/anaconda3/envs/updated/lib/python3.8/site-packages/torch/overrides.py:1073(has_torch_function)\n",
      "     2002    0.006    0.000    0.006    0.000 {method 'squeeze' of 'torch._C._TensorBase' objects}\n",
      "     1001    0.006    0.000    0.006    0.000 {method 'unbind' of 'torch._C._TensorBase' objects}\n",
      "     3286    0.002    0.000    0.005    0.000 {built-in method builtins.any}\n",
      "     1001    0.004    0.000    0.004    0.000 {method 'permute' of 'torch._C._TensorBase' objects}\n",
      "     1001    0.004    0.000    0.004    0.000 {method 'unsqueeze' of 'torch._C._TensorBase' objects}\n",
      "     3286    0.002    0.000    0.003    0.000 {built-in method builtins.all}\n",
      "     9858    0.002    0.000    0.003    0.000 /home/gert-jan/anaconda3/envs/updated/lib/python3.8/site-packages/torch/overrides.py:1086(<genexpr>)\n",
      "     4570    0.002    0.000    0.003    0.000 /home/gert-jan/anaconda3/envs/updated/lib/python3.8/site-packages/torch/_VF.py:25(__getattr__)\n",
      "     9858    0.002    0.000    0.002    0.000 /home/gert-jan/anaconda3/envs/updated/lib/python3.8/site-packages/torch/tensor.py:24(<genexpr>)\n",
      "     7860    0.001    0.000    0.001    0.000 {built-in method builtins.getattr}\n",
      "     7579    0.001    0.000    0.001    0.000 {built-in method builtins.isinstance}\n",
      "     2285    0.001    0.000    0.001    0.000 {method 'dim' of 'torch._C._TensorBase' objects}\n",
      "     1002    0.000    0.000    0.001    0.000 /home/gert-jan/anaconda3/envs/updated/lib/python3.8/site-packages/torch/utils/data/dataloader.py:426(_next_index)\n",
      "     6855    0.001    0.000    0.001    0.000 /home/gert-jan/anaconda3/envs/updated/lib/python3.8/site-packages/torch/_jit_internal.py:750(is_scripting)\n",
      "     1002    0.001    0.000    0.001    0.000 {method 'search' of 're.Pattern' objects}\n",
      "     3286    0.001    0.000    0.001    0.000 {built-in method torch._C._is_torch_function_enabled}\n",
      "     1002    0.000    0.000    0.000    0.000 /home/gert-jan/Documents/flyTracker/src/flytracker/tracker.py:98(<lambda>)\n",
      "     1001    0.000    0.000    0.000    0.000 {built-in method builtins.len}\n",
      "        2    0.000    0.000    0.000    0.000 /home/gert-jan/anaconda3/envs/updated/lib/python3.8/codeop.py:135(__call__)\n",
      "        2    0.000    0.000    0.000    0.000 {built-in method builtins.compile}\n",
      "     1003    0.000    0.000    0.000    0.000 /home/gert-jan/anaconda3/envs/updated/lib/python3.8/site-packages/torch/utils/data/dataloader.py:64(__iter__)\n",
      "        2    0.000    0.000    0.000    0.000 {built-in method builtins.print}\n",
      "        4    0.000    0.000    0.000    0.000 /home/gert-jan/anaconda3/envs/updated/lib/python3.8/site-packages/ipykernel/iostream.py:386(write)\n",
      "        6    0.000    0.000    0.000    0.000 /home/gert-jan/anaconda3/envs/updated/lib/python3.8/site-packages/ipykernel/iostream.py:197(schedule)\n",
      "        1    0.000    0.000    0.000    0.000 /home/gert-jan/anaconda3/envs/updated/lib/python3.8/site-packages/torch/utils/data/dataloader.py:339(__iter__)\n",
      "        1    0.000    0.000    0.000    0.000 /home/gert-jan/anaconda3/envs/updated/lib/python3.8/site-packages/torch/utils/data/dataloader.py:290(_get_iterator)\n",
      "        1    0.000    0.000    0.000    0.000 /home/gert-jan/anaconda3/envs/updated/lib/python3.8/site-packages/torch/utils/data/dataloader.py:465(__init__)\n",
      "        1    0.000    0.000    0.000    0.000 /home/gert-jan/anaconda3/envs/updated/lib/python3.8/site-packages/torch/utils/data/dataloader.py:401(__init__)\n",
      "        6    0.000    0.000    0.000    0.000 /home/gert-jan/anaconda3/envs/updated/lib/python3.8/site-packages/zmq/sugar/socket.py:432(send)\n",
      "        6    0.000    0.000    0.000    0.000 /home/gert-jan/anaconda3/envs/updated/lib/python3.8/threading.py:1071(is_alive)\n",
      "        1    0.000    0.000    0.000    0.000 {built-in method tensor}\n",
      "        1    0.000    0.000    0.000    0.000 {method 'random_' of 'torch._C._TensorBase' objects}\n",
      "        4    0.000    0.000    0.000    0.000 /home/gert-jan/anaconda3/envs/updated/lib/python3.8/site-packages/ipykernel/iostream.py:323(_schedule_flush)\n",
      "        1    0.000    0.000    0.000    0.000 {built-in method empty}\n",
      "        6    0.000    0.000    0.000    0.000 /home/gert-jan/anaconda3/envs/updated/lib/python3.8/threading.py:1017(_wait_for_tstate_lock)\n",
      "        4    0.000    0.000    0.000    0.000 /home/gert-jan/anaconda3/envs/updated/lib/python3.8/site-packages/ipykernel/iostream.py:310(_is_master_process)\n",
      "        1    0.000    0.000    0.000    0.000 {method 'item' of 'torch._C._TensorBase' objects}\n",
      "        2    0.000    0.000    0.000    0.000 /home/gert-jan/anaconda3/envs/updated/lib/python3.8/contextlib.py:238(helper)\n",
      "        1    0.000    0.000    0.000    0.000 /home/gert-jan/anaconda3/envs/updated/lib/python3.8/site-packages/torch/utils/data/dataloader.py:45(create_fetcher)\n",
      "        1    0.000    0.000    0.000    0.000 /home/gert-jan/anaconda3/envs/updated/lib/python3.8/site-packages/torch/cuda/__init__.py:46(is_available)\n",
      "        2    0.000    0.000    0.000    0.000 /home/gert-jan/anaconda3/envs/updated/lib/python3.8/contextlib.py:82(__init__)\n",
      "        2    0.000    0.000    0.000    0.000 /home/gert-jan/anaconda3/envs/updated/lib/python3.8/contextlib.py:108(__enter__)\n",
      "        6    0.000    0.000    0.000    0.000 {method 'acquire' of '_thread.lock' objects}\n",
      "        6    0.000    0.000    0.000    0.000 /home/gert-jan/anaconda3/envs/updated/lib/python3.8/site-packages/ipykernel/iostream.py:93(_event_pipe)\n",
      "        2    0.000    0.000    0.000    0.000 /home/gert-jan/anaconda3/envs/updated/lib/python3.8/contextlib.py:117(__exit__)\n",
      "        2    0.000    0.000    0.000    0.000 /home/gert-jan/anaconda3/envs/updated/lib/python3.8/site-packages/IPython/core/hooks.py:103(__call__)\n",
      "        1    0.000    0.000    0.000    0.000 /home/gert-jan/anaconda3/envs/updated/lib/python3.8/site-packages/torch/utils/data/_utils/fetch.py:19(__init__)\n",
      "        4    0.000    0.000    0.000    0.000 /home/gert-jan/anaconda3/envs/updated/lib/python3.8/site-packages/IPython/core/compilerop.py:138(extra_flags)\n",
      "        2    0.000    0.000    0.000    0.000 /home/gert-jan/anaconda3/envs/updated/lib/python3.8/site-packages/traitlets/traitlets.py:564(__get__)\n",
      "        1    0.000    0.000    0.000    0.000 <ipython-input-9-35f0872798ca>:10(<module>)\n",
      "        4    0.000    0.000    0.000    0.000 {built-in method posix.getpid}\n",
      "        2    0.000    0.000    0.000    0.000 /home/gert-jan/anaconda3/envs/updated/lib/python3.8/site-packages/IPython/core/interactiveshell.py:3324(compare)\n",
      "        1    0.000    0.000    0.000    0.000 {built-in method torch._C._cuda_getDeviceCount}\n",
      "        2    0.000    0.000    0.000    0.000 {built-in method builtins.iter}\n",
      "        2    0.000    0.000    0.000    0.000 /home/gert-jan/anaconda3/envs/updated/lib/python3.8/site-packages/IPython/core/interactiveshell.py:1277(user_global_ns)\n",
      "        2    0.000    0.000    0.000    0.000 /home/gert-jan/anaconda3/envs/updated/lib/python3.8/site-packages/traitlets/traitlets.py:533(get)\n",
      "        6    0.000    0.000    0.000    0.000 /home/gert-jan/anaconda3/envs/updated/lib/python3.8/threading.py:513(is_set)\n",
      "        2    0.000    0.000    0.000    0.000 /home/gert-jan/anaconda3/envs/updated/lib/python3.8/site-packages/IPython/utils/ipstruct.py:125(__getattr__)\n",
      "        6    0.000    0.000    0.000    0.000 {method 'append' of 'collections.deque' objects}\n",
      "        2    0.000    0.000    0.000    0.000 /home/gert-jan/anaconda3/envs/updated/lib/python3.8/site-packages/torch/utils/data/dataloader.py:354(_auto_collation)\n",
      "        1    0.000    0.000    0.000    0.000 /home/gert-jan/anaconda3/envs/updated/lib/python3.8/site-packages/torch/utils/data/dataloader.py:358(_index_sampler)\n",
      "        1    0.000    0.000    0.000    0.000 /home/gert-jan/anaconda3/envs/updated/lib/python3.8/site-packages/torch/utils/data/_utils/fetch.py:8(__init__)\n",
      "        1    0.000    0.000    0.000    0.000 {built-in method builtins.hasattr}\n",
      "        2    0.000    0.000    0.000    0.000 /home/gert-jan/anaconda3/envs/updated/lib/python3.8/site-packages/IPython/core/hooks.py:168(pre_run_code_hook)\n",
      "        1    0.000    0.000    0.000    0.000 /home/gert-jan/Documents/flyTracker/src/flytracker/io/dataset.py:12(__iter__)\n",
      "        1    0.000    0.000    0.000    0.000 {method 'disable' of '_lsprof.Profiler' objects}\n",
      "\n",
      "\n",
      "\n"
     ]
    }
   ],
   "source": [
    "s = io.StringIO()\n",
    "sortby = SortKey.CUMULATIVE\n",
    "ps = pstats.Stats(pr, stream=s).sort_stats(sortby)\n",
    "ps.print_stats()\n",
    "print(s.getvalue())"
   ]
  },
  {
   "cell_type": "code",
   "execution_count": 19,
   "id": "binary-syndicate",
   "metadata": {},
   "outputs": [
    {
     "name": "stdout",
     "output_type": "stream",
     "text": [
      "Done with frame 0\n",
      "CPU times: user 28.2 s, sys: 504 ms, total: 28.7 s\n",
      "Wall time: 2.89 s\n"
     ]
    }
   ],
   "source": [
    "%%time\n",
    "dataset = VideoDataset(movie_path)\n",
    "loader = DataLoader(dataset, batch_size=None, pin_memory=True)\n",
    "\n",
    "preprocessor_ini = preprocessing_torch(mask, torch.tensor(255, dtype=torch.uint8))\n",
    "initial_position, initial_frame = _initialize(loader, localize_blob, (default_blob_detector_params(), preprocessor_ini), 100)\n",
    "\n",
    "\n",
    "with profiler.profile(record_shapes=True, profile_memory=True, use_cuda=True) as prof:\n",
    "    with profiler.record_function(\"model_training\"):\n",
    "        _localize(loader, localize_kmeans_torch, (preprocessor_main, 120, 'cuda'), initial_position, 100)\n",
    "prof.export_chrome_trace(\"trace.json\")    "
   ]
  },
  {
   "cell_type": "markdown",
   "id": "copyrighted-monroe",
   "metadata": {},
   "source": [
    "okay fuck it now that we have this done, let's try multiprocessing again:"
   ]
  },
  {
   "cell_type": "code",
   "execution_count": null,
   "id": "absent-number",
   "metadata": {},
   "outputs": [],
   "source": [
    "%%time\n",
    "dataset = TorchVideoDataset(movie_path)\n",
    "loader = DataLoader(dataset, batch_size=None, pin_memory=True, num_workers=0)\n",
    "\n",
    "preprocessor_ini = preprocessing_torch(mask, torch.tensor(255, dtype=torch.uint8))\n",
    "initial_position, initial_frame = _initialize(loader, localize_blob, (default_blob_detector_params(), preprocessor_ini), 100)\n",
    "\n",
    "\n",
    "with profiler.profile(record_shapes=True, profile_memory=True, use_cuda=True) as prof:\n",
    "    with profiler.record_function(\"model_training\"):\n",
    "        _localize(loader, localize_kmeans_torch, (preprocessor_main, 120, 'cuda'), initial_position, 100)\n",
    "prof.export_chrome_trace(\"trace_torch_loader.json\")    "
   ]
  },
  {
   "cell_type": "code",
   "execution_count": 11,
   "id": "biblical-ministry",
   "metadata": {},
   "outputs": [],
   "source": [
    "dataset = TorchVideoDataset(movie_path)\n",
    "loader = DataLoader(dataset, batch_size=None, pin_memory=True)\n",
    "\n",
    "preprocessor_ini = preprocessing_torch(mask, torch.tensor(255, dtype=torch.uint8))\n",
    "initial_position, initial_frame = _initialize(loader, localize_blob, (default_blob_detector_params(), preprocessor_ini), 100)\n",
    "preprocessor_main= preprocessing_torch(mask.cuda(), torch.tensor(255, dtype=torch.uint8).cuda())"
   ]
  },
  {
   "cell_type": "code",
   "execution_count": 12,
   "id": "competent-dance",
   "metadata": {},
   "outputs": [
    {
     "name": "stdout",
     "output_type": "stream",
     "text": [
      "Done with frame 0\n",
      "Done with frame 1000\n",
      "Done with frame 2000\n",
      "Done with frame 3000\n",
      "Done with frame 4000\n",
      "Done with frame 5000\n",
      "Done with frame 6000\n",
      "Done with frame 7000\n",
      "Done with frame 8000\n",
      "Done with frame 9000\n",
      "Done with frame 10000\n",
      "CPU times: user 15min 28s, sys: 16.6 s, total: 15min 44s\n",
      "Wall time: 59.1 s\n"
     ]
    }
   ],
   "source": [
    "%%time\n",
    "locs = _localize(loader, localize_kmeans_torch, (preprocessor_main, 120, 'cuda'), initial_position, 10000)"
   ]
  },
  {
   "cell_type": "markdown",
   "id": "higher-hormone",
   "metadata": {},
   "source": [
    "okay so its slower but also if we run it with a diff worker?"
   ]
  },
  {
   "cell_type": "code",
   "execution_count": null,
   "id": "speaking-passenger",
   "metadata": {},
   "outputs": [],
   "source": [
    "%%time\n",
    "dataset = TorchVideoDataset(movie_path)\n",
    "loader = DataLoader(dataset, batch_size=None, pin_memory=True, num_workers=1)\n",
    "\n",
    "preprocessor_ini = preprocessing_torch(mask, torch.tensor(255, dtype=torch.uint8))\n",
    "initial_position, initial_frame = _initialize(loader, localize_blob, (default_blob_detector_params(), preprocessor_ini), 100)\n",
    "\n",
    "\n",
    "with profiler.profile(record_shapes=True, profile_memory=True) as prof:\n",
    "    with profiler.record_function(\"model_training\"):\n",
    "        _localize(loader, localize_kmeans_torch, (preprocessor_main, 120, 'cuda'), initial_position, 10000)\n",
    "prof.export_chrome_trace(\"trace_torch_loader_parallel.json\")    "
   ]
  },
  {
   "cell_type": "code",
   "execution_count": 19,
   "id": "informational-mobility",
   "metadata": {},
   "outputs": [],
   "source": [
    "dataset = TorchVideoDataset(movie_path)\n",
    "loader = DataLoader(dataset, batch_size=None, pin_memory=True, num_workers=1)\n",
    "\n",
    "preprocessor_ini = preprocessing_torch(mask, torch.tensor(255, dtype=torch.uint8))\n",
    "initial_position, initial_frame = _initialize(loader, localize_blob, (default_blob_detector_params(), preprocessor_ini), 100)\n",
    "preprocessor_main= preprocessing_torch(mask.cuda(), torch.tensor(255, dtype=torch.uint8).cuda())"
   ]
  },
  {
   "cell_type": "code",
   "execution_count": 20,
   "id": "republican-authorization",
   "metadata": {},
   "outputs": [
    {
     "name": "stdout",
     "output_type": "stream",
     "text": [
      "Done with frame 0\n",
      "CPU times: user 2.9 s, sys: 112 ms, total: 3.01 s\n",
      "Wall time: 831 ms\n"
     ]
    }
   ],
   "source": [
    "%%time\n",
    "locs = _localize(loader, localize_kmeans_torch, (preprocessor_main, 120, 'cuda'), initial_position, 10000)\n"
   ]
  },
  {
   "cell_type": "code",
   "execution_count": 23,
   "id": "severe-license",
   "metadata": {},
   "outputs": [
    {
     "data": {
      "text/plain": [
       "2"
      ]
     },
     "execution_count": 23,
     "metadata": {},
     "output_type": "execute_result"
    }
   ],
   "source": [
    "len(locs)"
   ]
  },
  {
   "cell_type": "markdown",
   "id": "vanilla-jersey",
   "metadata": {},
   "source": [
    "Does our parallel loader work?"
   ]
  },
  {
   "cell_type": "code",
   "execution_count": 3,
   "id": "lonely-finland",
   "metadata": {},
   "outputs": [],
   "source": [
    "dataset = VideoDataset(movie_path, parallel=True)\n",
    "loader = DataLoader(dataset, batch_size=None, pin_memory=True)\n",
    "\n",
    "preprocessor_ini = preprocessing_torch(mask, torch.tensor(255, dtype=torch.uint8))\n",
    "initial_position, initial_frame = _initialize(loader, localize_blob, (default_blob_detector_params(), preprocessor_ini), 100)\n",
    "preprocessor_main= preprocessing_torch(mask.cuda(), torch.tensor(255, dtype=torch.uint8).cuda())"
   ]
  },
  {
   "cell_type": "code",
   "execution_count": 4,
   "id": "australian-values",
   "metadata": {},
   "outputs": [
    {
     "name": "stdout",
     "output_type": "stream",
     "text": [
      "Done with frame 0\n",
      "Done with frame 1000\n",
      "Done with frame 2000\n",
      "Done with frame 3000\n",
      "Done with frame 4000\n",
      "Done with frame 5000\n",
      "Done with frame 6000\n",
      "Done with frame 7000\n",
      "Done with frame 8000\n",
      "Done with frame 9000\n",
      "Done with frame 10000\n",
      "CPU times: user 6min 21s, sys: 5.61 s, total: 6min 26s\n",
      "Wall time: 20.9 s\n"
     ]
    }
   ],
   "source": [
    "%%time\n",
    "locs= _localize(loader, localize_kmeans_torch, (preprocessor_main, 120, 'cuda'), initial_position, 10000)"
   ]
  },
  {
   "cell_type": "code",
   "execution_count": 5,
   "id": "bottom-blair",
   "metadata": {},
   "outputs": [],
   "source": [
    "dataset.reader.stop() # do this or everything will grind to a halt"
   ]
  },
  {
   "cell_type": "markdown",
   "id": "conditional-dayton",
   "metadata": {},
   "source": [
    "Woah. Let's look at that with the profiler:"
   ]
  },
  {
   "cell_type": "code",
   "execution_count": 3,
   "id": "weighted-institution",
   "metadata": {},
   "outputs": [],
   "source": [
    "dataset = VideoDataset(movie_path, parallel=True)\n",
    "loader = DataLoader(dataset, batch_size=None, pin_memory=True)\n",
    "\n",
    "preprocessor_ini = preprocessing_torch(mask, torch.tensor(255, dtype=torch.uint8))\n",
    "initial_position, initial_frame = _initialize(loader, localize_blob, (default_blob_detector_params(), preprocessor_ini), 100)\n",
    "preprocessor_main= preprocessing_torch(mask.cuda(), torch.tensor(255, dtype=torch.uint8).cuda())"
   ]
  },
  {
   "cell_type": "code",
   "execution_count": null,
   "id": "moved-reminder",
   "metadata": {},
   "outputs": [
    {
     "name": "stdout",
     "output_type": "stream",
     "text": [
      "Done with frame 0\n"
     ]
    }
   ],
   "source": [
    "with profiler.profile() as prof:\n",
    "    with profiler.record_function(\"model_training\"):\n",
    "        _localize(loader, localize_kmeans_torch, (preprocessor_main, 120, 'cuda'), initial_position, 10000)\n",
    "prof.export_chrome_trace(\"opencv_parallel.json\")    "
   ]
  },
  {
   "cell_type": "markdown",
   "id": "classified-shepherd",
   "metadata": {},
   "source": [
    "Okay so that doesnt work..."
   ]
  },
  {
   "cell_type": "markdown",
   "id": "meaningful-midnight",
   "metadata": {},
   "source": [
    "Let's check the output to be sure we're correct."
   ]
  },
  {
   "cell_type": "code",
   "execution_count": 8,
   "id": "conventional-surgery",
   "metadata": {},
   "outputs": [],
   "source": [
    "ordered_locations = tracking(locs)"
   ]
  },
  {
   "cell_type": "code",
   "execution_count": 9,
   "id": "fitted-january",
   "metadata": {},
   "outputs": [],
   "source": [
    "df = post_process(ordered_locations, initial_frame=101, n_arenas=4)"
   ]
  },
  {
   "cell_type": "code",
   "execution_count": 10,
   "id": "electrical-indiana",
   "metadata": {},
   "outputs": [
    {
     "data": {
      "text/html": [
       "<div>\n",
       "<style scoped>\n",
       "    .dataframe tbody tr th:only-of-type {\n",
       "        vertical-align: middle;\n",
       "    }\n",
       "\n",
       "    .dataframe tbody tr th {\n",
       "        vertical-align: top;\n",
       "    }\n",
       "\n",
       "    .dataframe thead th {\n",
       "        text-align: right;\n",
       "    }\n",
       "</style>\n",
       "<table border=\"1\" class=\"dataframe\">\n",
       "  <thead>\n",
       "    <tr style=\"text-align: right;\">\n",
       "      <th></th>\n",
       "      <th>frame</th>\n",
       "      <th>ID</th>\n",
       "      <th>x</th>\n",
       "      <th>y</th>\n",
       "      <th>arena</th>\n",
       "    </tr>\n",
       "  </thead>\n",
       "  <tbody>\n",
       "    <tr>\n",
       "      <th>0</th>\n",
       "      <td>101</td>\n",
       "      <td>0</td>\n",
       "      <td>450.244019</td>\n",
       "      <td>852.674377</td>\n",
       "      <td>0</td>\n",
       "    </tr>\n",
       "    <tr>\n",
       "      <th>1</th>\n",
       "      <td>101</td>\n",
       "      <td>1</td>\n",
       "      <td>437.578949</td>\n",
       "      <td>839.452942</td>\n",
       "      <td>0</td>\n",
       "    </tr>\n",
       "    <tr>\n",
       "      <th>2</th>\n",
       "      <td>101</td>\n",
       "      <td>2</td>\n",
       "      <td>436.616669</td>\n",
       "      <td>709.519470</td>\n",
       "      <td>0</td>\n",
       "    </tr>\n",
       "    <tr>\n",
       "      <th>3</th>\n",
       "      <td>101</td>\n",
       "      <td>3</td>\n",
       "      <td>531.800171</td>\n",
       "      <td>649.820068</td>\n",
       "      <td>0</td>\n",
       "    </tr>\n",
       "    <tr>\n",
       "      <th>4</th>\n",
       "      <td>101</td>\n",
       "      <td>4</td>\n",
       "      <td>545.478455</td>\n",
       "      <td>643.285522</td>\n",
       "      <td>0</td>\n",
       "    </tr>\n",
       "    <tr>\n",
       "      <th>...</th>\n",
       "      <td>...</td>\n",
       "      <td>...</td>\n",
       "      <td>...</td>\n",
       "      <td>...</td>\n",
       "      <td>...</td>\n",
       "    </tr>\n",
       "    <tr>\n",
       "      <th>400075</th>\n",
       "      <td>10102</td>\n",
       "      <td>35</td>\n",
       "      <td>1012.000183</td>\n",
       "      <td>346.346252</td>\n",
       "      <td>3</td>\n",
       "    </tr>\n",
       "    <tr>\n",
       "      <th>400076</th>\n",
       "      <td>10102</td>\n",
       "      <td>36</td>\n",
       "      <td>862.177795</td>\n",
       "      <td>169.844452</td>\n",
       "      <td>3</td>\n",
       "    </tr>\n",
       "    <tr>\n",
       "      <th>400077</th>\n",
       "      <td>10102</td>\n",
       "      <td>37</td>\n",
       "      <td>845.033936</td>\n",
       "      <td>211.356003</td>\n",
       "      <td>3</td>\n",
       "    </tr>\n",
       "    <tr>\n",
       "      <th>400078</th>\n",
       "      <td>10102</td>\n",
       "      <td>38</td>\n",
       "      <td>985.215698</td>\n",
       "      <td>255.882339</td>\n",
       "      <td>3</td>\n",
       "    </tr>\n",
       "    <tr>\n",
       "      <th>400079</th>\n",
       "      <td>10102</td>\n",
       "      <td>39</td>\n",
       "      <td>922.955566</td>\n",
       "      <td>187.488922</td>\n",
       "      <td>3</td>\n",
       "    </tr>\n",
       "  </tbody>\n",
       "</table>\n",
       "<p>400080 rows × 5 columns</p>\n",
       "</div>"
      ],
      "text/plain": [
       "        frame  ID            x           y  arena\n",
       "0         101   0   450.244019  852.674377      0\n",
       "1         101   1   437.578949  839.452942      0\n",
       "2         101   2   436.616669  709.519470      0\n",
       "3         101   3   531.800171  649.820068      0\n",
       "4         101   4   545.478455  643.285522      0\n",
       "...       ...  ..          ...         ...    ...\n",
       "400075  10102  35  1012.000183  346.346252      3\n",
       "400076  10102  36   862.177795  169.844452      3\n",
       "400077  10102  37   845.033936  211.356003      3\n",
       "400078  10102  38   985.215698  255.882339      3\n",
       "400079  10102  39   922.955566  187.488922      3\n",
       "\n",
       "[400080 rows x 5 columns]"
      ]
     },
     "execution_count": 10,
     "metadata": {},
     "output_type": "execute_result"
    }
   ],
   "source": [
    "plt"
   ]
  },
  {
   "cell_type": "code",
   "execution_count": 32,
   "id": "regulated-failure",
   "metadata": {},
   "outputs": [
    {
     "data": {
      "text/plain": [
       "[<matplotlib.lines.Line2D at 0x7efc328453d0>]"
      ]
     },
     "execution_count": 32,
     "metadata": {},
     "output_type": "execute_result"
    },
    {
     "data": {
      "image/png": "[encoded data removed]",
      "text/plain": [
       "<Figure size 432x288 with 1 Axes>"
      ]
     },
     "metadata": {},
     "output_type": "display_data"
    }
   ],
   "source": [
    "ID = 20\n",
    "plt.plot(*df.query(f\"ID == {ID}\")[[\"x\", \"y\"]].to_numpy().T)"
   ]
  },
  {
   "cell_type": "code",
   "execution_count": null,
   "id": "amino-thailand",
   "metadata": {},
   "outputs": [],
   "source": []
  }
 ],
 "metadata": {
  "kernelspec": {
   "display_name": "Python 3",
   "language": "python",
   "name": "python3"
  },
  "language_info": {
   "codemirror_mode": {
    "name": "ipython",
    "version": 3
   },
   "file_extension": ".py",
   "mimetype": "text/x-python",
   "name": "python",
   "nbconvert_exporter": "python",
   "pygments_lexer": "ipython3",
   "version": "3.8.3"
  }
 },
 "nbformat": 4,
 "nbformat_minor": 5
}
