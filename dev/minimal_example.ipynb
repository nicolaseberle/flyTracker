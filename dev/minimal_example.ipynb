{
 "cells": [
  {
   "cell_type": "code",
   "execution_count": 1,
   "metadata": {},
   "outputs": [],
   "source": [
    "import numpy as np\n",
    "import cv2 as cv\n",
    "import pandas as pd\n",
    "\n",
    "from sklearn.cluster import KMeans, k_means\n",
    "from scipy.optimize import linear_sum_assignment\n",
    "from scipy.spatial import distance_matrix\n",
    "\n",
    "from os.path import join\n",
    "from itertools import count\n",
    "from functools import partial\n",
    "\n",
    "import matplotlib.pyplot as plt"
   ]
  },
  {
   "cell_type": "code",
   "execution_count": 2,
   "metadata": {},
   "outputs": [],
   "source": [
    "def construct_undistort_map(image_size, folder):\n",
    "    \"\"\" Construct openCV undistort undistort mapping. Make sure files as named below are the supplied folder.\n",
    "    Returns a function which takes in image and returns the undistorted image.\"\"\"\n",
    "    mtx = np.load(join(folder, \"mtx_file.npy\"))\n",
    "    dist = np.load(join(folder, \"dist_file.npy\"))\n",
    "    newcameramtx = np.load(join(folder, \"newcameramtx_file.npy\"))\n",
    "\n",
    "    mapping = cv.initUndistortRectifyMap(mtx, dist, None, newcameramtx, image_size, 5)\n",
    "    return mapping"
   ]
  },
  {
   "cell_type": "code",
   "execution_count": 3,
   "metadata": {},
   "outputs": [],
   "source": [
    "def default_blob_detector_params():\n",
    "    \"\"\"Blob detector params used to perform initial localization.\"\"\"\n",
    "    # Setup SimpleBlobDetector parameters.\n",
    "    params = cv.SimpleBlobDetector_Params()\n",
    "\n",
    "    # Change thresholds\n",
    "    params.minThreshold = 20\n",
    "    params.maxThreshold = 150\n",
    "\n",
    "    # Filter by Area.\n",
    "    params.filterByArea = True\n",
    "    params.minArea = 15\n",
    "    params.maxArea = 60\n",
    "    params.minDistBetweenBlobs = 1.0\n",
    "\n",
    "    # Turn off other filters\n",
    "    params.filterByCircularity = False\n",
    "    params.filterByConvexity = False\n",
    "    params.filterByInertia = False\n",
    "\n",
    "    return params"
   ]
  },
  {
   "cell_type": "code",
   "execution_count": 4,
   "metadata": {},
   "outputs": [],
   "source": [
    "def preprocessing(image, mapping, mask):\n",
    "    \"\"\"Preprocesses image to make it ready for kmeans.\"\"\"\n",
    "    processed_image = cv.cvtColor(image, cv.COLOR_BGR2GRAY)\n",
    "    processed_image = cv.remap(processed_image, *mapping, cv.INTER_LINEAR)\n",
    "    processed_image[~mask] = 255\n",
    "    return processed_image"
   ]
  },
  {
   "cell_type": "code",
   "execution_count": 5,
   "metadata": {},
   "outputs": [],
   "source": [
    "def blob_detector_localization(image):\n",
    "    \"\"\"Find flies using blob detector\"\"\"\n",
    "    blob_detector = cv.SimpleBlobDetector_create(default_blob_detector_params())\n",
    "    keypoints = blob_detector.detect(image)  # get keypoints\n",
    "    return np.array([keypoint.pt for keypoint in keypoints])\n",
    "\n",
    "def localize_kmeans(image, init, threshold=120):\n",
    "    \"\"\"Find flies using kmeans.\"\"\"\n",
    "    n_flies = init.shape[0]\n",
    "    fly_pixels = cv.findNonZero((image < threshold).astype(\"uint8\")).squeeze()\n",
    "    locations = KMeans(n_clusters=n_flies, n_init=1, init=init).fit(fly_pixels).cluster_centers_\n",
    "    return locations\n",
    "\n",
    "def hungarian(locs_new, locs_prev):\n",
    "    \"\"\"Returns ordered fly location (i.e. tracks)\"\"\"\n",
    "    new_ordering = linear_sum_assignment(distance_matrix(locs_new, locs_prev))[1]\n",
    "    return locs_new[new_ordering]"
   ]
  },
  {
   "cell_type": "code",
   "execution_count": 6,
   "metadata": {},
   "outputs": [],
   "source": [
    "def initialize(loader, n_frames):\n",
    "    \"\"\"Find flies using blob detector and\n",
    "    calulate number of flies.\"\"\"\n",
    "    n_blobs = []\n",
    "    for frame_idx in count():\n",
    "        image = loader()\n",
    "        locations = blob_detector_localization(image)\n",
    "        n_blobs.append(locations.shape[0])\n",
    "\n",
    "        if len(n_blobs) >= n_frames:\n",
    "            n_flies = int(np.median(n_blobs))\n",
    "            if (n_blobs[-1] == n_flies):\n",
    "                break\n",
    "\n",
    "    return n_flies, locations, frame_idx\n",
    "\n",
    "def localize(loader, initial_position, n_frames=None):\n",
    "    \"Track flies using kmeans\"\n",
    "    locations = [initial_position]\n",
    "    for idx in count():\n",
    "        try:\n",
    "            image = loader()\n",
    "        except:\n",
    "            break # finished\n",
    "        \n",
    "        locations.append(hungarian(localize_kmeans(image, locations[-1]), locations[-1]))\n",
    "        \n",
    "        if idx % 1000 == 0:\n",
    "            print(f\"Done with frame {idx}\")\n",
    "        if idx + 1 == n_frames:\n",
    "            break # max number of frames\n",
    "    return locations"
   ]
  },
  {
   "cell_type": "code",
   "execution_count": 7,
   "metadata": {},
   "outputs": [],
   "source": [
    "def post_process(locations, initial_frame, n_arenas):\n",
    "    \"\"\" Post processing: turns into dataframe, sorts per arena.\"\"\"\n",
    "    n_frames = len(locations)\n",
    "    n_flies = len(locations[0])\n",
    "    identities = (\n",
    "        np.arange(n_flies)[None, :] * np.ones((n_frames, n_flies))\n",
    "    ).reshape(\n",
    "        -1, 1\n",
    "    )  # we get free tracking from the kmeans\n",
    "    frames = (\n",
    "        np.arange(initial_frame, n_frames + initial_frame)[:, None]\n",
    "        * np.ones((n_frames, n_flies))\n",
    "    ).reshape(-1, 1)\n",
    "    df = pd.DataFrame(\n",
    "        np.concatenate(\n",
    "            [frames, identities, np.concatenate(locations, axis=0)], axis=1\n",
    "        ),\n",
    "        columns=[\"frame\", \"ID\", \"x\", \"y\"],\n",
    "    )\n",
    "\n",
    "    # Localizing flies per arena\n",
    "    x_ave = df.pivot_table(index=\"ID\", columns=\"frame\", values=\"x\").mean(axis=1)\n",
    "    y_ave = df.pivot_table(index=\"ID\", columns=\"frame\", values=\"y\").mean(axis=1)\n",
    "    labels = k_means(np.stack([x_ave, y_ave], axis=1), n_arenas)[1]\n",
    "    df[\"arena\"] = (labels[None, :] * np.ones((df.frame.unique().size, 1))).flatten()\n",
    "    return df"
   ]
  },
  {
   "cell_type": "code",
   "execution_count": 8,
   "metadata": {},
   "outputs": [],
   "source": [
    "def run(movie_path, mask, n_arenas, mapping_folder, n_frames=None, n_ini=100):\n",
    "    \"\"\"Runs the whole pipeline. I.e preprocessing, localizing and postprocessing.\"\"\"\n",
    "    # Constructing loader\n",
    "    capture = cv.VideoCapture(movie_path)\n",
    "\n",
    "\n",
    "    image_size = (\n",
    "            int(capture.get(cv.CAP_PROP_FRAME_WIDTH)),\n",
    "            int(capture.get(cv.CAP_PROP_FRAME_HEIGHT)),\n",
    "        )\n",
    "    mapping = construct_undistort_map(image_size, mapping_folder)\n",
    "\n",
    "    loader = lambda: preprocessing(capture.read()[1], mapping=mapping, mask=mask)\n",
    "    \n",
    "    # Actual logic\n",
    "    n_flies, initial_locations, initial_frame = initialize(loader, n_ini)\n",
    "    locs = localize(loader, initial_locations, n_frames=n_frames)\n",
    "    df = post_process(locs, initial_frame, n_arenas=n_arenas)\n",
    "    return df"
   ]
  },
  {
   "cell_type": "code",
   "execution_count": 9,
   "metadata": {},
   "outputs": [],
   "source": [
    "# Making mask\n",
    "movie_path = \"/home/gert-jan/Documents/flyTracker/data/testing_data/4arenas/seq_1.h264\"\n",
    "mapping_folder = \"/home/gert-jan/Documents/flyTracker/data/distortion_maps/\"\n",
    "\n",
    "capture = cv.VideoCapture(movie_path)\n",
    "image_size = (\n",
    "        int(capture.get(cv.CAP_PROP_FRAME_WIDTH)),\n",
    "        int(capture.get(cv.CAP_PROP_FRAME_HEIGHT)),\n",
    "    )\n",
    "mapping = construct_undistort_map(image_size, mapping_folder)\n",
    "image = lambda mask: preprocessing(capture.read()[1], mapping=mapping, mask=mask)"
   ]
  },
  {
   "cell_type": "code",
   "execution_count": 10,
   "metadata": {},
   "outputs": [
    {
     "data": {
      "text/plain": [
       "<matplotlib.image.AxesImage at 0x7f4374039f40>"
      ]
     },
     "execution_count": 10,
     "metadata": {},
     "output_type": "execute_result"
    },
    {
     "data": {
      "image/png": "[encoded data removed]",
      "text/plain": [
       "<Figure size 720x720 with 1 Axes>"
      ]
     },
     "metadata": {
      "needs_background": "light"
     },
     "output_type": "display_data"
    }
   ],
   "source": [
    "# Creating mask\n",
    "mask = mask=np.ones(image_size, dtype=bool).T\n",
    "mask[:125, :] = 0\n",
    "mask[-135:, :] = 0\n",
    "mask[:, :180] = 0\n",
    "mask[:, -280:] = 0\n",
    "\n",
    "\n",
    "plt.figure(figsize=(10, 10))\n",
    "plt.imshow(image(mask), cmap='gray')"
   ]
  },
  {
   "cell_type": "code",
   "execution_count": 11,
   "metadata": {},
   "outputs": [
    {
     "name": "stdout",
     "output_type": "stream",
     "text": [
      "Done with frame 0\n",
      "CPU times: user 2min 38s, sys: 23.5 s, total: 3min 1s\n",
      "Wall time: 8.08 s\n"
     ]
    }
   ],
   "source": [
    "%%time\n",
    "# If mask looks good, run it for 1000 frames as an extra check; timing should give you an idea how long it should take.\n",
    "movie_path = \"/home/gert-jan/Documents/flyTracker/data/testing_data/4arenas/seq_1.h264\"\n",
    "mapping_folder = \"/home/gert-jan/Documents/flyTracker/data/distortion_maps/\"\n",
    "df = run(movie_path, mask, n_arenas=4, mapping_folder=mapping_folder, n_frames=1000)\n",
    "df.to_hdf('df_new.hdf', key='df', complevel=9, complib='blosc')"
   ]
  },
  {
   "cell_type": "code",
   "execution_count": 12,
   "metadata": {},
   "outputs": [
    {
     "name": "stdout",
     "output_type": "stream",
     "text": [
      "Done with frame 0\n",
      "Done with frame 1000\n",
      "Done with frame 2000\n",
      "Done with frame 3000\n",
      "Done with frame 4000\n",
      "Done with frame 5000\n",
      "Done with frame 6000\n",
      "Done with frame 7000\n",
      "Done with frame 8000\n",
      "Done with frame 9000\n",
      "Done with frame 10000\n",
      "Done with frame 11000\n",
      "Done with frame 12000\n",
      "Done with frame 13000\n",
      "Done with frame 14000\n",
      "Done with frame 15000\n",
      "Done with frame 16000\n",
      "Done with frame 17000\n",
      "Done with frame 18000\n",
      "Done with frame 19000\n",
      "Done with frame 20000\n",
      "Done with frame 21000\n",
      "Done with frame 22000\n",
      "Done with frame 23000\n",
      "Done with frame 24000\n",
      "Done with frame 25000\n",
      "Done with frame 26000\n",
      "Done with frame 27000\n",
      "Done with frame 28000\n",
      "Done with frame 29000\n",
      "Done with frame 30000\n",
      "Done with frame 31000\n",
      "Done with frame 32000\n",
      "Done with frame 33000\n",
      "Done with frame 34000\n",
      "Done with frame 35000\n",
      "Done with frame 36000\n",
      "Done with frame 37000\n",
      "Done with frame 38000\n",
      "Done with frame 39000\n",
      "Done with frame 40000\n",
      "Done with frame 41000\n",
      "Done with frame 42000\n",
      "Done with frame 43000\n",
      "Done with frame 44000\n",
      "Done with frame 45000\n",
      "Done with frame 46000\n",
      "Done with frame 47000\n",
      "Done with frame 48000\n",
      "Done with frame 49000\n",
      "Done with frame 50000\n",
      "Done with frame 51000\n",
      "Done with frame 52000\n",
      "Done with frame 53000\n",
      "Done with frame 54000\n",
      "Done with frame 55000\n",
      "Done with frame 56000\n",
      "Done with frame 57000\n",
      "Done with frame 58000\n",
      "Done with frame 59000\n",
      "Done with frame 60000\n",
      "Done with frame 61000\n",
      "Done with frame 62000\n",
      "Done with frame 63000\n",
      "Done with frame 64000\n",
      "Done with frame 65000\n",
      "Done with frame 66000\n",
      "Done with frame 67000\n",
      "Done with frame 68000\n",
      "Done with frame 69000\n",
      "Done with frame 70000\n",
      "Done with frame 71000\n",
      "Done with frame 72000\n",
      "Done with frame 73000\n",
      "Done with frame 74000\n",
      "Done with frame 75000\n",
      "Done with frame 76000\n",
      "Done with frame 77000\n",
      "Done with frame 78000\n",
      "Done with frame 79000\n",
      "Done with frame 80000\n",
      "Done with frame 81000\n",
      "Done with frame 82000\n",
      "Done with frame 83000\n",
      "Done with frame 84000\n",
      "Done with frame 85000\n",
      "Done with frame 86000\n",
      "Done with frame 87000\n",
      "Done with frame 88000\n",
      "Done with frame 89000\n",
      "Done with frame 90000\n",
      "Done with frame 91000\n",
      "Done with frame 92000\n",
      "Done with frame 93000\n",
      "Done with frame 94000\n",
      "Done with frame 95000\n",
      "Done with frame 96000\n",
      "Done with frame 97000\n",
      "Done with frame 98000\n",
      "Done with frame 99000\n",
      "Done with frame 100000\n",
      "Done with frame 101000\n",
      "Done with frame 102000\n",
      "Done with frame 103000\n",
      "Done with frame 104000\n",
      "Done with frame 105000\n",
      "Done with frame 106000\n",
      "Done with frame 107000\n"
     ]
    }
   ],
   "source": [
    "# If everything is still good, run the whole thing\n",
    "movie_path = \"/home/gert-jan/Documents/flyTracker/data/testing_data/4arenas/seq_1.h264\"\n",
    "mapping_folder = \"/home/gert-jan/Documents/flyTracker/data/distortion_maps/\"\n",
    "df = run(movie_path, mask, n_arenas=4, mapping_folder=mapping_folder)\n",
    "df.to_hdf('df_new.hdf', key='df', complevel=9, complib='blosc')"
   ]
  },
  {
   "cell_type": "code",
   "execution_count": null,
   "metadata": {},
   "outputs": [],
   "source": []
  },
  {
   "cell_type": "code",
   "execution_count": null,
   "metadata": {},
   "outputs": [],
   "source": []
  }
 ],
 "metadata": {
  "kernelspec": {
   "display_name": "Python 3",
   "language": "python",
   "name": "python3"
  },
  "language_info": {
   "codemirror_mode": {
    "name": "ipython",
    "version": 3
   },
   "file_extension": ".py",
   "mimetype": "text/x-python",
   "name": "python",
   "nbconvert_exporter": "python",
   "pygments_lexer": "ipython3",
   "version": "3.8.5"
  }
 },
 "nbformat": 4,
 "nbformat_minor": 4
}
