{
 "cells": [
  {
   "cell_type": "code",
   "execution_count": 3,
   "id": "stone-humidity",
   "metadata": {},
   "outputs": [],
   "source": [
    "# %%\n",
    "import cv2\n",
    "import numpy as np\n",
    "import os\n",
    "import pandas as pd\n",
    "\n",
    "from itertools import takewhile\n",
    "from scipy.spatial import distance_matrix\n",
    "from seaborn import color_palette\n",
    "\n",
    "from flytracker.io import DataLoader\n",
    "from flytracker.analysis.annotating import *"
   ]
  },
  {
   "cell_type": "code",
   "execution_count": 20,
   "id": "nutritional-senegal",
   "metadata": {},
   "outputs": [],
   "source": [
    "movie_path = (\"/home/gert-jan/Documents/flyTracker/data/experiments/bruno/videos/seq_1.mp4\")\n",
    "data_path = \"/home/gert-jan/Documents/flyTracker/data/experiments/bruno/results/df.hdf\"\n",
    "output_loc = \"/home/gert-jan/Documents/flyTracker/data/experiments/bruno/videos/annotated_video.mp4\"\n",
    "df = pd.read_hdf(data_path, key=\"df\")"
   ]
  },
  {
   "cell_type": "code",
   "execution_count": 21,
   "id": "demonstrated-armor",
   "metadata": {},
   "outputs": [
    {
     "data": {
      "text/plain": [
       "(1080, 1280, 3)"
      ]
     },
     "execution_count": 21,
     "metadata": {},
     "output_type": "execute_result"
    }
   ],
   "source": [
    "cv2.VideoCapture(movie_path).read()[1].shape"
   ]
  },
  {
   "cell_type": "code",
   "execution_count": 22,
   "id": "rolled-canada",
   "metadata": {},
   "outputs": [
    {
     "data": {
      "text/plain": [
       "dtype('uint8')"
      ]
     },
     "execution_count": 22,
     "metadata": {},
     "output_type": "execute_result"
    }
   ],
   "source": [
    "cv2.VideoCapture(movie_path).read()[1].dtype"
   ]
  },
  {
   "cell_type": "code",
   "execution_count": 28,
   "id": "rough-energy",
   "metadata": {},
   "outputs": [],
   "source": [
    "track_length=30\n",
    "touching_distance=10\n",
    "image_size=(1280, 1080)#(1080, 1280)\n",
    "max_frames=100"
   ]
  },
  {
   "cell_type": "code",
   "execution_count": 29,
   "id": "dietary-limitation",
   "metadata": {},
   "outputs": [],
   "source": [
    "# Parsing dataframe to numpy array - much faster\n",
    "data, n_flies_per_arena = parse_data(df)\n",
    "track_length = int(np.around(track_length * 30))\n",
    "color_fn = lambda ID: color_picker(ID, n_flies_per_arena)\n",
    "\n",
    "# Making dataset\n",
    "initial_frame = data[0, 0, 0]\n",
    "n_frames = data.shape[0] if max_frames is None else max_frames\n",
    "\n",
    "assert movie_path.split(\".\")[-1] == \"mp4\", \"Movie should be mp4.\"\n",
    "loader = DataLoader(movie_path, parallel=False)\n",
    "# plus 1 for intiial frame since we plot (n-1, n)\n",
    "loader.dataset.set_frame(initial_frame + 1)\n",
    "\n",
    "# Setting up loader and writer\n",
    "writer = setup_writer(output_loc, image_size, fps=30)"
   ]
  },
  {
   "cell_type": "code",
   "execution_count": 30,
   "id": "clean-atlas",
   "metadata": {},
   "outputs": [],
   "source": [
    "reader = cv2.VideoCapture(movie_path)"
   ]
  },
  {
   "cell_type": "code",
   "execution_count": 31,
   "id": "medical-brooks",
   "metadata": {},
   "outputs": [],
   "source": [
    "for idx, image in takewhile(lambda x: x[0] < n_frames, enumerate(loader, start=1)):\n",
    "    #image = image.numpy().squeeze()\n",
    "    #print(image.shape, image.dtype)\n",
    "    image = reader.read()[1]\n",
    "    #lower_frame, upper_frame = np.maximum(idx - track_length, 0), idx\n",
    "\n",
    "    #image = add_frame_info(image, f\"frame: {upper_frame}\")\n",
    "    # First write tracks so that numbers don't get occluded.\n",
    "    #image = write_tracks(image, data[lower_frame:upper_frame], color_fn)\n",
    "    #image = write_ID(image, data[upper_frame], touching_distance=touching_distance)\n",
    "    #print(image.shape, image.dtype)\n",
    "    writer.write(image)\n",
    "writer.release()"
   ]
  },
  {
   "cell_type": "code",
   "execution_count": null,
   "id": "described-rwanda",
   "metadata": {},
   "outputs": [],
   "source": []
  },
  {
   "cell_type": "code",
   "execution_count": null,
   "id": "faced-warren",
   "metadata": {},
   "outputs": [],
   "source": [
    "\n",
    "\n",
    "def annotate(\n",
    "    df,\n",
    "    movie_path,\n",
    "    output_loc,\n",
    "    max_frames=None,\n",
    "    track_length=30,\n",
    "    touching_distance=10,\n",
    "    image_size=(1080, 1280),\n",
    "):\n",
    "\n",
    "    # Parsing dataframe to numpy array - much faster\n",
    "    data, n_flies_per_arena = parse_data(df)\n",
    "    track_length = int(np.around(track_length * 30))\n",
    "    color_fn = lambda ID: color_picker(ID, n_flies_per_arena)\n",
    "\n",
    "    # Making dataset\n",
    "    initial_frame = data[0, 0, 0]\n",
    "    n_frames = data.shape[0] if max_frames is None else max_frames\n",
    "\n",
    "    assert movie_path.split(\".\")[-1] == \"mp4\", \"Movie should be mp4.\"\n",
    "    loader = DataLoader(movie_path, parallel=False)\n",
    "    # plus 1 for intiial frame since we plot (n-1, n)\n",
    "    loader.dataset.set_frame(initial_frame + 1)\n",
    "\n",
    "    # Setting up loader and writer\n",
    "    writer = setup_writer(output_loc, image_size, fps=30)\n",
    "\n",
    "    for idx, image in takewhile(lambda x: x[0] < n_frames, enumerate(loader, start=1)):\n",
    "        image = image.numpy().squeeze()\n",
    "        lower_frame, upper_frame = np.maximum(idx - track_length, 0), idx\n",
    "\n",
    "        image = add_frame_info(image, f\"frame: {upper_frame}\")\n",
    "        # First write tracks so that numbers don't get occluded.\n",
    "        image = write_tracks(image, data[lower_frame:upper_frame], color_fn)\n",
    "        image = write_ID(image, data[upper_frame], touching_distance=touching_distance)\n",
    "        print(image.shape, image.dtype)\n",
    "        writer.write(image)\n",
    "\n",
    "        if idx % 1000 == 0:\n",
    "            print(f\"Done with frame {idx}\")\n",
    "    writer.release()\n",
    "\n",
    "    # Compressing to h264 with ffmpeg\n",
    "    compressed_loc = output_loc.split(\".\")[0] + \"_compressed.mp4\"\n",
    "    os.system(f\"ffmpeg -i {output_loc} -an -vcodec libx264 -crf 23 {compressed_loc}\")\n"
   ]
  }
 ],
 "metadata": {
  "kernelspec": {
   "display_name": "Python 3",
   "language": "python",
   "name": "python3"
  },
  "language_info": {
   "codemirror_mode": {
    "name": "ipython",
    "version": 3
   },
   "file_extension": ".py",
   "mimetype": "text/x-python",
   "name": "python",
   "nbconvert_exporter": "python",
   "pygments_lexer": "ipython3",
   "version": "3.8.3"
  }
 },
 "nbformat": 4,
 "nbformat_minor": 5
}
