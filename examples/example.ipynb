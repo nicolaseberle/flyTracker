{
 "cells": [
  {
   "cell_type": "markdown",
   "id": "decent-branch",
   "metadata": {},
   "source": [
    "In this notebook we show how to implement a local threshold:"
   ]
  },
  {
   "cell_type": "code",
   "execution_count": null,
   "id": "bound-advocate",
   "metadata": {},
   "outputs": [],
   "source": [
    "import torch\n",
    "from flytracker import run\n",
    "\n",
    "from flytracker.utils.param_helpers import load_frame, test_mask, test_threshold\n",
    "from skimage.filters import threshold_local\n",
    "\n",
    "import matplotlib.pyplot as plt"
   ]
  },
  {
   "cell_type": "code",
   "execution_count": null,
   "id": "occupied-senegal",
   "metadata": {},
   "outputs": [],
   "source": [
    "# Location of a movie\n",
    "movie_path = \"../data/experiments/bruno/videos/seq_1.mp4\"\n",
    "image = load_frame(movie_path, frame=100, color=False)"
   ]
  },
  {
   "cell_type": "code",
   "execution_count": null,
   "id": "subtle-relaxation",
   "metadata": {},
   "outputs": [],
   "source": [
    "plt.figure(figsize=(15, 10))\n",
    "plt.imshow(image, cmap='gray')"
   ]
  },
  {
   "cell_type": "code",
   "execution_count": null,
   "id": "statutory-cherry",
   "metadata": {},
   "outputs": [],
   "source": [
    "mask = torch.ones((1080, 1280), dtype=bool)\n",
    "mask[:130, :] = 0\n",
    "mask[-160:, :] = 0\n",
    "mask[:, :270] = 0\n",
    "mask[:, -205:] = 0\n",
    "\n",
    "mask[:190, :350] = 0\n",
    "mask[:195, -270:] = 0\n",
    "mask[-220:, :340] = 0\n",
    "mask[870:, 1010:] = 0\n",
    "\n",
    "masked_image = test_mask(image, mask)"
   ]
  },
  {
   "cell_type": "code",
   "execution_count": null,
   "id": "technological-tattoo",
   "metadata": {},
   "outputs": [],
   "source": [
    "plt.figure(figsize=(15, 10))\n",
    "plt.imshow(masked_image, cmap='gray')"
   ]
  },
  {
   "cell_type": "markdown",
   "id": "parliamentary-accordance",
   "metadata": {},
   "source": [
    "Now we're going to build a local threshold. The idea is that flies are fairly sparse (they make up a small part of all the pixels), and that we can get the local lighting / background by using a big enough median filter. Everything more than 30 away from the local lighting is a fly. Since lighting remains constant, we only need to do this once.\n",
    "\n",
    "You can probably do better filters with some tuning and thinking - the goal here is to show that you can use whatever you want as long as the arrays match shape:"
   ]
  },
  {
   "cell_type": "code",
   "execution_count": null,
   "id": "silver-longitude",
   "metadata": {},
   "outputs": [],
   "source": [
    "def local_threshold(image, mask, threshold=30, block_size=31):\n",
    "    background = threshold_local(image, block_size=block_size, method='median', )\n",
    "    # we apply the mask after the background to avoid annoying edge effects\n",
    "    background = test_mask(torch.tensor(background, dtype=torch.uint8), mask)\n",
    "    return background - threshold"
   ]
  },
  {
   "cell_type": "code",
   "execution_count": null,
   "id": "static-demonstration",
   "metadata": {},
   "outputs": [],
   "source": [
    "local_threshold = local_threshold(image, mask, 40, 31) # feed in unmasked image!\n",
    "global_threshold = 120"
   ]
  },
  {
   "cell_type": "code",
   "execution_count": null,
   "id": "welcome-harris",
   "metadata": {},
   "outputs": [],
   "source": [
    "print(local_threshold.shape, image.shape)"
   ]
  },
  {
   "cell_type": "code",
   "execution_count": null,
   "id": "attached-truth",
   "metadata": {},
   "outputs": [],
   "source": [
    "plt.figure(figsize=(15, 10))\n",
    "\n",
    "plt.subplot(121)\n",
    "plt.title(\"Global\")\n",
    "plt.imshow(masked_image < global_threshold, cmap='gray')\n",
    "\n",
    "plt.subplot(122)\n",
    "plt.title(\"Local\")\n",
    "plt.imshow(masked_image < local_threshold, cmap='gray')"
   ]
  },
  {
   "cell_type": "markdown",
   "id": "elegant-louis",
   "metadata": {},
   "source": [
    "To run we can either specify a specific movie or a folder with movies, which should be numbered."
   ]
  },
  {
   "cell_type": "code",
   "execution_count": null,
   "id": "preliminary-footwear",
   "metadata": {},
   "outputs": [],
   "source": [
    "single_movie =  \"../data/experiments/bruno/videos/split/seq_00.mp4\"\n",
    "multiple_movies = \"../data/experiments/bruno/videos/split/\""
   ]
  },
  {
   "cell_type": "markdown",
   "id": "diagnostic-collection",
   "metadata": {},
   "source": [
    "max_change sets the maxium distance flies can move or the frame is skipped (more or less, it's an approximation. 40 seems to be a good choice):"
   ]
  },
  {
   "cell_type": "code",
   "execution_count": null,
   "id": "super-elimination",
   "metadata": {},
   "outputs": [],
   "source": [
    "%%time\n",
    "df = run(\n",
    "    multiple_movies,\n",
    "    mask,\n",
    "    n_arenas=4,\n",
    "    gpu=False,\n",
    "    n_ini=100,\n",
    "    threshold=local_threshold,\n",
    "    max_change=40\n",
    ")"
   ]
  },
  {
   "cell_type": "code",
   "execution_count": null,
   "id": "convenient-documentary",
   "metadata": {},
   "outputs": [],
   "source": [
    "for ID in df.ID.unique():\n",
    "    plt.plot(df.query(f\"ID=={ID}\")[\"x\"], df.query(f\"ID=={ID}\")[\"y\"])"
   ]
  },
  {
   "cell_type": "code",
   "execution_count": null,
   "id": "focal-southwest",
   "metadata": {},
   "outputs": [],
   "source": [
    "df"
   ]
  },
  {
   "cell_type": "markdown",
   "id": "painted-afghanistan",
   "metadata": {},
   "source": []
  }
 ],
 "metadata": {
  "kernelspec": {
   "display_name": "Python 3",
   "language": "python",
   "name": "python3"
  },
  "language_info": {
   "codemirror_mode": {
    "name": "ipython",
    "version": 3
   },
   "file_extension": ".py",
   "mimetype": "text/x-python",
   "name": "python",
   "nbconvert_exporter": "python",
   "pygments_lexer": "ipython3",
   "version": "3.8.3"
  }
 },
 "nbformat": 4,
 "nbformat_minor": 5
}
